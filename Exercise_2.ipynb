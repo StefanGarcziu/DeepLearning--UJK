{
  "nbformat": 4,
  "nbformat_minor": 0,
  "metadata": {
    "accelerator": "GPU",
    "anaconda-cloud": {},
    "colab": {
      "name": "DL_Zad6.2_StepanGarciu_135843",
      "provenance": [],
      "collapsed_sections": [],
      "include_colab_link": true
    },
    "kernelspec": {
      "display_name": "Python 3",
      "name": "python3"
    }
  },
  "cells": [
    {
      "cell_type": "markdown",
      "metadata": {
        "id": "view-in-github",
        "colab_type": "text"
      },
      "source": [
        "<a href=\"https://colab.research.google.com/github/StefanGarcziu/DeepLearning_5semester/blob/main/DL_Zad6_2_StepanGarciu_135843.ipynb\" target=\"_parent\"><img src=\"https://colab.research.google.com/assets/colab-badge.svg\" alt=\"Open In Colab\"/></a>"
      ]
    },
    {
      "cell_type": "markdown",
      "metadata": {
        "id": "oAR9eXS9nmXX"
      },
      "source": [
        "# Modified version of:\n",
        "https://github.com/moritzhambach/Image-Augmentation-in-Keras-CIFAR-10-/blob/master/CNN%20with%20Image%20Augmentation%20(CIFAR10).ipynb \n",
        "\n"
      ]
    },
    {
      "cell_type": "markdown",
      "metadata": {
        "id": "8qBgJ2gkHPGM"
      },
      "source": [
        "### CNN with Image Augmentation (CIFAR10)\n",
        "images of 10 categories: airplane, automobile, bird, cat, deer, dog, frog, horse, ship and truck. In RGB, 32x32 pixels. \n"
      ]
    },
    {
      "cell_type": "markdown",
      "metadata": {
        "id": "TSJ01CTOAlM8"
      },
      "source": [
        "Naszym zadaniem jest zbudować jak najbardziej wydajny program do klasyfikacji zdjęć uczący się na bardzo małej próbce danych. Proponuję użyć rozmiarów próbek treningowych:\n",
        "\n",
        "1.    500 obrazków\n",
        "2.   1000 obrazków\n",
        "3.   5000 obrazków.\n",
        "Za każdym razem używamy 10 000 przypadków jako zbioru testowego. Selekcjonujemy z danych tylko trzy klasy obrazków: samochody, ptaki i samoloty (żeby było łatwiej).\n",
        "\n",
        "To jest tylko szkielet programu - dokonuje klasyfikacji, ale jest daleki od optimum.\n",
        "\n",
        "**Państwa zadaniem jest:**\n",
        "\n",
        "1.   Dodać modyfikację obrazów (augmentacja). Jest to zrobione w formie szkieletowej, wariancje parametrów wynoszą zero. Proponuję na początek zmieniać (ta sama zmienna dla dwóch przesunięć i powiększenia):\n",
        "  *   rotation_range=rotation_range,\n",
        "  *    width_shift_range=shift_range,\n",
        "  *    height_shift_range=shift_range,\n",
        "  *    zoom_range=shift_range  \n",
        "Oczywiście można potem zwiększyć liczbę optymalizowanych parametrów. \n",
        "2. Dodać K-folding np. 5-krotny. Walidację przeprowadamy na 1/5 zbioru treningowego, uczenie na 4/5. Końcowy klasyfikator jest uśrednionym klasyfikatorem z tych pięciu.\n",
        "3. Dodać optymalizację. Optymalizujemy w pierwszym podejściu trzy zmienne:\n",
        "  *   rotation_range\n",
        "  *   shift_range\n",
        "  *   num_filters - liczba filtrów w warstwie ukrytej.\n",
        "\n",
        "  Optymalizujemy **bez użycia** danych testowych, tylko posiłkując się danymi walidacyjnym z k-folding. Można optymalizować np. średnią dokładność (accuracy) wszystkich pięciu sieci z k-foldingu. Optymalizację można najpierw prowadzić dla 5 kroków, jak program będzie już działać to dla 30-50 kroków\n",
        "4. Dla optymalnych parametrów przeprowadzić końcowy trening, narysować \"accuracy\" dla wszystkich sieci z k-foldingu i zbudować końcowy klasyfikator (średnia z wszystkich klasyfikatorów z k-foldingu).\n",
        "5. Znaleźć \"accuracy\" oraz \"confusion matrix\" dla końcowego klasyfikatora. \n",
        "6. Można powtórzyć dla innej liczby obrazków w zbiorze treningowym. \n",
        "\n",
        "7. Można optymalizować także:\n",
        "*  drop_dense2\n",
        "*  drop_conv2\n",
        "*  liczbę \"bloków\" w sieci konwolucyjnej (obecnie trzy)\n",
        "\n",
        "8. UWAGA: sieć zoptymalizowana dla małej liczby obrazków treningowych może nie być optymalna dla ich dużej liczby\n",
        "\n",
        "Dużo pracy, ale to kompletny projekt!!!\n",
        "\n",
        "\n",
        "\n",
        "\n"
      ]
    },
    {
      "cell_type": "code",
      "metadata": {
        "id": "snNjoUZSHPGM",
        "scrolled": true
      },
      "source": [
        "import tensorflow as tf\n",
        "import numpy as np                                \n",
        "import matplotlib.pyplot as plt\n",
        "import keras as k\n",
        "from keras.datasets import cifar10\n",
        "from keras.models import Sequential\n",
        "from keras.layers import Dense, Dropout, Flatten\n",
        "from keras.layers import Conv2D, MaxPooling2D, BatchNormalization\n",
        "from keras.optimizers import SGD, Adam\n",
        "from keras.regularizers import l2\n",
        "import h5py\n",
        "from keras.models import load_model\n",
        "from keras.preprocessing.image import ImageDataGenerator\n",
        "\n",
        "from keras.callbacks import EarlyStopping\n",
        "\n",
        "from sklearn.model_selection import KFold"
      ],
      "execution_count": null,
      "outputs": []
    },
    {
      "cell_type": "code",
      "metadata": {
        "colab": {
          "base_uri": "https://localhost:8080/"
        },
        "id": "gtG1Q2weIxX0",
        "outputId": "1288a10c-c4af-4094-d151-420d0093f3b7"
      },
      "source": [
        "#load data\n",
        "(x_train, y_train), (x_test, y_test) = cifar10.load_data()\n",
        "img_rows, img_cols , channels= 32,32,3\n",
        "\n",
        "# select three classes only and limited number of events\n",
        "\n",
        "N_TRAIN_EXAMPLES = 1000  # very little!!!!\n",
        "#N_TEST_EXAMPLES = 100\n",
        "N_CLASSES = 3\n",
        "\n",
        "print(\"Original data\")\n",
        "print(x_train.shape)\n",
        "print(y_train.shape)\n",
        "print(x_test.shape)\n",
        "print(y_test.shape)\n",
        "\n",
        "indices = np.where(y_train < N_CLASSES) # 3 classes only\n",
        "indices = indices[0]\n",
        "np.random.shuffle(indices)\n",
        "x_train = x_train[indices]\n",
        "y_train = y_train[indices]\n",
        "\n",
        "\n",
        "indices = np.where(y_test < N_CLASSES) # 3 classes only\n",
        "indices = indices[0]\n",
        "np.random.shuffle(indices)\n",
        "x_test = x_test[indices]\n",
        "y_test = y_test[indices]\n",
        "\n",
        "\n",
        "x_train = x_train[:N_TRAIN_EXAMPLES] # only N_TRAIN_EXAMPLES\n",
        "y_train = y_train[:N_TRAIN_EXAMPLES]\n",
        "\n",
        "print(\" \")\n",
        "print(\"Truncated data\")\n",
        "print(x_train.shape)\n",
        "print(y_train.shape)\n",
        "print(x_test.shape)\n",
        "print(y_test.shape)\n",
        "\n"
      ],
      "execution_count": null,
      "outputs": [
        {
          "output_type": "stream",
          "text": [
            "Downloading data from https://www.cs.toronto.edu/~kriz/cifar-10-python.tar.gz\n",
            "170500096/170498071 [==============================] - 3s 0us/step\n",
            "Original data\n",
            "(50000, 32, 32, 3)\n",
            "(50000, 1)\n",
            "(10000, 32, 32, 3)\n",
            "(10000, 1)\n",
            " \n",
            "Truncated data\n",
            "(1000, 32, 32, 3)\n",
            "(1000, 1)\n",
            "(3000, 32, 32, 3)\n",
            "(3000, 1)\n"
          ],
          "name": "stdout"
        }
      ]
    },
    {
      "cell_type": "code",
      "metadata": {
        "colab": {
          "base_uri": "https://localhost:8080/",
          "height": 683
        },
        "id": "6enbAyUMJ-wL",
        "outputId": "32517d36-f15d-4ccc-92ef-626cd5b9a675"
      },
      "source": [
        "# save x_test images\n",
        "xx_test = x_test\n",
        "yy_test = y_test\n",
        "\n",
        "fig = plt.figure(figsize=(12, 12))\n",
        "for i in range(0,9):\n",
        "    plt.subplot(330 + 1 + i)\n",
        "    plt.axis('off')\n",
        "    #print(x_train[i].shape)\n",
        "    plt.imshow(x_train[i])\n",
        "plt.show()"
      ],
      "execution_count": null,
      "outputs": [
        {
          "output_type": "display_data",
          "data": {
            "image/png": "[encoded data removed]",
            "text/plain": [
              "<Figure size 864x864 with 9 Axes>"
            ]
          },
          "metadata": {
            "tags": []
          }
        }
      ]
    },
    {
      "cell_type": "code",
      "metadata": {
        "id": "tZ_muzrBHPGQ"
      },
      "source": [
        "# set up image augmentation\n",
        "\n",
        "rotation_range=30\n",
        "shift_range=0.30\n",
        "\n",
        "datagen = ImageDataGenerator( \n",
        "      rotation_range=rotation_range,\n",
        "      horizontal_flip=True,\n",
        "      width_shift_range=shift_range,\n",
        "      height_shift_range=shift_range,\n",
        "      zoom_range=shift_range\n",
        "      )  \n"
      ],
      "execution_count": null,
      "outputs": []
    },
    {
      "cell_type": "code",
      "metadata": {
        "colab": {
          "base_uri": "https://localhost:8080/",
          "height": 683
        },
        "id": "xu6fdqFnHPGQ",
        "outputId": "13b9469e-30da-4f5f-a127-38daa4eaceb7"
      },
      "source": [
        "# see example augmentation images\n",
        "fig = plt.figure(figsize=(12, 12))\n",
        "for X_batch, y_batch in datagen.flow(x_train, y_train, batch_size=9):\n",
        "    for i in range(0, 9):\n",
        "         plt.subplot(330 + 1 + i)\n",
        "         plt.imshow(X_batch[i].astype(np.uint8))\n",
        "         plt.axis('off')\n",
        "    plt.show()\n",
        "    break\n",
        "\n",
        "   "
      ],
      "execution_count": null,
      "outputs": [
        {
          "output_type": "display_data",
          "data": {
            "image/png": "[encoded data removed]",
            "text/plain": [
              "<Figure size 864x864 with 9 Axes>"
            ]
          },
          "metadata": {
            "tags": []
          }
        }
      ]
    },
    {
      "cell_type": "markdown",
      "metadata": {
        "id": "W5MWp2tgcUoG"
      },
      "source": [
        "Augmentation of a single image"
      ]
    },
    {
      "cell_type": "code",
      "metadata": {
        "colab": {
          "base_uri": "https://localhost:8080/",
          "height": 683
        },
        "id": "LE3aqeqqX6ow",
        "outputId": "7c60c5bb-8ba0-4391-e20f-2b58e994dee3"
      },
      "source": [
        "# see example augmentation images\n",
        "fig = plt.figure(figsize=(12, 12))\n",
        "\n",
        "for i in range(0, 25):\n",
        "    for X_batch, y_batch in datagen.flow(x_train[1:3], y_train[1:3], batch_size=1, shuffle=False):\n",
        "         plt.subplot(5,5,i+1)\n",
        "         plt.imshow(X_batch[0].astype(np.uint8))\n",
        "         plt.axis('off')\n",
        "         break\n",
        "\n",
        "plt.show()\n",
        "    \n"
      ],
      "execution_count": null,
      "outputs": [
        {
          "output_type": "display_data",
          "data": {
            "image/png": "[encoded data removed]",
            "text/plain": [
              "<Figure size 864x864 with 25 Axes>"
            ]
          },
          "metadata": {
            "tags": []
          }
        }
      ]
    },
    {
      "cell_type": "code",
      "metadata": {
        "colab": {
          "base_uri": "https://localhost:8080/"
        },
        "id": "sjtGRbiyHPGR",
        "outputId": "60b5f58f-24ee-49db-ad62-bd734255153d"
      },
      "source": [
        "#reshape into images\n",
        "x_train = x_train.reshape(x_train.shape[0], img_rows, img_cols, channels)\n",
        "x_test = x_test.reshape(x_test.shape[0], img_rows, img_cols, channels)\n",
        "#input_shape = (img_rows, img_cols, 1)\n",
        "print('x_train shape:', x_train.shape)\n",
        "print(x_train.shape[0], 'train samples')\n",
        "print(x_test.shape[0], 'test samples')"
      ],
      "execution_count": null,
      "outputs": [
        {
          "output_type": "stream",
          "text": [
            "x_train shape: (1000, 32, 32, 3)\n",
            "1000 train samples\n",
            "3000 test samples\n"
          ],
          "name": "stdout"
        }
      ]
    },
    {
      "cell_type": "code",
      "metadata": {
        "id": "aEGtafd9HPGR"
      },
      "source": [
        "#convert integers to float; normalise and center the mean\n",
        "x_train=x_train.astype(\"float32\")  \n",
        "x_test=x_test.astype(\"float32\")\n",
        "mean=np.mean(x_train)\n",
        "std=np.std(x_train)\n",
        "x_test=(x_test-mean)/std\n",
        "x_train=(x_train-mean)/std"
      ],
      "execution_count": null,
      "outputs": []
    },
    {
      "cell_type": "code",
      "metadata": {
        "id": "VcXO5V69HPGR"
      },
      "source": [
        " # labels to categorical - output is a vector with length = number of classes\n",
        "y_train = k.utils.to_categorical(y_train, N_CLASSES)\n",
        "y_test = k.utils.to_categorical(y_test, N_CLASSES)"
      ],
      "execution_count": null,
      "outputs": []
    },
    {
      "cell_type": "markdown",
      "metadata": {
        "id": "UL6npA3TfQsW"
      },
      "source": [
        "# **Optuna & K-FOLDING optimization**\n",
        "\n",
        "\n",
        "\n"
      ]
    },
    {
      "cell_type": "markdown",
      "metadata": {
        "id": "yQY12Xt1OJFW"
      },
      "source": [
        "Create convolutional network"
      ]
    },
    {
      "cell_type": "code",
      "metadata": {
        "id": "g2NeeBeXfXaV"
      },
      "source": [
        "def create_model(num_filters2):\n",
        "\n",
        "  #reg=l2(1e-4)   # L2 or \"ridge\" regularisation\n",
        "  reg2=None\n",
        "  #num_filters2=32\n",
        "  ac2='relu'\n",
        "  adm2=Adam(lr=0.001,decay=0, beta_1=0.9, beta_2=0.999, epsilon=1e-08)\n",
        "  opt2=adm2\n",
        "  drop_dense2=0.5\n",
        "  drop_conv2=0\n",
        "\n",
        "  model2 = Sequential()\n",
        "\n",
        "  model2.add(Conv2D(num_filters2, (3, 3), activation=ac2, kernel_regularizer=reg2, input_shape=(img_rows, img_cols, channels),padding='same'))\n",
        "  model2.add(BatchNormalization(axis=-1))\n",
        "  model2.add(Conv2D(num_filters2, (3, 3), activation=ac2,kernel_regularizer=reg2,padding='same'))\n",
        "  model2.add(BatchNormalization(axis=-1))\n",
        "  model2.add(MaxPooling2D(pool_size=(2, 2)))   # reduces to 16x16x3xnum_filters\n",
        "  model2.add(Dropout(drop_conv2))\n",
        "\n",
        "  model2.add(Conv2D(2*num_filters2, (3, 3), activation=ac2,kernel_regularizer=reg2,padding='same'))\n",
        "  model2.add(BatchNormalization(axis=-1))\n",
        "  model2.add(Conv2D(2*num_filters2, (3, 3), activation=ac2,kernel_regularizer=reg2,padding='same'))\n",
        "  model2.add(BatchNormalization(axis=-1))\n",
        "  model2.add(MaxPooling2D(pool_size=(2, 2)))   # reduces to 8x8x3x(2*num_filters)\n",
        "  model2.add(Dropout(drop_conv2))\n",
        "\n",
        "  model2.add(Conv2D(4*num_filters2, (3, 3), activation=ac2,kernel_regularizer=reg2,padding='same'))\n",
        "  model2.add(BatchNormalization(axis=-1))\n",
        "  model2.add(Conv2D(4*num_filters2, (3, 3), activation=ac2,kernel_regularizer=reg2,padding='same'))\n",
        "  model2.add(BatchNormalization(axis=-1))\n",
        "  model2.add(MaxPooling2D(pool_size=(2, 2)))   # reduces to 4x4x3x(4*num_filters)\n",
        "  model2.add(Dropout(drop_conv2))\n",
        "\n",
        "  model2.add(Flatten())\n",
        "  model2.add(Dense(512, activation=ac2,kernel_regularizer=reg2))\n",
        "  model2.add(BatchNormalization())\n",
        "  model2.add(Dropout(drop_dense2))\n",
        "  model2.add(Dense(N_CLASSES, activation='softmax'))\n",
        "\n",
        "  model2.compile(loss='categorical_crossentropy', metrics=['accuracy'],optimizer=opt2)\n",
        "\n",
        "  return model2"
      ],
      "execution_count": null,
      "outputs": []
    },
    {
      "cell_type": "markdown",
      "metadata": {
        "id": "kY2J_SeJOOA2"
      },
      "source": [
        "Fit convolutional network"
      ]
    },
    {
      "cell_type": "code",
      "metadata": {
        "id": "9xh9N4FXgeCa"
      },
      "source": [
        "def fit_model(model2, datagen, x_train, y_train, x_val, y_val):\n",
        "\n",
        "  # train with image augmentation\n",
        "\n",
        "  #es = EarlyStopping(\n",
        "   # monitor=\"val_accuracy\",\n",
        "    #patience=60,\n",
        "    #verbose=1\n",
        "  #)\n",
        "\n",
        "  history2=model2.fit(datagen.flow(x_train, y_train, batch_size=128),\n",
        "                     batch_size=128, epochs=150, validation_data=(x_val, y_val), verbose=0)\n",
        "  return history2, model2"
      ],
      "execution_count": null,
      "outputs": []
    },
    {
      "cell_type": "markdown",
      "metadata": {
        "id": "6TAzXJDbORfd"
      },
      "source": [
        "Optimization using optuna or hyperopt"
      ]
    },
    {
      "cell_type": "code",
      "metadata": {
        "colab": {
          "base_uri": "https://localhost:8080/"
        },
        "id": "oPKpwNpuhHHN",
        "outputId": "0f9ba9e6-f87d-4fab-9af8-45d470ffb447"
      },
      "source": [
        "# OPTUNA\n",
        "\n",
        "! pip install optuna\n",
        "\n",
        "import optuna\n",
        "\n",
        "# or hyperopt\n",
        "# import hyperopt"
      ],
      "execution_count": null,
      "outputs": [
        {
          "output_type": "stream",
          "text": [
            "Collecting optuna\n",
            "\u001b[?25l  Downloading https://files.pythonhosted.org/packages/87/10/06b58f4120f26b603d905a594650440ea1fd74476b8b360dbf01e111469b/optuna-2.3.0.tar.gz (258kB)\n",
            "\r\u001b[K     |█▎                              | 10kB 25.1MB/s eta 0:00:01\r\u001b[K     |██▌                             | 20kB 16.4MB/s eta 0:00:01\r\u001b[K     |███▉                            | 30kB 13.8MB/s eta 0:00:01\r\u001b[K     |█████                           | 40kB 12.7MB/s eta 0:00:01\r\u001b[K     |██████▍                         | 51kB 8.6MB/s eta 0:00:01\r\u001b[K     |███████▋                        | 61kB 9.7MB/s eta 0:00:01\r\u001b[K     |████████▉                       | 71kB 9.6MB/s eta 0:00:01\r\u001b[K     |██████████▏                     | 81kB 9.8MB/s eta 0:00:01\r\u001b[K     |███████████▍                    | 92kB 9.9MB/s eta 0:00:01\r\u001b[K     |████████████▊                   | 102kB 8.6MB/s eta 0:00:01\r\u001b[K     |██████████████                  | 112kB 8.6MB/s eta 0:00:01\r\u001b[K     |███████████████▏                | 122kB 8.6MB/s eta 0:00:01\r\u001b[K     |████████████████▌               | 133kB 8.6MB/s eta 0:00:01\r\u001b[K     |█████████████████▊              | 143kB 8.6MB/s eta 0:00:01\r\u001b[K     |███████████████████             | 153kB 8.6MB/s eta 0:00:01\r\u001b[K     |████████████████████▎           | 163kB 8.6MB/s eta 0:00:01\r\u001b[K     |█████████████████████▌          | 174kB 8.6MB/s eta 0:00:01\r\u001b[K     |██████████████████████▉         | 184kB 8.6MB/s eta 0:00:01\r\u001b[K     |████████████████████████        | 194kB 8.6MB/s eta 0:00:01\r\u001b[K     |█████████████████████████▍      | 204kB 8.6MB/s eta 0:00:01\r\u001b[K     |██████████████████████████▋     | 215kB 8.6MB/s eta 0:00:01\r\u001b[K     |███████████████████████████▉    | 225kB 8.6MB/s eta 0:00:01\r\u001b[K     |█████████████████████████████▏  | 235kB 8.6MB/s eta 0:00:01\r\u001b[K     |██████████████████████████████▍ | 245kB 8.6MB/s eta 0:00:01\r\u001b[K     |███████████████████████████████▊| 256kB 8.6MB/s eta 0:00:01\r\u001b[K     |████████████████████████████████| 266kB 8.6MB/s \n",
            "\u001b[?25h  Installing build dependencies ... \u001b[?25l\u001b[?25hdone\n",
            "  Getting requirements to build wheel ... \u001b[?25l\u001b[?25hdone\n",
            "    Preparing wheel metadata ... \u001b[?25l\u001b[?25hdone\n",
            "Collecting alembic\n",
            "\u001b[?25l  Downloading https://files.pythonhosted.org/packages/12/aa/c261dfd7f4ba6ce4701846a2689a46e2a172e012171de4378fc2926e3bf0/alembic-1.4.3-py2.py3-none-any.whl (159kB)\n",
            "\u001b[K     |████████████████████████████████| 163kB 11.5MB/s \n",
            "\u001b[?25hCollecting cliff\n",
            "\u001b[?25l  Downloading https://files.pythonhosted.org/packages/8a/61/5b64d73b01c1218f55c894b5ec0fb89b32c6960b7f7b3ad9f5ac0c373b9d/cliff-3.5.0-py3-none-any.whl (81kB)\n",
            "\u001b[K     |████████████████████████████████| 81kB 7.8MB/s \n",
            "\u001b[?25hRequirement already satisfied: scipy!=1.4.0 in /usr/local/lib/python3.6/dist-packages (from optuna) (1.4.1)\n",
            "Requirement already satisfied: packaging>=20.0 in /usr/local/lib/python3.6/dist-packages (from optuna) (20.8)\n",
            "Requirement already satisfied: joblib in /usr/local/lib/python3.6/dist-packages (from optuna) (1.0.0)\n",
            "Requirement already satisfied: numpy in /usr/local/lib/python3.6/dist-packages (from optuna) (1.19.5)\n",
            "Collecting colorlog\n",
            "  Downloading https://files.pythonhosted.org/packages/4e/c8/c16d30bbed11a1722060014c246d124582d1f781b26f5859d8dacc3e08e1/colorlog-4.6.2-py2.py3-none-any.whl\n",
            "Requirement already satisfied: sqlalchemy>=1.1.0 in /usr/local/lib/python3.6/dist-packages (from optuna) (1.3.22)\n",
            "Requirement already satisfied: tqdm in /usr/local/lib/python3.6/dist-packages (from optuna) (4.41.1)\n",
            "Collecting cmaes>=0.6.0\n",
            "  Downloading https://files.pythonhosted.org/packages/8d/3c/06c76ec8b54b9b1fad7f35e903fd25010fe3e0d41bd94cea5e6f12e0d651/cmaes-0.7.0-py3-none-any.whl\n",
            "Requirement already satisfied: python-dateutil in /usr/local/lib/python3.6/dist-packages (from alembic->optuna) (2.8.1)\n",
            "Collecting Mako\n",
            "\u001b[?25l  Downloading https://files.pythonhosted.org/packages/a6/37/0e706200d22172eb8fa17d68a7ae22dec7631a0a92266634fb518a88a5b2/Mako-1.1.3-py2.py3-none-any.whl (75kB)\n",
            "\u001b[K     |████████████████████████████████| 81kB 7.5MB/s \n",
            "\u001b[?25hCollecting python-editor>=0.3\n",
            "  Downloading https://files.pythonhosted.org/packages/c6/d3/201fc3abe391bbae6606e6f1d598c15d367033332bd54352b12f35513717/python_editor-1.0.4-py3-none-any.whl\n",
            "Requirement already satisfied: six>=1.10.0 in /usr/local/lib/python3.6/dist-packages (from cliff->optuna) (1.15.0)\n",
            "Collecting stevedore>=2.0.1\n",
            "\u001b[?25l  Downloading https://files.pythonhosted.org/packages/d4/49/b602307aeac3df3384ff1fcd05da9c0376c622a6c48bb5325f28ab165b57/stevedore-3.3.0-py3-none-any.whl (49kB)\n",
            "\u001b[K     |████████████████████████████████| 51kB 6.6MB/s \n",
            "\u001b[?25hCollecting pbr!=2.1.0,>=2.0.0\n",
            "\u001b[?25l  Downloading https://files.pythonhosted.org/packages/fb/48/69046506f6ac61c1eaa9a0d42d22d54673b69e176d30ca98e3f61513e980/pbr-5.5.1-py2.py3-none-any.whl (106kB)\n",
            "\u001b[K     |████████████████████████████████| 112kB 10.3MB/s \n",
            "\u001b[?25hCollecting PrettyTable<0.8,>=0.7.2\n",
            "  Downloading https://files.pythonhosted.org/packages/ef/30/4b0746848746ed5941f052479e7c23d2b56d174b82f4fd34a25e389831f5/prettytable-0.7.2.tar.bz2\n",
            "Requirement already satisfied: pyparsing>=2.1.0 in /usr/local/lib/python3.6/dist-packages (from cliff->optuna) (2.4.7)\n",
            "Requirement already satisfied: PyYAML>=3.12 in /usr/local/lib/python3.6/dist-packages (from cliff->optuna) (3.13)\n",
            "Collecting cmd2!=0.8.3,>=0.8.0\n",
            "\u001b[?25l  Downloading https://files.pythonhosted.org/packages/27/54/af6e2703f064485d717cb311d3f9440cd302a823ba6d80a020b59eae166d/cmd2-1.4.0-py3-none-any.whl (133kB)\n",
            "\u001b[K     |████████████████████████████████| 133kB 18.7MB/s \n",
            "\u001b[?25hRequirement already satisfied: MarkupSafe>=0.9.2 in /usr/local/lib/python3.6/dist-packages (from Mako->alembic->optuna) (1.1.1)\n",
            "Requirement already satisfied: importlib-metadata>=1.7.0; python_version < \"3.8\" in /usr/local/lib/python3.6/dist-packages (from stevedore>=2.0.1->cliff->optuna) (3.3.0)\n",
            "Requirement already satisfied: attrs>=16.3.0 in /usr/local/lib/python3.6/dist-packages (from cmd2!=0.8.3,>=0.8.0->cliff->optuna) (20.3.0)\n",
            "Requirement already satisfied: wcwidth>=0.1.7 in /usr/local/lib/python3.6/dist-packages (from cmd2!=0.8.3,>=0.8.0->cliff->optuna) (0.2.5)\n",
            "Collecting colorama>=0.3.7\n",
            "  Downloading https://files.pythonhosted.org/packages/44/98/5b86278fbbf250d239ae0ecb724f8572af1c91f4a11edf4d36a206189440/colorama-0.4.4-py2.py3-none-any.whl\n",
            "Collecting pyperclip>=1.6\n",
            "  Downloading https://files.pythonhosted.org/packages/6f/4c/0b1d507ad7e8bc31d690d04b4f475e74c2002d060f7994ce8c09612df707/pyperclip-1.8.1.tar.gz\n",
            "Requirement already satisfied: zipp>=0.5 in /usr/local/lib/python3.6/dist-packages (from importlib-metadata>=1.7.0; python_version < \"3.8\"->stevedore>=2.0.1->cliff->optuna) (3.4.0)\n",
            "Requirement already satisfied: typing-extensions>=3.6.4; python_version < \"3.8\" in /usr/local/lib/python3.6/dist-packages (from importlib-metadata>=1.7.0; python_version < \"3.8\"->stevedore>=2.0.1->cliff->optuna) (3.7.4.3)\n",
            "Building wheels for collected packages: optuna\n",
            "  Building wheel for optuna (PEP 517) ... \u001b[?25l\u001b[?25hdone\n",
            "  Created wheel for optuna: filename=optuna-2.3.0-cp36-none-any.whl size=359761 sha256=8e09ca730f26517832e5da2faed51790f6cacac31e7f2ee58b96aae7f61ee666\n",
            "  Stored in directory: /root/.cache/pip/wheels/fa/91/19/64b0ec6b964f89c0695a9dc6db6f851d0b54c5381a5c9cadfb\n",
            "Successfully built optuna\n",
            "Building wheels for collected packages: PrettyTable, pyperclip\n",
            "  Building wheel for PrettyTable (setup.py) ... \u001b[?25l\u001b[?25hdone\n",
            "  Created wheel for PrettyTable: filename=prettytable-0.7.2-cp36-none-any.whl size=13702 sha256=b5233df5b4da1def4a6e0fbe0f76592be864e79030090eafd2451629210724c0\n",
            "  Stored in directory: /root/.cache/pip/wheels/80/34/1c/3967380d9676d162cb59513bd9dc862d0584e045a162095606\n",
            "  Building wheel for pyperclip (setup.py) ... \u001b[?25l\u001b[?25hdone\n",
            "  Created wheel for pyperclip: filename=pyperclip-1.8.1-cp36-none-any.whl size=11120 sha256=4825321d4de1425fb3adfe2fda5e10a74e12e14f81014b42899fb4388badf256\n",
            "  Stored in directory: /root/.cache/pip/wheels/44/10/3a/c830e9bb3db2c93274ea1f213a41fabde0d8cf3794251fad0c\n",
            "Successfully built PrettyTable pyperclip\n",
            "Installing collected packages: Mako, python-editor, alembic, pbr, stevedore, PrettyTable, colorama, pyperclip, cmd2, cliff, colorlog, cmaes, optuna\n",
            "  Found existing installation: prettytable 2.0.0\n",
            "    Uninstalling prettytable-2.0.0:\n",
            "      Successfully uninstalled prettytable-2.0.0\n",
            "Successfully installed Mako-1.1.3 PrettyTable-0.7.2 alembic-1.4.3 cliff-3.5.0 cmaes-0.7.0 cmd2-1.4.0 colorama-0.4.4 colorlog-4.6.2 optuna-2.3.0 pbr-5.5.1 pyperclip-1.8.1 python-editor-1.0.4 stevedore-3.3.0\n"
          ],
          "name": "stdout"
        }
      ]
    },
    {
      "cell_type": "markdown",
      "metadata": {
        "id": "k4HsmoNeQ_Vt"
      },
      "source": [
        "Evaluate model with k-folding"
      ]
    },
    {
      "cell_type": "code",
      "metadata": {
        "id": "zy1cKC5pj0WJ"
      },
      "source": [
        "# evaluate a model using k-fold cross-validation\n",
        "def evaluate_model(dataX, dataY, n_folds=5, datagen=datagen, num_filters=32):\n",
        "\n",
        "  scores=[]\n",
        "  histories=[]\n",
        "  models=[]\n",
        "\n",
        "  # prepare cross validation\n",
        "  kfold = KFold(n_folds, shuffle=True, random_state=1)\n",
        "  # enumerate splits\n",
        "  for train_ix, test_ix in kfold.split(dataX):\n",
        "    # define model\n",
        "      model = create_model(num_filters)\n",
        "    # select rows for train and test\n",
        "      trainX, trainY, testX, testY = dataX[train_ix], dataY[train_ix], dataX[test_ix], dataY[test_ix]\n",
        "    # fit model\n",
        "      history, model = fit_model(model, datagen, trainX, trainY, testX, testY)\n",
        "    # evaluate model\n",
        "      _, acc = model.evaluate(testX, testY, verbose=0)\n",
        "      print('> %.3f' % (acc * 100.0))\n",
        "\t\t# stores scores\n",
        "      scores.append(acc)\n",
        "      histories.append(history)\n",
        "      models.append(model)\n",
        "  return scores, histories, models\n",
        "  # Here implement k-folding\n",
        "  # The next 2 lines should be replaced by k_folding\n",
        "  # select train_ix as indexes of first 80% of traing events and test_ix as last 20%\n",
        "  \n"
      ],
      "execution_count": null,
      "outputs": []
    },
    {
      "cell_type": "markdown",
      "metadata": {
        "id": "64tyvCZvhT6Y"
      },
      "source": [
        "# **Define objective**"
      ]
    },
    {
      "cell_type": "code",
      "metadata": {
        "id": "sqRBFmBghWlu"
      },
      "source": [
        "# here define the hyperopt or optuna objective\n",
        "#def objective(trial):\n",
        "def objective(trial):    \n",
        "    \n",
        "  shift_range=trial.suggest_uniform('shift_range', .00,0.20)\n",
        "  rotation_range=trial.suggest_uniform('rotation_range', .00,30)\n",
        "  num_filters=32\n",
        "    \n",
        "  # set up image augmentation  \n",
        "\n",
        "  datagen = ImageDataGenerator( \n",
        "      rotation_range=rotation_range,\n",
        "      horizontal_flip=True,\n",
        "      width_shift_range=shift_range,\n",
        "      height_shift_range=shift_range,\n",
        "      zoom_range=shift_range\n",
        "  )\n",
        "  datagen.fit(x_train)\n",
        "\n",
        "\n",
        "    #create and evaluate model\n",
        "  scores, histories, models = evaluate_model(x_train, y_train, n_folds=5, datagen=datagen, num_filters=num_filters)\n",
        "\n",
        "  return np.mean(scores)"
      ],
      "execution_count": null,
      "outputs": []
    },
    {
      "cell_type": "markdown",
      "metadata": {
        "id": "oUfYb4-2UrkJ"
      },
      "source": [
        "Run the actual optimization"
      ]
    },
    {
      "cell_type": "code",
      "metadata": {
        "colab": {
          "background_save": true,
          "base_uri": "https://localhost:8080/"
        },
        "id": "svy9Up_-lK05",
        "outputId": "42db5c17-0b17-4d7d-94a0-1a2b35a27f2a"
      },
      "source": [
        "# Here you should call the optuna/hyperopt optimization replacing the line below\n",
        "#objective()\n",
        "study = optuna.create_study(direction='maximize', pruner=optuna.pruners.MedianPruner(), sampler=optuna.samplers.TPESampler() )\n",
        "study.optimize(objective, n_trials=14, timeout=12000)\n"
      ],
      "execution_count": null,
      "outputs": [
        {
          "output_type": "stream",
          "text": [
            "\u001b[32m[I 2021-01-11 17:09:30,156]\u001b[0m A new study created in memory with name: no-name-2ec10ff4-5ac9-438e-9d13-ff42adc38afa\u001b[0m\n"
          ],
          "name": "stderr"
        },
        {
          "output_type": "stream",
          "text": [
            "> 83.000\n",
            "> 82.000\n",
            "> 81.500\n",
            "> 87.500\n"
          ],
          "name": "stdout"
        },
        {
          "output_type": "stream",
          "text": [
            "\u001b[32m[I 2021-01-11 17:15:09,677]\u001b[0m Trial 0 finished with value: 0.8309999942779541 and parameters: {'shift_range': 0.05716036445505888, 'rotation_range': 19.138239357989157}. Best is trial 0 with value: 0.8309999942779541.\u001b[0m\n"
          ],
          "name": "stderr"
        },
        {
          "output_type": "stream",
          "text": [
            "> 81.500\n",
            "> 81.500\n",
            "> 77.000\n",
            "> 80.000\n",
            "> 85.500\n"
          ],
          "name": "stdout"
        },
        {
          "output_type": "stream",
          "text": [
            "\u001b[32m[I 2021-01-11 17:20:33,670]\u001b[0m Trial 1 finished with value: 0.8110000014305114 and parameters: {'shift_range': 0.09038165694944356, 'rotation_range': 14.442636180566861}. Best is trial 0 with value: 0.8309999942779541.\u001b[0m\n"
          ],
          "name": "stderr"
        },
        {
          "output_type": "stream",
          "text": [
            "> 81.500\n",
            "> 80.000\n",
            "> 83.000\n",
            "> 83.500\n",
            "> 83.000\n"
          ],
          "name": "stdout"
        },
        {
          "output_type": "stream",
          "text": [
            "\u001b[32m[I 2021-01-11 17:26:00,268]\u001b[0m Trial 2 finished with value: 0.824999988079071 and parameters: {'shift_range': 0.19585190581752426, 'rotation_range': 11.226368456401488}. Best is trial 0 with value: 0.8309999942779541.\u001b[0m\n"
          ],
          "name": "stderr"
        },
        {
          "output_type": "stream",
          "text": [
            "> 83.000\n",
            "> 86.500\n",
            "> 80.500\n",
            "> 85.500\n",
            "> 80.500\n"
          ],
          "name": "stdout"
        },
        {
          "output_type": "stream",
          "text": [
            "\u001b[32m[I 2021-01-11 17:31:24,246]\u001b[0m Trial 3 finished with value: 0.8260000109672546 and parameters: {'shift_range': 0.15276567099530158, 'rotation_range': 16.532420451733152}. Best is trial 0 with value: 0.8309999942779541.\u001b[0m\n"
          ],
          "name": "stderr"
        },
        {
          "output_type": "stream",
          "text": [
            "> 80.000\n",
            "> 78.500\n",
            "> 82.500\n",
            "> 82.500\n",
            "> 81.500\n"
          ],
          "name": "stdout"
        },
        {
          "output_type": "stream",
          "text": [
            "\u001b[32m[I 2021-01-11 17:36:48,056]\u001b[0m Trial 4 finished with value: 0.8179999947547912 and parameters: {'shift_range': 0.12417451034293309, 'rotation_range': 18.913049038522832}. Best is trial 0 with value: 0.8309999942779541.\u001b[0m\n"
          ],
          "name": "stderr"
        },
        {
          "output_type": "stream",
          "text": [
            "> 84.000\n",
            "> 79.500\n",
            "> 79.500\n",
            "> 80.500\n",
            "> 88.500\n"
          ],
          "name": "stdout"
        },
        {
          "output_type": "stream",
          "text": [
            "\u001b[32m[I 2021-01-11 17:42:11,660]\u001b[0m Trial 5 finished with value: 0.8240000009536743 and parameters: {'shift_range': 0.10721424162896392, 'rotation_range': 28.16171306876207}. Best is trial 0 with value: 0.8309999942779541.\u001b[0m\n"
          ],
          "name": "stderr"
        },
        {
          "output_type": "stream",
          "text": [
            "> 84.000\n",
            "> 73.000\n",
            "> 79.000\n",
            "> 81.500\n",
            "> 83.500\n"
          ],
          "name": "stdout"
        },
        {
          "output_type": "stream",
          "text": [
            "\u001b[32m[I 2021-01-11 17:47:34,269]\u001b[0m Trial 6 finished with value: 0.7990000009536743 and parameters: {'shift_range': 0.04934562633755504, 'rotation_range': 21.710906048366166}. Best is trial 0 with value: 0.8309999942779541.\u001b[0m\n"
          ],
          "name": "stderr"
        },
        {
          "output_type": "stream",
          "text": [
            "> 82.500\n",
            "> 79.000\n",
            "> 79.000\n",
            "> 80.500\n",
            "> 84.000\n"
          ],
          "name": "stdout"
        },
        {
          "output_type": "stream",
          "text": [
            "\u001b[32m[I 2021-01-11 17:52:59,149]\u001b[0m Trial 7 finished with value: 0.8009999990463257 and parameters: {'shift_range': 0.14876072161955414, 'rotation_range': 13.386641504081581}. Best is trial 0 with value: 0.8309999942779541.\u001b[0m\n"
          ],
          "name": "stderr"
        },
        {
          "output_type": "stream",
          "text": [
            "> 78.000\n",
            "> 81.500\n",
            "> 79.000\n",
            "> 77.000\n",
            "> 87.500\n"
          ],
          "name": "stdout"
        },
        {
          "output_type": "stream",
          "text": [
            "\u001b[32m[I 2021-01-11 17:58:25,454]\u001b[0m Trial 8 finished with value: 0.8090000033378602 and parameters: {'shift_range': 0.17133723917187127, 'rotation_range': 1.022674813541613}. Best is trial 0 with value: 0.8309999942779541.\u001b[0m\n"
          ],
          "name": "stderr"
        },
        {
          "output_type": "stream",
          "text": [
            "> 79.500\n",
            "> 77.000\n",
            "> 78.500\n",
            "> 80.500\n",
            "> 80.000\n"
          ],
          "name": "stdout"
        },
        {
          "output_type": "stream",
          "text": [
            "\u001b[32m[I 2021-01-11 18:03:47,261]\u001b[0m Trial 9 finished with value: 0.7900000095367432 and parameters: {'shift_range': 0.0025778199772642954, 'rotation_range': 4.966383425756361}. Best is trial 0 with value: 0.8309999942779541.\u001b[0m\n"
          ],
          "name": "stderr"
        },
        {
          "output_type": "stream",
          "text": [
            "> 79.000\n",
            "> 79.000\n",
            "> 75.500\n",
            "> 76.500\n",
            "> 81.500\n"
          ],
          "name": "stdout"
        },
        {
          "output_type": "stream",
          "text": [
            "\u001b[32m[I 2021-01-11 18:09:13,250]\u001b[0m Trial 10 finished with value: 0.7860000014305115 and parameters: {'shift_range': 0.0017079393347279453, 'rotation_range': 28.96317462978717}. Best is trial 0 with value: 0.8309999942779541.\u001b[0m\n"
          ],
          "name": "stderr"
        },
        {
          "output_type": "stream",
          "text": [
            "> 80.500\n",
            "> 80.500\n",
            "> 79.500\n",
            "> 81.000\n",
            "> 82.500\n"
          ],
          "name": "stdout"
        },
        {
          "output_type": "stream",
          "text": [
            "\u001b[32m[I 2021-01-11 18:14:38,393]\u001b[0m Trial 11 finished with value: 0.806000006198883 and parameters: {'shift_range': 0.05454437843207837, 'rotation_range': 22.114039306168312}. Best is trial 0 with value: 0.8309999942779541.\u001b[0m\n"
          ],
          "name": "stderr"
        },
        {
          "output_type": "stream",
          "text": [
            "> 79.500\n",
            "> 85.000\n",
            "> 83.000\n",
            "> 81.500\n",
            "> 86.500\n"
          ],
          "name": "stdout"
        },
        {
          "output_type": "stream",
          "text": [
            "\u001b[32m[I 2021-01-11 18:20:02,404]\u001b[0m Trial 12 finished with value: 0.8330000042915344 and parameters: {'shift_range': 0.0633850323472889, 'rotation_range': 8.885498781634727}. Best is trial 12 with value: 0.8330000042915344.\u001b[0m\n"
          ],
          "name": "stderr"
        },
        {
          "output_type": "stream",
          "text": [
            "> 80.500\n",
            "> 85.500\n",
            "> 83.500\n",
            "> 82.000\n",
            "> 89.000\n"
          ],
          "name": "stdout"
        },
        {
          "output_type": "stream",
          "text": [
            "\u001b[32m[I 2021-01-11 18:25:27,516]\u001b[0m Trial 13 finished with value: 0.8409999966621399 and parameters: {'shift_range': 0.046144027865844026, 'rotation_range': 7.4868080910802846}. Best is trial 13 with value: 0.8409999966621399.\u001b[0m\n"
          ],
          "name": "stderr"
        },
        {
          "output_type": "stream",
          "text": [
            "> 80.500\n"
          ],
          "name": "stdout"
        }
      ]
    },
    {
      "cell_type": "markdown",
      "metadata": {
        "id": "YHV4Q9DsU15I"
      },
      "source": [
        "Print the results"
      ]
    },
    {
      "cell_type": "code",
      "metadata": {
        "colab": {
          "background_save": true,
          "base_uri": "https://localhost:8080/"
        },
        "id": "EKFgcRc2BIXz",
        "outputId": "769d78e6-30ab-458c-ed1e-e7817515c63b"
      },
      "source": [
        "print(\"Number of finished trials: {}\".format(len(study.trials)))\n",
        "\n",
        "print(\"Best trial:\")\n",
        "trial = study.best_trial\n",
        "\n",
        "print(\"  Value: {}\".format(trial.value))\n",
        "\n",
        "print(\"  Params: \")\n",
        "for key, value in trial.params.items():\n",
        "        print(\"    {}: {}\".format(key, value))"
      ],
      "execution_count": null,
      "outputs": [
        {
          "output_type": "stream",
          "text": [
            "Number of finished trials: 14\n",
            "Best trial:\n",
            "  Value: 0.8409999966621399\n",
            "  Params: \n",
            "    shift_range: 0.046144027865844026\n",
            "    rotation_range: 7.4868080910802846\n"
          ],
          "name": "stdout"
        }
      ]
    },
    {
      "cell_type": "code",
      "metadata": {
        "colab": {
          "background_save": true
        },
        "id": "56DCtz9NLFTc"
      },
      "source": [
        "def create_model_2(num_filters2,drop_dense2):\r\n",
        "\r\n",
        "  #reg=l2(1e-4)   # L2 or \"ridge\" regularisation\r\n",
        "  reg2=None\r\n",
        "  #num_filters2=32\r\n",
        "  ac2='relu'\r\n",
        "  adm2=Adam(lr=0.001,decay=0, beta_1=0.9, beta_2=0.999, epsilon=1e-08)\r\n",
        "  opt2=adm2\r\n",
        "  drop_dense2=drop_dense2\r\n",
        "  drop_conv2=0\r\n",
        "\r\n",
        "  model2 = Sequential()\r\n",
        "\r\n",
        "  model2.add(Conv2D(num_filters2, (3, 3), activation=ac2, kernel_regularizer=reg2, input_shape=(img_rows, img_cols, channels),padding='same'))\r\n",
        "  model2.add(BatchNormalization(axis=-1))\r\n",
        "  model2.add(Conv2D(num_filters2, (3, 3), activation=ac2,kernel_regularizer=reg2,padding='same'))\r\n",
        "  model2.add(BatchNormalization(axis=-1))\r\n",
        "  model2.add(MaxPooling2D(pool_size=(2, 2)))   # reduces to 16x16x3xnum_filters\r\n",
        "  model2.add(Dropout(drop_conv2))\r\n",
        "\r\n",
        "  model2.add(Conv2D(2*num_filters2, (3, 3), activation=ac2,kernel_regularizer=reg2,padding='same'))\r\n",
        "  model2.add(BatchNormalization(axis=-1))\r\n",
        "  model2.add(Conv2D(2*num_filters2, (3, 3), activation=ac2,kernel_regularizer=reg2,padding='same'))\r\n",
        "  model2.add(BatchNormalization(axis=-1))\r\n",
        "  model2.add(MaxPooling2D(pool_size=(2, 2)))   # reduces to 8x8x3x(2*num_filters)\r\n",
        "  model2.add(Dropout(drop_conv2))\r\n",
        "\r\n",
        "  model2.add(Conv2D(4*num_filters2, (3, 3), activation=ac2,kernel_regularizer=reg2,padding='same'))\r\n",
        "  model2.add(BatchNormalization(axis=-1))\r\n",
        "  model2.add(Conv2D(4*num_filters2, (3, 3), activation=ac2,kernel_regularizer=reg2,padding='same'))\r\n",
        "  model2.add(BatchNormalization(axis=-1))\r\n",
        "  model2.add(MaxPooling2D(pool_size=(2, 2)))   # reduces to 4x4x3x(4*num_filters)\r\n",
        "  model2.add(Dropout(drop_conv2))\r\n",
        "\r\n",
        "  model2.add(Flatten())\r\n",
        "  model2.add(Dense(512, activation=ac2,kernel_regularizer=reg2))\r\n",
        "  model2.add(BatchNormalization())\r\n",
        "  model2.add(Dropout(drop_dense2))\r\n",
        "  model2.add(Dense(N_CLASSES, activation='softmax'))\r\n",
        "\r\n",
        "  model2.compile(loss='categorical_crossentropy', metrics=['accuracy'],optimizer=opt2)\r\n",
        "\r\n",
        "  return model2"
      ],
      "execution_count": null,
      "outputs": []
    },
    {
      "cell_type": "code",
      "metadata": {
        "colab": {
          "background_save": true
        },
        "id": "QgOLa2OiLFli"
      },
      "source": [
        "# evaluate a model using k-fold cross-validation\r\n",
        "def evaluate_model_2(dataX, dataY, n_folds=5, datagen=datagen, num_filters=32, drop_dense2=0.5):\r\n",
        "\r\n",
        "  scores=[]\r\n",
        "  histories=[]\r\n",
        "  models=[]\r\n",
        "\r\n",
        "  # prepare cross validation\r\n",
        "  kfold = KFold(n_folds, shuffle=True, random_state=1)\r\n",
        "  # enumerate splits\r\n",
        "  for train_ix, test_ix in kfold.split(dataX):\r\n",
        "    # define model\r\n",
        "      model = create_model_2(num_filters,drop_dense2)\r\n",
        "    # select rows for train and test\r\n",
        "      trainX, trainY, testX, testY = dataX[train_ix], dataY[train_ix], dataX[test_ix], dataY[test_ix]\r\n",
        "    # fit model\r\n",
        "      history, model = fit_model(model, datagen, trainX, trainY, testX, testY)\r\n",
        "    # evaluate model\r\n",
        "      _, acc = model.evaluate(testX, testY, verbose=0)\r\n",
        "      print('> %.3f' % (acc * 100.0))\r\n",
        "\t\t# stores scores\r\n",
        "      scores.append(acc)\r\n",
        "      histories.append(history)\r\n",
        "      models.append(model)\r\n",
        "  return scores, histories, models"
      ],
      "execution_count": null,
      "outputs": []
    },
    {
      "cell_type": "code",
      "metadata": {
        "colab": {
          "background_save": true
        },
        "id": "v9Q4o_cYLGFc"
      },
      "source": [
        "def objective_2(trial):    \r\n",
        "    \r\n",
        "  rotation_range=trial.params.get('rotation_range')\r\n",
        "  shift_range=trial.params.get('shift_range')\r\n",
        "  num_filters=trial.suggest_uniform('num_filters', .00,45)\r\n",
        "  zoom_range=0.13118854236599461\r\n",
        "  drop_dense2=trial.suggest_uniform('drop_dense2', .00,0.9)\r\n",
        "    \r\n",
        "  # set up image augmentation  \r\n",
        "\r\n",
        "  datagen = ImageDataGenerator( \r\n",
        "      rotation_range=rotation_range,\r\n",
        "      horizontal_flip=True,\r\n",
        "      width_shift_range=shift_range,\r\n",
        "      height_shift_range=shift_range,\r\n",
        "      zoom_range=zoom_range\r\n",
        "  )\r\n",
        "  datagen.fit(x_train)\r\n",
        "\r\n",
        "\r\n",
        "    #create and evaluate model\r\n",
        "  scores, histories, models = evaluate_model_2(x_train, y_train, n_folds=5, datagen=datagen, num_filters=num_filters,drop_dense2=drop_dense2 )\r\n",
        "\r\n",
        "  return np.mean(scores)"
      ],
      "execution_count": null,
      "outputs": []
    },
    {
      "cell_type": "code",
      "metadata": {
        "colab": {
          "base_uri": "https://localhost:8080/"
        },
        "id": "oXpycb5OLGXa",
        "outputId": "302b7b1f-49f8-4dcd-e171-0f965cb49d21"
      },
      "source": [
        "study = optuna.create_study(direction='maximize', pruner=optuna.pruners.MedianPruner(), sampler=optuna.samplers.TPESampler() )\r\n",
        "study.optimize(objective_2, n_trials=14, timeout=12000)"
      ],
      "execution_count": null,
      "outputs": [
        {
          "output_type": "stream",
          "text": [
            "\u001b[32m[I 2021-01-11 18:25:27,609]\u001b[0m A new study created in memory with name: no-name-75e86fa7-dd86-4abe-a4a1-3716c5613252\u001b[0m\n"
          ],
          "name": "stderr"
        }
      ]
    },
    {
      "cell_type": "code",
      "metadata": {
        "id": "vQatXINVLGtf"
      },
      "source": [
        "print(\"Number of finished trials: {}\".format(len(study.trials)))\r\n",
        "\r\n",
        "print(\"Best trial:\")\r\n",
        "trial = study.best_trial\r\n",
        "\r\n",
        "print(\"  Value: {}\".format(trial.value))\r\n",
        "\r\n",
        "print(\"  Params: \")\r\n",
        "for key, value in trial.params.items():\r\n",
        "        print(\"    {}: {}\".format(key, value))"
      ],
      "execution_count": null,
      "outputs": []
    },
    {
      "cell_type": "code",
      "metadata": {
        "id": "JHaqt0jwLID0"
      },
      "source": [
        "def create_model_3(num_filters2):\r\n",
        "\r\n",
        "  #reg=l2(1e-4)   # L2 or \"ridge\" regularisation\r\n",
        "  reg2=None\r\n",
        "  #num_filters2=32\r\n",
        "  ac2='relu'\r\n",
        "  adm2=Adam(lr=0.001,decay=0, beta_1=0.9, beta_2=0.999, epsilon=1e-08)\r\n",
        "  opt2=adm2\r\n",
        "  drop_dense2=trial.params.get('drop_dense2')\r\n",
        "  drop_conv2=0\r\n",
        "\r\n",
        "  model2 = Sequential()\r\n",
        "\r\n",
        "  model2.add(Conv2D(num_filters2, (3, 3), activation=ac2, kernel_regularizer=reg2, input_shape=(img_rows, img_cols, channels),padding='same'))\r\n",
        "  model2.add(BatchNormalization(axis=-1))\r\n",
        "  model2.add(Conv2D(num_filters2, (3, 3), activation=ac2,kernel_regularizer=reg2,padding='same'))\r\n",
        "  model2.add(BatchNormalization(axis=-1))\r\n",
        "  model2.add(MaxPooling2D(pool_size=(2, 2)))   # reduces to 16x16x3xnum_filters\r\n",
        "  model2.add(Dropout(drop_conv2))\r\n",
        "\r\n",
        "  model2.add(Conv2D(2*num_filters2, (3, 3), activation=ac2,kernel_regularizer=reg2,padding='same'))\r\n",
        "  model2.add(BatchNormalization(axis=-1))\r\n",
        "  model2.add(Conv2D(2*num_filters2, (3, 3), activation=ac2,kernel_regularizer=reg2,padding='same'))\r\n",
        "  model2.add(BatchNormalization(axis=-1))\r\n",
        "  model2.add(MaxPooling2D(pool_size=(2, 2)))   # reduces to 8x8x3x(2*num_filters)\r\n",
        "  model2.add(Dropout(drop_conv2))\r\n",
        "\r\n",
        "  model2.add(Conv2D(4*num_filters2, (3, 3), activation=ac2,kernel_regularizer=reg2,padding='same'))\r\n",
        "  model2.add(BatchNormalization(axis=-1))\r\n",
        "  model2.add(Conv2D(4*num_filters2, (3, 3), activation=ac2,kernel_regularizer=reg2,padding='same'))\r\n",
        "  model2.add(BatchNormalization(axis=-1))\r\n",
        "  model2.add(MaxPooling2D(pool_size=(2, 2)))   # reduces to 4x4x3x(4*num_filters)\r\n",
        "  model2.add(Dropout(drop_conv2))\r\n",
        "\r\n",
        "  model2.add(Flatten())\r\n",
        "  model2.add(Dense(512, activation=ac2,kernel_regularizer=reg2))\r\n",
        "  model2.add(BatchNormalization())\r\n",
        "  model2.add(Dropout(drop_dense2))\r\n",
        "  model2.add(Dense(N_CLASSES, activation='softmax'))\r\n",
        "\r\n",
        "  model2.compile(loss='categorical_crossentropy', metrics=['accuracy'],optimizer=opt2)\r\n",
        "\r\n",
        "  return model2"
      ],
      "execution_count": null,
      "outputs": []
    },
    {
      "cell_type": "code",
      "metadata": {
        "id": "wWRD-Y7rRzqE"
      },
      "source": [
        "def evaluate_model_3(dataX, dataY, n_folds=5, datagen=datagen, num_filters=32):\r\n",
        "\r\n",
        "  scores=[]\r\n",
        "  histories=[]\r\n",
        "  models=[]\r\n",
        "\r\n",
        "  # prepare cross validation\r\n",
        "  kfold = KFold(n_folds, shuffle=True, random_state=1)\r\n",
        "  # enumerate splits\r\n",
        "  for train_ix, test_ix in kfold.split(dataX):\r\n",
        "    # define model\r\n",
        "      model = create_model_3(num_filters)\r\n",
        "    # select rows for train and test\r\n",
        "      trainX, trainY, testX, testY = dataX[train_ix], dataY[train_ix], dataX[test_ix], dataY[test_ix]\r\n",
        "    # fit model\r\n",
        "      history, model = fit_model(model, datagen, trainX, trainY, testX, testY)\r\n",
        "    # evaluate model\r\n",
        "      _, acc = model.evaluate(testX, testY, verbose=0)\r\n",
        "      print('> %.3f' % (acc * 100.0))\r\n",
        "\t\t# stores scores\r\n",
        "      scores.append(acc)\r\n",
        "      histories.append(history)\r\n",
        "      models.append(model)\r\n",
        "  return scores, histories, models"
      ],
      "execution_count": null,
      "outputs": []
    },
    {
      "cell_type": "markdown",
      "metadata": {
        "id": "HKZrlw5WXupN"
      },
      "source": [
        "# **Train with optimized parameters**"
      ]
    },
    {
      "cell_type": "code",
      "metadata": {
        "id": "5pC1aW2dZiNB"
      },
      "source": [
        "shift_range=shift_range\n",
        "rotation_range=rotation_range\n",
        "num_filters=trial.params.get('num_filters')\n",
        "\n",
        "# here you should get parameters from optimization (the lines below should be updated)\n",
        "#num_filters = 32\n",
        "#rotation_range = 5\n",
        "#shift_range = 0.1\n",
        "\n",
        "\n",
        "# set up image augmentation\n",
        "datagen = ImageDataGenerator( \n",
        "      rotation_range=rotation_range,\n",
        "      horizontal_flip=True,\n",
        "      width_shift_range=shift_range,\n",
        "      height_shift_range=shift_range,\n",
        "      zoom_range=shift_range\n",
        ")\n",
        "datagen.fit(x_train)\n",
        "\n",
        "\n",
        "#create and evaluate model\n",
        "scores, histories, models = evaluate_model_3(x_train, y_train, n_folds=5, datagen=datagen)"
      ],
      "execution_count": null,
      "outputs": []
    },
    {
      "cell_type": "markdown",
      "metadata": {
        "id": "mwuJ4taWNmXb"
      },
      "source": [
        "# **Make plots**"
      ]
    },
    {
      "cell_type": "code",
      "metadata": {
        "id": "XS6OcC2NP0ns"
      },
      "source": [
        " \n",
        "# plot diagnostic learning curves\n",
        "def summarize_diagnostics(histories):\n",
        "  plt.figure(figsize=(10,10))\n",
        "  for i in range(len(histories)):\n",
        "\t\t# plot loss\n",
        "    plt.subplot(2, 1, 1)\n",
        "    plt.title('Loss')\n",
        "    plt.plot(histories[i].history['loss'], color='blue', label='train')\n",
        "    plt.plot(histories[i].history['val_loss'], color='orange', label='test')\n",
        "    #plt.ylim(0,0.1)\n",
        "    plt.legend(['loss','val_loss'])\n",
        "    # plot accuracy\n",
        "    plt.subplot(2, 1, 2)\n",
        "    plt.title('Classification Accuracy')\n",
        "    plt.plot(histories[i].history['accuracy'], color='blue', label='train')\n",
        "    plt.plot(histories[i].history['val_accuracy'], color='orange', label='test')\n",
        "    #plt.ylim(0.9,1)\n",
        "    plt.legend(['accuracy','val_accuracy'])\n",
        "  plt.show()\n",
        " \n",
        "# summarize model performance\n",
        "def summarize_performance(scores):\n",
        "\t# print summary\n",
        "  print('Accuracy: mean=%.3f std=%.3f, n=%d' % (np.mean(scores)*100, np.std(scores)*100, len(scores)))\n",
        "\t# box and whisker plots of results\n",
        "  plt.figure(figsize=(10,10))\n",
        "  plt.boxplot(scores)\n",
        "  plt.show()"
      ],
      "execution_count": null,
      "outputs": []
    },
    {
      "cell_type": "markdown",
      "metadata": {
        "id": "qroFE6mfQF0B"
      },
      "source": [
        "# **Summarize**"
      ]
    },
    {
      "cell_type": "code",
      "metadata": {
        "id": "_5xq15-IQJL6"
      },
      "source": [
        "# learning curves\n",
        "summarize_diagnostics(histories)\n",
        "# summarize estimated performance\n",
        "summarize_performance(scores)\n",
        " \n",
        "print(\"Scores: \",scores)"
      ],
      "execution_count": null,
      "outputs": []
    },
    {
      "cell_type": "markdown",
      "metadata": {
        "id": "f7VizuVYXUwu"
      },
      "source": [
        "# **Ensamble of networks - build one classifier as an average of n models from variable models**"
      ]
    },
    {
      "cell_type": "code",
      "metadata": {
        "id": "t5dvfNQXXZwX"
      },
      "source": [
        "# make predictions\n",
        "yhats = [model.predict(x_test) for model in models]\n",
        "yhats = np.array(yhats)\n",
        "#print(yhats)\n",
        "# sum across ensembles\n",
        "summed = np.sum(yhats, axis=0)/len(models)\n",
        "#print(summed)\n",
        "# argmax across classes\n",
        "outcomes = np.argmax(summed, axis=1)\n",
        "#print(outcomes.shape)\n",
        "#print(outcomes)\n",
        "# true outcomes\n",
        "outcomes_true = np.argmax(y_test,axis = 1)\n",
        "#print(outcomes_true.shape)\n",
        "#print(outcomes_true)\n",
        "\n",
        "score = (len(outcomes) - np.count_nonzero(outcomes-outcomes_true))/len(outcomes)\n",
        "\n",
        "print(\"Ensamble test accuracy: \",score*100.,\"%\")\n"
      ],
      "execution_count": null,
      "outputs": []
    },
    {
      "cell_type": "code",
      "metadata": {
        "id": "lLxgrB0NDz_3"
      },
      "source": [
        "# Confusion matrix result\n",
        "\n",
        "from sklearn.metrics import classification_report, confusion_matrix\n",
        "\n",
        "\n",
        "#confusion matrix\n",
        "cm = confusion_matrix(outcomes_true,outcomes)\n",
        "print(cm)\n",
        "\n"
      ],
      "execution_count": null,
      "outputs": []
    },
    {
      "cell_type": "markdown",
      "metadata": {
        "id": "Uf5HQtggY2Vz"
      },
      "source": [
        "\n",
        "\n",
        "# **Plot images for the ensamble of models**"
      ]
    },
    {
      "cell_type": "code",
      "metadata": {
        "id": "ymfi-YVOY2Wf"
      },
      "source": [
        "def plot_images2(y_pred, y_pred_prob):\n",
        "# Names of predicted classes (randomly chosen images)\n",
        "\n",
        "  import random\n",
        "\n",
        "\n",
        "  class_names = [\"airplane\", \"automobile\", \"bird\", \"cat\", \"deer\", \"dog\", \"frog\", \"horse\", \"ship\", \"truck\"]\n",
        "\n",
        "  #y_pred = model2.predict_classes(x_test)\n",
        "  #y_pred_prob = model2.predict(x_test)\n",
        "\n",
        "  grid_w = 10\n",
        "  grid_h = 10\n",
        "\n",
        "  fig = plt.figure(figsize=(20, 40))\n",
        "  for i in range(0,grid_w*grid_h):\n",
        "    i_pos = 2*(int(i/grid_w))*grid_w+ i%grid_w + 1\n",
        "    #print(i_pos)\n",
        "    plt.subplot(2*grid_h, grid_w, i_pos)\n",
        "    i_img = random.randint(0,len(xx_test))\n",
        "    plt.imshow(xx_test[i_img])\n",
        "    #plt.bar([0,1,2,3,4,5,6,7,8,9],y_test[i_img])\n",
        "    plt.axis('off')\n",
        "    if yy_test[i_img] == y_pred[i_img]:\n",
        "      plt.text(0, -2, class_names[int(yy_test[i_img])], color='green', fontsize=12)\n",
        "    else:\n",
        "      plt.text(0, -2, class_names[int(yy_test[i_img])]+\" \"+class_names[y_pred[i_img]], color='red', fontsize=12)  \n",
        "    plt.subplot(2*grid_h, grid_w, i_pos + grid_w)\n",
        "    xbar = np.linspace(1, N_CLASSES, num=N_CLASSES)\n",
        "    plt.bar(xbar,y_pred_prob[i_img])\n",
        "    plt.axis('off')\n",
        "\n",
        "  plt.show()\n"
      ],
      "execution_count": null,
      "outputs": []
    },
    {
      "cell_type": "code",
      "metadata": {
        "id": "cO8F9EWZY2Wh"
      },
      "source": [
        "plot_images2(outcomes,summed)"
      ],
      "execution_count": null,
      "outputs": []
    },
    {
      "cell_type": "markdown",
      "metadata": {
        "id": "jRePUL7XWQtC"
      },
      "source": [
        "## Visualizing the Optimization History"
      ]
    },
    {
      "cell_type": "code",
      "metadata": {
        "id": "2K0KNXBIWQtC"
      },
      "source": [
        "from optuna.visualization import plot_optimization_history\n",
        "\n",
        "plot_optimization_history(study)"
      ],
      "execution_count": null,
      "outputs": []
    },
    {
      "cell_type": "markdown",
      "metadata": {
        "id": "OeL4FGcZWQtE"
      },
      "source": [
        "## Visualizing High-dimensional Parameter Relationships"
      ]
    },
    {
      "cell_type": "code",
      "metadata": {
        "id": "aq42Sf07WQtF"
      },
      "source": [
        "from optuna.visualization import plot_parallel_coordinate\n",
        "\n",
        "plot_parallel_coordinate(study)"
      ],
      "execution_count": null,
      "outputs": []
    },
    {
      "cell_type": "markdown",
      "metadata": {
        "id": "P0dTS1crWQtF"
      },
      "source": [
        "## Visualizing Parameter Relationships"
      ]
    },
    {
      "cell_type": "code",
      "metadata": {
        "id": "q2cxMKtkWQtF"
      },
      "source": [
        "from optuna.visualization import plot_contour\n",
        "\n",
        "plot_contour(study)"
      ],
      "execution_count": null,
      "outputs": []
    },
    {
      "cell_type": "markdown",
      "metadata": {
        "id": "LgJwzjCaWQtF"
      },
      "source": [
        "## Visualizing Individual Parameters"
      ]
    },
    {
      "cell_type": "code",
      "metadata": {
        "id": "YgV8JzH7WQtF"
      },
      "source": [
        "from optuna.visualization import plot_slice\n",
        "\n",
        "plot_slice(study)"
      ],
      "execution_count": null,
      "outputs": []
    },
    {
      "cell_type": "markdown",
      "metadata": {
        "id": "pRuVvWaoWQtF"
      },
      "source": [
        "## Visualizing Parameter Importances"
      ]
    },
    {
      "cell_type": "code",
      "metadata": {
        "id": "akCMURHCWQtF"
      },
      "source": [
        "from optuna.visualization import plot_param_importances\n",
        "\n",
        "plot_param_importances(study)"
      ],
      "execution_count": null,
      "outputs": []
    }
  ]
}
