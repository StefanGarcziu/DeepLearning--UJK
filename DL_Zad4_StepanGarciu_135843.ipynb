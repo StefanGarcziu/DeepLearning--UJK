{
  "nbformat": 4,
  "nbformat_minor": 0,
  "metadata": {
    "colab": {
      "name": "DL_Zad4_StepanGarciu_135843.ipynb",
      "provenance": [],
      "collapsed_sections": [],
      "authorship_tag": "ABX9TyPvSg4TxVJ47CYFqdeNsXje",
      "include_colab_link": true
    },
    "kernelspec": {
      "name": "python3",
      "display_name": "Python 3"
    },
    "accelerator": "GPU"
  },
  "cells": [
    {
      "cell_type": "markdown",
      "metadata": {
        "id": "view-in-github",
        "colab_type": "text"
      },
      "source": [
        "<a href=\"https://colab.research.google.com/github/StefanGarcziu/DeepLearning_5semester/blob/main/DL_Zad4_StepanGarciu_135843.ipynb\" target=\"_parent\"><img src=\"https://colab.research.google.com/assets/colab-badge.svg\" alt=\"Open In Colab\"/></a>"
      ]
    },
    {
      "cell_type": "markdown",
      "metadata": {
        "id": "5UcT5q_DicHS"
      },
      "source": [
        "# **A regression example**"
      ]
    },
    {
      "cell_type": "markdown",
      "metadata": {
        "id": "YFt_zIZ8ig4Z"
      },
      "source": [
        "Common type of machine learning problem is \"regression\", which consists of predicting a continuous value instead of a discrete label. For instance, predicting the temperature tomorrow, given meteorological data, or predicting the time that a software project will take to complete, given its specifications."
      ]
    },
    {
      "cell_type": "code",
      "metadata": {
        "id": "-6zck9O2iq64"
      },
      "source": [
        "from keras.models import Sequential\r\n",
        "from keras.layers import Activation, Dense, Dropout\r\n",
        "from keras import optimizers\r\n",
        "from keras.callbacks import EarlyStopping\r\n",
        "\r\n",
        "import numpy as np\r\n",
        "import matplotlib.pyplot as plt\r\n"
      ],
      "execution_count": 1,
      "outputs": []
    },
    {
      "cell_type": "code",
      "metadata": {
        "colab": {
          "base_uri": "https://localhost:8080/"
        },
        "id": "12_3agrRpV4w",
        "outputId": "89cc7267-a973-427c-dab2-44211d260f4a"
      },
      "source": [
        "# install optuna\r\n",
        "! pip install optuna"
      ],
      "execution_count": 2,
      "outputs": [
        {
          "output_type": "stream",
          "text": [
            "Requirement already satisfied: optuna in /usr/local/lib/python3.6/dist-packages (2.3.0)\n",
            "Requirement already satisfied: numpy in /usr/local/lib/python3.6/dist-packages (from optuna) (1.18.5)\n",
            "Requirement already satisfied: cmaes>=0.6.0 in /usr/local/lib/python3.6/dist-packages (from optuna) (0.7.0)\n",
            "Requirement already satisfied: joblib in /usr/local/lib/python3.6/dist-packages (from optuna) (0.17.0)\n",
            "Requirement already satisfied: tqdm in /usr/local/lib/python3.6/dist-packages (from optuna) (4.41.1)\n",
            "Requirement already satisfied: cliff in /usr/local/lib/python3.6/dist-packages (from optuna) (3.5.0)\n",
            "Requirement already satisfied: scipy!=1.4.0 in /usr/local/lib/python3.6/dist-packages (from optuna) (1.4.1)\n",
            "Requirement already satisfied: alembic in /usr/local/lib/python3.6/dist-packages (from optuna) (1.4.3)\n",
            "Requirement already satisfied: colorlog in /usr/local/lib/python3.6/dist-packages (from optuna) (4.6.2)\n",
            "Requirement already satisfied: packaging>=20.0 in /usr/local/lib/python3.6/dist-packages (from optuna) (20.4)\n",
            "Requirement already satisfied: sqlalchemy>=1.1.0 in /usr/local/lib/python3.6/dist-packages (from optuna) (1.3.20)\n",
            "Requirement already satisfied: stevedore>=2.0.1 in /usr/local/lib/python3.6/dist-packages (from cliff->optuna) (3.3.0)\n",
            "Requirement already satisfied: PrettyTable<0.8,>=0.7.2 in /usr/local/lib/python3.6/dist-packages (from cliff->optuna) (0.7.2)\n",
            "Requirement already satisfied: cmd2!=0.8.3,>=0.8.0 in /usr/local/lib/python3.6/dist-packages (from cliff->optuna) (1.4.0)\n",
            "Requirement already satisfied: pyparsing>=2.1.0 in /usr/local/lib/python3.6/dist-packages (from cliff->optuna) (2.4.7)\n",
            "Requirement already satisfied: pbr!=2.1.0,>=2.0.0 in /usr/local/lib/python3.6/dist-packages (from cliff->optuna) (5.5.1)\n",
            "Requirement already satisfied: PyYAML>=3.12 in /usr/local/lib/python3.6/dist-packages (from cliff->optuna) (3.13)\n",
            "Requirement already satisfied: six>=1.10.0 in /usr/local/lib/python3.6/dist-packages (from cliff->optuna) (1.15.0)\n",
            "Requirement already satisfied: Mako in /usr/local/lib/python3.6/dist-packages (from alembic->optuna) (1.1.3)\n",
            "Requirement already satisfied: python-dateutil in /usr/local/lib/python3.6/dist-packages (from alembic->optuna) (2.8.1)\n",
            "Requirement already satisfied: python-editor>=0.3 in /usr/local/lib/python3.6/dist-packages (from alembic->optuna) (1.0.4)\n",
            "Requirement already satisfied: importlib-metadata>=1.7.0; python_version < \"3.8\" in /usr/local/lib/python3.6/dist-packages (from stevedore>=2.0.1->cliff->optuna) (2.0.0)\n",
            "Requirement already satisfied: attrs>=16.3.0 in /usr/local/lib/python3.6/dist-packages (from cmd2!=0.8.3,>=0.8.0->cliff->optuna) (20.3.0)\n",
            "Requirement already satisfied: colorama>=0.3.7 in /usr/local/lib/python3.6/dist-packages (from cmd2!=0.8.3,>=0.8.0->cliff->optuna) (0.4.4)\n",
            "Requirement already satisfied: wcwidth>=0.1.7 in /usr/local/lib/python3.6/dist-packages (from cmd2!=0.8.3,>=0.8.0->cliff->optuna) (0.2.5)\n",
            "Requirement already satisfied: pyperclip>=1.6 in /usr/local/lib/python3.6/dist-packages (from cmd2!=0.8.3,>=0.8.0->cliff->optuna) (1.8.1)\n",
            "Requirement already satisfied: MarkupSafe>=0.9.2 in /usr/local/lib/python3.6/dist-packages (from Mako->alembic->optuna) (1.1.1)\n",
            "Requirement already satisfied: zipp>=0.5 in /usr/local/lib/python3.6/dist-packages (from importlib-metadata>=1.7.0; python_version < \"3.8\"->stevedore>=2.0.1->cliff->optuna) (3.4.0)\n"
          ],
          "name": "stdout"
        }
      ]
    },
    {
      "cell_type": "code",
      "metadata": {
        "id": "LZZqy_i7pYmD"
      },
      "source": [
        "import optuna"
      ],
      "execution_count": 3,
      "outputs": []
    },
    {
      "cell_type": "markdown",
      "metadata": {
        "id": "uSiqNAKai1t4"
      },
      "source": [
        "**1-dimensional data**"
      ]
    },
    {
      "cell_type": "code",
      "metadata": {
        "colab": {
          "base_uri": "https://localhost:8080/"
        },
        "id": "Skos03i1i0NZ",
        "outputId": "949618dc-00ea-4778-9387-4b10ef97c153"
      },
      "source": [
        "def funct(x):\r\n",
        "  return x*x*np.sin(x)+np.log(2*x)\r\n",
        "\r\n",
        "size = 200\r\n",
        "low=0\r\n",
        "high=12\r\n",
        "error=20\r\n",
        "\r\n",
        "XX_train = np.random.uniform(low=low, high=high, size=size)\r\n",
        "XX_test = np.random.uniform(low=low, high=high, size=size)\r\n",
        "yy_train = funct(XX_train) + np.random.normal(0., error, size)\r\n",
        "yy_test = funct(XX_test) + np.random.normal(0., error, size)\r\n",
        "\r\n",
        "print(XX_train.shape, yy_train.shape)"
      ],
      "execution_count": 4,
      "outputs": [
        {
          "output_type": "stream",
          "text": [
            "(200,) (200,)\n"
          ],
          "name": "stdout"
        }
      ]
    },
    {
      "cell_type": "markdown",
      "metadata": {
        "id": "w61CXFBki5ew"
      },
      "source": [
        "Plot the function and data"
      ]
    },
    {
      "cell_type": "code",
      "metadata": {
        "colab": {
          "base_uri": "https://localhost:8080/",
          "height": 517
        },
        "id": "WvLuRMPFi9Xh",
        "outputId": "911bde64-08e4-430c-a670-b410b99a090b"
      },
      "source": [
        "fig = plt.figure(figsize=(7,7))\r\n",
        "\r\n",
        "plt.plot(XX_train,yy_train, 'o', color='blue', label='Training points')\r\n",
        "plt.plot(XX_test,yy_test, 'o', color='green', label='Testing points')\r\n",
        "\r\n",
        "points = np.linspace(low, high,num=100)\r\n",
        "plt.plot(points, funct(points),  color='red', label='Function')\r\n",
        "plt.legend()\r\n",
        "\r\n",
        "\r\n",
        "plt.show"
      ],
      "execution_count": 5,
      "outputs": [
        {
          "output_type": "stream",
          "text": [
            "/usr/local/lib/python3.6/dist-packages/ipykernel_launcher.py:2: RuntimeWarning:\n",
            "\n",
            "divide by zero encountered in log\n",
            "\n"
          ],
          "name": "stderr"
        },
        {
          "output_type": "execute_result",
          "data": {
            "text/plain": [
              "<function matplotlib.pyplot.show>"
            ]
          },
          "metadata": {
            "tags": []
          },
          "execution_count": 5
        },
        {
          "output_type": "display_data",
          "data": {
            "image/png": "[encoded data removed]",
            "text/plain": [
              "<Figure size 504x504 with 1 Axes>"
            ]
          },
          "metadata": {
            "tags": [],
            "needs_background": "light"
          }
        }
      ]
    },
    {
      "cell_type": "markdown",
      "metadata": {
        "id": "lMcNjfaMjATp"
      },
      "source": [
        "**Preparing the data**"
      ]
    },
    {
      "cell_type": "markdown",
      "metadata": {
        "id": "eQtUToisjCco"
      },
      "source": [
        "It would be problematic to feed into a neural network values that all take wildly different ranges. The network might be able to automatically adapt to such heterogeneous data, but it would definitely make learning more difficult. A widespread best practice to deal with such data is to do feature-wise normalization: for each feature in the input data (a column in the input data matrix), we will subtract the mean of the feature and divide by the standard deviation, so that the feature will be centered around 0 and will have a unit standard deviation. This is easily done in Numpy:"
      ]
    },
    {
      "cell_type": "code",
      "metadata": {
        "id": "ZvPsCAekjEWA"
      },
      "source": [
        "# Tutaj należy znormalizować dane, i.e. \r\n",
        "# - odjąć średnią\r\n",
        "# - podzielić przez odchylenie standardowe\r\n",
        "\r\n",
        "# \r\n",
        "mean = XX_train.mean(axis=0)\r\n",
        "XX_train_n = XX_train-mean\r\n",
        "std = XX_train_n.std(axis=0)\r\n",
        "XX_train_n /= std\r\n",
        "\r\n",
        "# to samo dla x_test\r\n",
        "XX_test_n = XX_test - mean\r\n",
        "XX_test_n /= std\r\n",
        "\r\n",
        "mean1 = yy_train.mean(axis=0)\r\n",
        "yy_train_n = yy_train-mean1\r\n",
        "std1 = yy_train_n.std(axis=0)\r\n",
        "yy_train_n /= std1\r\n",
        "\r\n",
        "# to samo dla y_test\r\n",
        "yy_test_n = yy_test - mean1\r\n",
        "yy_test_n /= std1\r\n",
        "\r\n",
        "# A teraz to samo dla yy_train i yy_test\r\n",
        "# dopisać to samo dla y"
      ],
      "execution_count": 6,
      "outputs": []
    },
    {
      "cell_type": "markdown",
      "metadata": {
        "id": "QkVIst_xjGuh"
      },
      "source": [
        "Define neural network"
      ]
    },
    {
      "cell_type": "code",
      "metadata": {
        "id": "IKgbZ2O7pjKL"
      },
      "source": [
        "# Zbudować sieć neuronową, działa: dwie warstwy ukryte, aktywacja relu\r\n",
        "from keras import models\r\n",
        "from keras import layers"
      ],
      "execution_count": 7,
      "outputs": []
    },
    {
      "cell_type": "code",
      "metadata": {
        "id": "_j1UTSvdjKLJ"
      },
      "source": [
        "def objective(trial):\r\n",
        "    units = trial.suggest_discrete_uniform('units', 8, 2048, 1)\r\n",
        "    dropout = trial.suggest_uniform('dropout', 0, 0.5)\r\n",
        "    lr = trial.suggest_float('lr',0.0005, 0.002, log=True)\r\n",
        "    act= trial.suggest_categorical('activation',['relu','sigmoid','linear'])\r\n",
        "\r\n",
        "    model0 = Sequential(name='network')\r\n",
        "    #.....\r\n",
        "    model0.add(layers.Dense(units, activation=act, input_shape=(1,)))\r\n",
        "    model0.add(Dropout(dropout))\r\n",
        "    model0.add(layers.Dense(units, activation=act))\r\n",
        "    model0.add(Dropout(dropout))\r\n",
        "    model0.add(layers.Dense(1, activation='linear'))\r\n",
        "    # early stopping\r\n",
        "    es = EarlyStopping(monitor='val_loss', mode='min', verbose=1, patience=50 )\r\n",
        "    \r\n",
        "    #model0.summary()\r\n",
        "    opt=optimizers.RMSprop(lr=lr)\r\n",
        "    model0.compile(optimizer=opt,\r\n",
        "                       loss='mean_squared_error',\r\n",
        "                       metrics=['mse'])\r\n",
        "    history = model0.fit(XX_train_n, yy_train_n,\r\n",
        "                                     epochs=500,\r\n",
        "                                     batch_size=128,\r\n",
        "                                     validation_data=(XX_test_n, yy_test_n),\r\n",
        "                                     verbose = 0, callbacks=[es])\r\n",
        "    results = model0.evaluate(XX_test_n, yy_test_n)\r\n",
        "    return results[0]"
      ],
      "execution_count": 8,
      "outputs": []
    },
    {
      "cell_type": "code",
      "metadata": {
        "colab": {
          "base_uri": "https://localhost:8080/"
        },
        "id": "EUW1scKIjPAR",
        "outputId": "dd40f50d-b54b-4967-8ac6-dd39776d19e0"
      },
      "source": [
        "study = optuna.create_study()\r\n",
        "study = optuna.create_study(direction='minimize', pruner=optuna.pruners.MedianPruner(), sampler=optuna.samplers.TPESampler() )\r\n",
        "\r\n",
        "study.optimize(objective, n_trials=20)\r\n",
        "\r\n",
        "study.best_params "
      ],
      "execution_count": 9,
      "outputs": [
        {
          "output_type": "stream",
          "text": [
            "\u001b[32m[I 2020-12-09 18:00:24,323]\u001b[0m A new study created in memory with name: no-name-2079e792-0832-4ebe-8e1a-c379627c4a9f\u001b[0m\n",
            "\u001b[32m[I 2020-12-09 18:00:24,326]\u001b[0m A new study created in memory with name: no-name-01d996af-dfb5-4cb4-a278-eb033a43a078\u001b[0m\n"
          ],
          "name": "stderr"
        },
        {
          "output_type": "stream",
          "text": [
            "Epoch 00095: early stopping\n",
            "7/7 [==============================] - 0s 2ms/step - loss: 0.8756 - mse: 0.8756\n"
          ],
          "name": "stdout"
        },
        {
          "output_type": "stream",
          "text": [
            "\u001b[32m[I 2020-12-09 18:00:28,067]\u001b[0m Trial 0 finished with value: 0.8755643367767334 and parameters: {'units': 224.0, 'dropout': 0.4954256788964758, 'lr': 0.0010101903037339182, 'activation': 'linear'}. Best is trial 0 with value: 0.8755643367767334.\u001b[0m\n"
          ],
          "name": "stderr"
        },
        {
          "output_type": "stream",
          "text": [
            "Epoch 00084: early stopping\n",
            "7/7 [==============================] - 0s 2ms/step - loss: 0.9891 - mse: 0.9891\n"
          ],
          "name": "stdout"
        },
        {
          "output_type": "stream",
          "text": [
            "\u001b[32m[I 2020-12-09 18:00:30,405]\u001b[0m Trial 1 finished with value: 0.9891334772109985 and parameters: {'units': 1526.0, 'dropout': 0.14332682435853805, 'lr': 0.0013370226395689074, 'activation': 'sigmoid'}. Best is trial 0 with value: 0.8755643367767334.\u001b[0m\n"
          ],
          "name": "stderr"
        },
        {
          "output_type": "stream",
          "text": [
            "Epoch 00095: early stopping\n",
            "7/7 [==============================] - 0s 2ms/step - loss: 0.1987 - mse: 0.1987\n"
          ],
          "name": "stdout"
        },
        {
          "output_type": "stream",
          "text": [
            "\u001b[32m[I 2020-12-09 18:00:32,812]\u001b[0m Trial 2 finished with value: 0.19873863458633423 and parameters: {'units': 376.0, 'dropout': 0.27915582038102393, 'lr': 0.0013706061404429402, 'activation': 'relu'}. Best is trial 2 with value: 0.19873863458633423.\u001b[0m\n"
          ],
          "name": "stderr"
        },
        {
          "output_type": "stream",
          "text": [
            "Epoch 00099: early stopping\n",
            "7/7 [==============================] - 0s 2ms/step - loss: 0.8780 - mse: 0.8780\n"
          ],
          "name": "stdout"
        },
        {
          "output_type": "stream",
          "text": [
            "\u001b[32m[I 2020-12-09 18:00:35,275]\u001b[0m Trial 3 finished with value: 0.8779668211936951 and parameters: {'units': 768.0, 'dropout': 0.4153696713682228, 'lr': 0.0013710371730390838, 'activation': 'linear'}. Best is trial 2 with value: 0.19873863458633423.\u001b[0m\n"
          ],
          "name": "stderr"
        },
        {
          "output_type": "stream",
          "text": [
            "Epoch 00262: early stopping\n",
            "7/7 [==============================] - 0s 2ms/step - loss: 0.2331 - mse: 0.2331\n"
          ],
          "name": "stdout"
        },
        {
          "output_type": "stream",
          "text": [
            "\u001b[32m[I 2020-12-09 18:00:41,557]\u001b[0m Trial 4 finished with value: 0.2330784797668457 and parameters: {'units': 1878.0, 'dropout': 0.3667001383571827, 'lr': 0.0005915701823074618, 'activation': 'relu'}. Best is trial 2 with value: 0.19873863458633423.\u001b[0m\n"
          ],
          "name": "stderr"
        },
        {
          "output_type": "stream",
          "text": [
            "Epoch 00076: early stopping\n",
            "7/7 [==============================] - 0s 2ms/step - loss: 0.8958 - mse: 0.8958\n"
          ],
          "name": "stdout"
        },
        {
          "output_type": "stream",
          "text": [
            "\u001b[32m[I 2020-12-09 18:00:43,794]\u001b[0m Trial 5 finished with value: 0.8957996368408203 and parameters: {'units': 215.0, 'dropout': 0.07650398263154923, 'lr': 0.0005676994616347687, 'activation': 'linear'}. Best is trial 2 with value: 0.19873863458633423.\u001b[0m\n"
          ],
          "name": "stderr"
        },
        {
          "output_type": "stream",
          "text": [
            "Epoch 00133: early stopping\n",
            "7/7 [==============================] - 0s 2ms/step - loss: 0.1994 - mse: 0.1994\n"
          ],
          "name": "stdout"
        },
        {
          "output_type": "stream",
          "text": [
            "\u001b[32m[I 2020-12-09 18:00:46,961]\u001b[0m Trial 6 finished with value: 0.19940848648548126 and parameters: {'units': 974.0, 'dropout': 0.2655304622377676, 'lr': 0.0015492680452204777, 'activation': 'relu'}. Best is trial 2 with value: 0.19873863458633423.\u001b[0m\n"
          ],
          "name": "stderr"
        },
        {
          "output_type": "stream",
          "text": [
            "Epoch 00069: early stopping\n",
            "7/7 [==============================] - 0s 2ms/step - loss: 1.0504 - mse: 1.0504\n"
          ],
          "name": "stdout"
        },
        {
          "output_type": "stream",
          "text": [
            "\u001b[32m[I 2020-12-09 18:00:48,925]\u001b[0m Trial 7 finished with value: 1.0503551959991455 and parameters: {'units': 657.0, 'dropout': 0.23479757087807734, 'lr': 0.000809904111691024, 'activation': 'sigmoid'}. Best is trial 2 with value: 0.19873863458633423.\u001b[0m\n"
          ],
          "name": "stderr"
        },
        {
          "output_type": "stream",
          "text": [
            "Epoch 00185: early stopping\n",
            "7/7 [==============================] - 0s 2ms/step - loss: 0.2015 - mse: 0.2015\n"
          ],
          "name": "stdout"
        },
        {
          "output_type": "stream",
          "text": [
            "\u001b[32m[I 2020-12-09 18:00:52,990]\u001b[0m Trial 8 finished with value: 0.20152287185192108 and parameters: {'units': 349.0, 'dropout': 0.3058569889361619, 'lr': 0.0008396285764200849, 'activation': 'relu'}. Best is trial 2 with value: 0.19873863458633423.\u001b[0m\n"
          ],
          "name": "stderr"
        },
        {
          "output_type": "stream",
          "text": [
            "7/7 [==============================] - 0s 2ms/step - loss: 0.2077 - mse: 0.2077\n"
          ],
          "name": "stdout"
        },
        {
          "output_type": "stream",
          "text": [
            "\u001b[32m[I 2020-12-09 18:01:03,374]\u001b[0m Trial 9 finished with value: 0.20771226286888123 and parameters: {'units': 1233.0, 'dropout': 0.43081838263085065, 'lr': 0.0009401582655666743, 'activation': 'sigmoid'}. Best is trial 2 with value: 0.19873863458633423.\u001b[0m\n"
          ],
          "name": "stderr"
        },
        {
          "output_type": "stream",
          "text": [
            "Epoch 00221: early stopping\n",
            "7/7 [==============================] - 0s 2ms/step - loss: 0.1918 - mse: 0.1918\n"
          ],
          "name": "stdout"
        },
        {
          "output_type": "stream",
          "text": [
            "\u001b[32m[I 2020-12-09 18:01:08,159]\u001b[0m Trial 10 finished with value: 0.19179609417915344 and parameters: {'units': 58.0, 'dropout': 0.17656531403008602, 'lr': 0.001900080146390628, 'activation': 'relu'}. Best is trial 10 with value: 0.19179609417915344.\u001b[0m\n"
          ],
          "name": "stderr"
        },
        {
          "output_type": "stream",
          "text": [
            "Epoch 00178: early stopping\n",
            "7/7 [==============================] - 0s 2ms/step - loss: 0.1974 - mse: 0.1974\n"
          ],
          "name": "stdout"
        },
        {
          "output_type": "stream",
          "text": [
            "\u001b[32m[I 2020-12-09 18:01:12,095]\u001b[0m Trial 11 finished with value: 0.19737756252288818 and parameters: {'units': 487.0, 'dropout': 0.17471784260023945, 'lr': 0.001923732275060687, 'activation': 'relu'}. Best is trial 10 with value: 0.19179609417915344.\u001b[0m\n"
          ],
          "name": "stderr"
        },
        {
          "output_type": "stream",
          "text": [
            "Epoch 00320: early stopping\n",
            "7/7 [==============================] - 0s 2ms/step - loss: 0.1992 - mse: 0.1992\n"
          ],
          "name": "stdout"
        },
        {
          "output_type": "stream",
          "text": [
            "\u001b[32m[I 2020-12-09 18:01:18,934]\u001b[0m Trial 12 finished with value: 0.19921354949474335 and parameters: {'units': 48.0, 'dropout': 0.15929115427501545, 'lr': 0.0019033259238143202, 'activation': 'relu'}. Best is trial 10 with value: 0.19179609417915344.\u001b[0m\n"
          ],
          "name": "stderr"
        },
        {
          "output_type": "stream",
          "text": [
            "Epoch 00155: early stopping\n",
            "7/7 [==============================] - 0s 2ms/step - loss: 0.2024 - mse: 0.2024\n"
          ],
          "name": "stdout"
        },
        {
          "output_type": "stream",
          "text": [
            "\u001b[32m[I 2020-12-09 18:01:22,458]\u001b[0m Trial 13 finished with value: 0.2024354785680771 and parameters: {'units': 18.0, 'dropout': 0.019677676818332296, 'lr': 0.0019450954497719883, 'activation': 'relu'}. Best is trial 10 with value: 0.19179609417915344.\u001b[0m\n"
          ],
          "name": "stderr"
        },
        {
          "output_type": "stream",
          "text": [
            "Epoch 00210: early stopping\n",
            "7/7 [==============================] - 0s 2ms/step - loss: 0.1931 - mse: 0.1931\n"
          ],
          "name": "stdout"
        },
        {
          "output_type": "stream",
          "text": [
            "\u001b[32m[I 2020-12-09 18:01:27,001]\u001b[0m Trial 14 finished with value: 0.19310417771339417 and parameters: {'units': 599.0, 'dropout': 0.1709262457889005, 'lr': 0.001972259509366055, 'activation': 'relu'}. Best is trial 10 with value: 0.19179609417915344.\u001b[0m\n"
          ],
          "name": "stderr"
        },
        {
          "output_type": "stream",
          "text": [
            "Epoch 00250: early stopping\n",
            "7/7 [==============================] - 0s 2ms/step - loss: 0.1988 - mse: 0.1988\n"
          ],
          "name": "stdout"
        },
        {
          "output_type": "stream",
          "text": [
            "\u001b[32m[I 2020-12-09 18:01:32,703]\u001b[0m Trial 15 finished with value: 0.19879421591758728 and parameters: {'units': 885.0, 'dropout': 0.08589252351694829, 'lr': 0.0016507953433347712, 'activation': 'relu'}. Best is trial 10 with value: 0.19179609417915344.\u001b[0m\n"
          ],
          "name": "stderr"
        },
        {
          "output_type": "stream",
          "text": [
            "Epoch 00362: early stopping\n",
            "7/7 [==============================] - 0s 2ms/step - loss: 0.1855 - mse: 0.1855\n"
          ],
          "name": "stdout"
        },
        {
          "output_type": "stream",
          "text": [
            "\u001b[32m[I 2020-12-09 18:01:40,434]\u001b[0m Trial 16 finished with value: 0.18547703325748444 and parameters: {'units': 1267.0, 'dropout': 0.21265666278230785, 'lr': 0.0011274696906762919, 'activation': 'relu'}. Best is trial 16 with value: 0.18547703325748444.\u001b[0m\n"
          ],
          "name": "stderr"
        },
        {
          "output_type": "stream",
          "text": [
            "Epoch 00161: early stopping\n",
            "7/7 [==============================] - 0s 2ms/step - loss: 0.2296 - mse: 0.2296\n"
          ],
          "name": "stdout"
        },
        {
          "output_type": "stream",
          "text": [
            "\u001b[32m[I 2020-12-09 18:01:44,272]\u001b[0m Trial 17 finished with value: 0.22958849370479584 and parameters: {'units': 1348.0, 'dropout': 0.2317438547299526, 'lr': 0.0011583866291521568, 'activation': 'relu'}. Best is trial 16 with value: 0.18547703325748444.\u001b[0m\n"
          ],
          "name": "stderr"
        },
        {
          "output_type": "stream",
          "text": [
            "Epoch 00089: early stopping\n",
            "7/7 [==============================] - 0s 2ms/step - loss: 0.2043 - mse: 0.2043\n"
          ],
          "name": "stdout"
        },
        {
          "output_type": "stream",
          "text": [
            "\u001b[32m[I 2020-12-09 18:01:46,813]\u001b[0m Trial 18 finished with value: 0.20434384047985077 and parameters: {'units': 1815.0, 'dropout': 0.3280433070217674, 'lr': 0.0006541711687500174, 'activation': 'relu'}. Best is trial 16 with value: 0.18547703325748444.\u001b[0m\n"
          ],
          "name": "stderr"
        },
        {
          "output_type": "stream",
          "text": [
            "Epoch 00300: early stopping\n",
            "7/7 [==============================] - 0s 2ms/step - loss: 0.1920 - mse: 0.1920\n"
          ],
          "name": "stdout"
        },
        {
          "output_type": "stream",
          "text": [
            "\u001b[32m[I 2020-12-09 18:01:53,576]\u001b[0m Trial 19 finished with value: 0.19204182922840118 and parameters: {'units': 1613.0, 'dropout': 0.09960797077195843, 'lr': 0.0011328879826936625, 'activation': 'relu'}. Best is trial 16 with value: 0.18547703325748444.\u001b[0m\n"
          ],
          "name": "stderr"
        },
        {
          "output_type": "execute_result",
          "data": {
            "text/plain": [
              "{'activation': 'relu',\n",
              " 'dropout': 0.21265666278230785,\n",
              " 'lr': 0.0011274696906762919,\n",
              " 'units': 1267.0}"
            ]
          },
          "metadata": {
            "tags": []
          },
          "execution_count": 9
        }
      ]
    },
    {
      "cell_type": "markdown",
      "metadata": {
        "id": "4EVZngl9jT25"
      },
      "source": [
        "## Visualizing the Optimization History"
      ]
    },
    {
      "cell_type": "code",
      "metadata": {
        "colab": {
          "base_uri": "https://localhost:8080/",
          "height": 542
        },
        "id": "UtSrf0Y6jRWK",
        "outputId": "08201503-f929-44ec-c707-33e874b57935"
      },
      "source": [
        "from optuna.visualization import plot_optimization_history\r\n",
        "\r\n",
        "plot_optimization_history(study)"
      ],
      "execution_count": 10,
      "outputs": [
        {
          "output_type": "display_data",
          "data": {
            "text/html": [
              "<html>\n",
              "<head><meta charset=\"utf-8\" /></head>\n",
              "<body>\n",
              "    <div>\n",
              "            <script src=\"https://cdnjs.cloudflare.com/ajax/libs/mathjax/2.7.5/MathJax.js?config=TeX-AMS-MML_SVG\"></script><script type=\"text/javascript\">if (window.MathJax) {MathJax.Hub.Config({SVG: {font: \"STIX-Web\"}});}</script>\n",
              "                <script type=\"text/javascript\">window.PlotlyConfig = {MathJaxConfig: 'local'};</script>\n",
              "        <script src=\"https://cdn.plot.ly/plotly-latest.min.js\"></script>    \n",
              "            <div id=\"ac706ea2-ec9a-4592-ad8e-92c727ba25fb\" class=\"plotly-graph-div\" style=\"height:525px; width:100%;\"></div>\n",
              "            <script type=\"text/javascript\">\n",
              "                \n",
              "                    window.PLOTLYENV=window.PLOTLYENV || {};\n",
              "                    \n",
              "                if (document.getElementById(\"ac706ea2-ec9a-4592-ad8e-92c727ba25fb\")) {\n",
              "                    Plotly.newPlot(\n",
              "                        'ac706ea2-ec9a-4592-ad8e-92c727ba25fb',\n",
              "                        [{\"mode\": \"markers\", \"name\": \"Objective Value\", \"type\": \"scatter\", \"x\": [0, 1, 2, 3, 4, 5, 6, 7, 8, 9, 10, 11, 12, 13, 14, 15, 16, 17, 18, 19], \"y\": [0.8755643367767334, 0.9891334772109985, 0.19873863458633423, 0.8779668211936951, 0.2330784797668457, 0.8957996368408203, 0.19940848648548126, 1.0503551959991455, 0.20152287185192108, 0.20771226286888123, 0.19179609417915344, 0.19737756252288818, 0.19921354949474335, 0.2024354785680771, 0.19310417771339417, 0.19879421591758728, 0.18547703325748444, 0.22958849370479584, 0.20434384047985077, 0.19204182922840118]}, {\"name\": \"Best Value\", \"type\": \"scatter\", \"x\": [0, 1, 2, 3, 4, 5, 6, 7, 8, 9, 10, 11, 12, 13, 14, 15, 16, 17, 18, 19], \"y\": [0.8755643367767334, 0.8755643367767334, 0.19873863458633423, 0.19873863458633423, 0.19873863458633423, 0.19873863458633423, 0.19873863458633423, 0.19873863458633423, 0.19873863458633423, 0.19873863458633423, 0.19179609417915344, 0.19179609417915344, 0.19179609417915344, 0.19179609417915344, 0.19179609417915344, 0.19179609417915344, 0.18547703325748444, 0.18547703325748444, 0.18547703325748444, 0.18547703325748444]}],\n",
              "                        {\"template\": {\"data\": {\"bar\": [{\"error_x\": {\"color\": \"#2a3f5f\"}, \"error_y\": {\"color\": \"#2a3f5f\"}, \"marker\": {\"line\": {\"color\": \"#E5ECF6\", \"width\": 0.5}}, \"type\": \"bar\"}], \"barpolar\": [{\"marker\": {\"line\": {\"color\": \"#E5ECF6\", \"width\": 0.5}}, \"type\": \"barpolar\"}], \"carpet\": [{\"aaxis\": {\"endlinecolor\": \"#2a3f5f\", \"gridcolor\": \"white\", \"linecolor\": \"white\", \"minorgridcolor\": \"white\", \"startlinecolor\": \"#2a3f5f\"}, \"baxis\": {\"endlinecolor\": \"#2a3f5f\", \"gridcolor\": \"white\", \"linecolor\": \"white\", \"minorgridcolor\": \"white\", \"startlinecolor\": \"#2a3f5f\"}, \"type\": \"carpet\"}], \"choropleth\": [{\"colorbar\": {\"outlinewidth\": 0, \"ticks\": \"\"}, \"type\": \"choropleth\"}], \"contour\": [{\"colorbar\": {\"outlinewidth\": 0, \"ticks\": \"\"}, \"colorscale\": [[0.0, \"#0d0887\"], [0.1111111111111111, \"#46039f\"], [0.2222222222222222, \"#7201a8\"], [0.3333333333333333, \"#9c179e\"], [0.4444444444444444, \"#bd3786\"], [0.5555555555555556, \"#d8576b\"], [0.6666666666666666, \"#ed7953\"], [0.7777777777777778, \"#fb9f3a\"], [0.8888888888888888, \"#fdca26\"], [1.0, \"#f0f921\"]], \"type\": \"contour\"}], \"contourcarpet\": [{\"colorbar\": {\"outlinewidth\": 0, \"ticks\": \"\"}, \"type\": \"contourcarpet\"}], \"heatmap\": [{\"colorbar\": {\"outlinewidth\": 0, \"ticks\": \"\"}, \"colorscale\": [[0.0, \"#0d0887\"], [0.1111111111111111, \"#46039f\"], [0.2222222222222222, \"#7201a8\"], [0.3333333333333333, \"#9c179e\"], [0.4444444444444444, \"#bd3786\"], [0.5555555555555556, \"#d8576b\"], [0.6666666666666666, \"#ed7953\"], [0.7777777777777778, \"#fb9f3a\"], [0.8888888888888888, \"#fdca26\"], [1.0, \"#f0f921\"]], \"type\": \"heatmap\"}], \"heatmapgl\": [{\"colorbar\": {\"outlinewidth\": 0, \"ticks\": \"\"}, \"colorscale\": [[0.0, \"#0d0887\"], [0.1111111111111111, \"#46039f\"], [0.2222222222222222, \"#7201a8\"], [0.3333333333333333, \"#9c179e\"], [0.4444444444444444, \"#bd3786\"], [0.5555555555555556, \"#d8576b\"], [0.6666666666666666, \"#ed7953\"], [0.7777777777777778, \"#fb9f3a\"], [0.8888888888888888, \"#fdca26\"], [1.0, \"#f0f921\"]], \"type\": \"heatmapgl\"}], \"histogram\": [{\"marker\": {\"colorbar\": {\"outlinewidth\": 0, \"ticks\": \"\"}}, \"type\": \"histogram\"}], \"histogram2d\": [{\"colorbar\": {\"outlinewidth\": 0, \"ticks\": \"\"}, \"colorscale\": [[0.0, \"#0d0887\"], [0.1111111111111111, \"#46039f\"], [0.2222222222222222, \"#7201a8\"], [0.3333333333333333, \"#9c179e\"], [0.4444444444444444, \"#bd3786\"], [0.5555555555555556, \"#d8576b\"], [0.6666666666666666, \"#ed7953\"], [0.7777777777777778, \"#fb9f3a\"], [0.8888888888888888, \"#fdca26\"], [1.0, \"#f0f921\"]], \"type\": \"histogram2d\"}], \"histogram2dcontour\": [{\"colorbar\": {\"outlinewidth\": 0, \"ticks\": \"\"}, \"colorscale\": [[0.0, \"#0d0887\"], [0.1111111111111111, \"#46039f\"], [0.2222222222222222, \"#7201a8\"], [0.3333333333333333, \"#9c179e\"], [0.4444444444444444, \"#bd3786\"], [0.5555555555555556, \"#d8576b\"], [0.6666666666666666, \"#ed7953\"], [0.7777777777777778, \"#fb9f3a\"], [0.8888888888888888, \"#fdca26\"], [1.0, \"#f0f921\"]], \"type\": \"histogram2dcontour\"}], \"mesh3d\": [{\"colorbar\": {\"outlinewidth\": 0, \"ticks\": \"\"}, \"type\": \"mesh3d\"}], \"parcoords\": [{\"line\": {\"colorbar\": {\"outlinewidth\": 0, \"ticks\": \"\"}}, \"type\": \"parcoords\"}], \"pie\": [{\"automargin\": true, \"type\": \"pie\"}], \"scatter\": [{\"marker\": {\"colorbar\": {\"outlinewidth\": 0, \"ticks\": \"\"}}, \"type\": \"scatter\"}], \"scatter3d\": [{\"line\": {\"colorbar\": {\"outlinewidth\": 0, \"ticks\": \"\"}}, \"marker\": {\"colorbar\": {\"outlinewidth\": 0, \"ticks\": \"\"}}, \"type\": \"scatter3d\"}], \"scattercarpet\": [{\"marker\": {\"colorbar\": {\"outlinewidth\": 0, \"ticks\": \"\"}}, \"type\": \"scattercarpet\"}], \"scattergeo\": [{\"marker\": {\"colorbar\": {\"outlinewidth\": 0, \"ticks\": \"\"}}, \"type\": \"scattergeo\"}], \"scattergl\": [{\"marker\": {\"colorbar\": {\"outlinewidth\": 0, \"ticks\": \"\"}}, \"type\": \"scattergl\"}], \"scattermapbox\": [{\"marker\": {\"colorbar\": {\"outlinewidth\": 0, \"ticks\": \"\"}}, \"type\": \"scattermapbox\"}], \"scatterpolar\": [{\"marker\": {\"colorbar\": {\"outlinewidth\": 0, \"ticks\": \"\"}}, \"type\": \"scatterpolar\"}], \"scatterpolargl\": [{\"marker\": {\"colorbar\": {\"outlinewidth\": 0, \"ticks\": \"\"}}, \"type\": \"scatterpolargl\"}], \"scatterternary\": [{\"marker\": {\"colorbar\": {\"outlinewidth\": 0, \"ticks\": \"\"}}, \"type\": \"scatterternary\"}], \"surface\": [{\"colorbar\": {\"outlinewidth\": 0, \"ticks\": \"\"}, \"colorscale\": [[0.0, \"#0d0887\"], [0.1111111111111111, \"#46039f\"], [0.2222222222222222, \"#7201a8\"], [0.3333333333333333, \"#9c179e\"], [0.4444444444444444, \"#bd3786\"], [0.5555555555555556, \"#d8576b\"], [0.6666666666666666, \"#ed7953\"], [0.7777777777777778, \"#fb9f3a\"], [0.8888888888888888, \"#fdca26\"], [1.0, \"#f0f921\"]], \"type\": \"surface\"}], \"table\": [{\"cells\": {\"fill\": {\"color\": \"#EBF0F8\"}, \"line\": {\"color\": \"white\"}}, \"header\": {\"fill\": {\"color\": \"#C8D4E3\"}, \"line\": {\"color\": \"white\"}}, \"type\": \"table\"}]}, \"layout\": {\"annotationdefaults\": {\"arrowcolor\": \"#2a3f5f\", \"arrowhead\": 0, \"arrowwidth\": 1}, \"coloraxis\": {\"colorbar\": {\"outlinewidth\": 0, \"ticks\": \"\"}}, \"colorscale\": {\"diverging\": [[0, \"#8e0152\"], [0.1, \"#c51b7d\"], [0.2, \"#de77ae\"], [0.3, \"#f1b6da\"], [0.4, \"#fde0ef\"], [0.5, \"#f7f7f7\"], [0.6, \"#e6f5d0\"], [0.7, \"#b8e186\"], [0.8, \"#7fbc41\"], [0.9, \"#4d9221\"], [1, \"#276419\"]], \"sequential\": [[0.0, \"#0d0887\"], [0.1111111111111111, \"#46039f\"], [0.2222222222222222, \"#7201a8\"], [0.3333333333333333, \"#9c179e\"], [0.4444444444444444, \"#bd3786\"], [0.5555555555555556, \"#d8576b\"], [0.6666666666666666, \"#ed7953\"], [0.7777777777777778, \"#fb9f3a\"], [0.8888888888888888, \"#fdca26\"], [1.0, \"#f0f921\"]], \"sequentialminus\": [[0.0, \"#0d0887\"], [0.1111111111111111, \"#46039f\"], [0.2222222222222222, \"#7201a8\"], [0.3333333333333333, \"#9c179e\"], [0.4444444444444444, \"#bd3786\"], [0.5555555555555556, \"#d8576b\"], [0.6666666666666666, \"#ed7953\"], [0.7777777777777778, \"#fb9f3a\"], [0.8888888888888888, \"#fdca26\"], [1.0, \"#f0f921\"]]}, \"colorway\": [\"#636efa\", \"#EF553B\", \"#00cc96\", \"#ab63fa\", \"#FFA15A\", \"#19d3f3\", \"#FF6692\", \"#B6E880\", \"#FF97FF\", \"#FECB52\"], \"font\": {\"color\": \"#2a3f5f\"}, \"geo\": {\"bgcolor\": \"white\", \"lakecolor\": \"white\", \"landcolor\": \"#E5ECF6\", \"showlakes\": true, \"showland\": true, \"subunitcolor\": \"white\"}, \"hoverlabel\": {\"align\": \"left\"}, \"hovermode\": \"closest\", \"mapbox\": {\"style\": \"light\"}, \"paper_bgcolor\": \"white\", \"plot_bgcolor\": \"#E5ECF6\", \"polar\": {\"angularaxis\": {\"gridcolor\": \"white\", \"linecolor\": \"white\", \"ticks\": \"\"}, \"bgcolor\": \"#E5ECF6\", \"radialaxis\": {\"gridcolor\": \"white\", \"linecolor\": \"white\", \"ticks\": \"\"}}, \"scene\": {\"xaxis\": {\"backgroundcolor\": \"#E5ECF6\", \"gridcolor\": \"white\", \"gridwidth\": 2, \"linecolor\": \"white\", \"showbackground\": true, \"ticks\": \"\", \"zerolinecolor\": \"white\"}, \"yaxis\": {\"backgroundcolor\": \"#E5ECF6\", \"gridcolor\": \"white\", \"gridwidth\": 2, \"linecolor\": \"white\", \"showbackground\": true, \"ticks\": \"\", \"zerolinecolor\": \"white\"}, \"zaxis\": {\"backgroundcolor\": \"#E5ECF6\", \"gridcolor\": \"white\", \"gridwidth\": 2, \"linecolor\": \"white\", \"showbackground\": true, \"ticks\": \"\", \"zerolinecolor\": \"white\"}}, \"shapedefaults\": {\"line\": {\"color\": \"#2a3f5f\"}}, \"ternary\": {\"aaxis\": {\"gridcolor\": \"white\", \"linecolor\": \"white\", \"ticks\": \"\"}, \"baxis\": {\"gridcolor\": \"white\", \"linecolor\": \"white\", \"ticks\": \"\"}, \"bgcolor\": \"#E5ECF6\", \"caxis\": {\"gridcolor\": \"white\", \"linecolor\": \"white\", \"ticks\": \"\"}}, \"title\": {\"x\": 0.05}, \"xaxis\": {\"automargin\": true, \"gridcolor\": \"white\", \"linecolor\": \"white\", \"ticks\": \"\", \"title\": {\"standoff\": 15}, \"zerolinecolor\": \"white\", \"zerolinewidth\": 2}, \"yaxis\": {\"automargin\": true, \"gridcolor\": \"white\", \"linecolor\": \"white\", \"ticks\": \"\", \"title\": {\"standoff\": 15}, \"zerolinecolor\": \"white\", \"zerolinewidth\": 2}}}, \"title\": {\"text\": \"Optimization History Plot\"}, \"xaxis\": {\"title\": {\"text\": \"#Trials\"}}, \"yaxis\": {\"title\": {\"text\": \"Objective Value\"}}},\n",
              "                        {\"responsive\": true}\n",
              "                    ).then(function(){\n",
              "                            \n",
              "var gd = document.getElementById('ac706ea2-ec9a-4592-ad8e-92c727ba25fb');\n",
              "var x = new MutationObserver(function (mutations, observer) {{\n",
              "        var display = window.getComputedStyle(gd).display;\n",
              "        if (!display || display === 'none') {{\n",
              "            console.log([gd, 'removed!']);\n",
              "            Plotly.purge(gd);\n",
              "            observer.disconnect();\n",
              "        }}\n",
              "}});\n",
              "\n",
              "// Listen for the removal of the full notebook cells\n",
              "var notebookContainer = gd.closest('#notebook-container');\n",
              "if (notebookContainer) {{\n",
              "    x.observe(notebookContainer, {childList: true});\n",
              "}}\n",
              "\n",
              "// Listen for the clearing of the current output cell\n",
              "var outputEl = gd.closest('.output');\n",
              "if (outputEl) {{\n",
              "    x.observe(outputEl, {childList: true});\n",
              "}}\n",
              "\n",
              "                        })\n",
              "                };\n",
              "                \n",
              "            </script>\n",
              "        </div>\n",
              "</body>\n",
              "</html>"
            ]
          },
          "metadata": {
            "tags": []
          }
        }
      ]
    },
    {
      "cell_type": "markdown",
      "metadata": {
        "id": "BZj4DfcIjctB"
      },
      "source": [
        "## Visualizing High-dimensional Parameter Relationships"
      ]
    },
    {
      "cell_type": "code",
      "metadata": {
        "colab": {
          "base_uri": "https://localhost:8080/",
          "height": 542
        },
        "id": "UyR_ZL-Ojgap",
        "outputId": "9080f91e-6e51-4553-f064-6eb601731a08"
      },
      "source": [
        "from optuna.visualization import plot_parallel_coordinate\r\n",
        "\r\n",
        "plot_parallel_coordinate(study, params=['units', 'dropout'])"
      ],
      "execution_count": 11,
      "outputs": [
        {
          "output_type": "display_data",
          "data": {
            "text/html": [
              "<html>\n",
              "<head><meta charset=\"utf-8\" /></head>\n",
              "<body>\n",
              "    <div>\n",
              "            <script src=\"https://cdnjs.cloudflare.com/ajax/libs/mathjax/2.7.5/MathJax.js?config=TeX-AMS-MML_SVG\"></script><script type=\"text/javascript\">if (window.MathJax) {MathJax.Hub.Config({SVG: {font: \"STIX-Web\"}});}</script>\n",
              "                <script type=\"text/javascript\">window.PlotlyConfig = {MathJaxConfig: 'local'};</script>\n",
              "        <script src=\"https://cdn.plot.ly/plotly-latest.min.js\"></script>    \n",
              "            <div id=\"f66c3f6f-f27e-4f40-9e0d-8320ad234e3c\" class=\"plotly-graph-div\" style=\"height:525px; width:100%;\"></div>\n",
              "            <script type=\"text/javascript\">\n",
              "                \n",
              "                    window.PLOTLYENV=window.PLOTLYENV || {};\n",
              "                    \n",
              "                if (document.getElementById(\"f66c3f6f-f27e-4f40-9e0d-8320ad234e3c\")) {\n",
              "                    Plotly.newPlot(\n",
              "                        'f66c3f6f-f27e-4f40-9e0d-8320ad234e3c',\n",
              "                        [{\"dimensions\": [{\"label\": \"Objective Value\", \"range\": [0.18547703325748444, 1.0503551959991455], \"values\": [0.8755643367767334, 0.9891334772109985, 0.19873863458633423, 0.8779668211936951, 0.2330784797668457, 0.8957996368408203, 0.19940848648548126, 1.0503551959991455, 0.20152287185192108, 0.20771226286888123, 0.19179609417915344, 0.19737756252288818, 0.19921354949474335, 0.2024354785680771, 0.19310417771339417, 0.19879421591758728, 0.18547703325748444, 0.22958849370479584, 0.20434384047985077, 0.19204182922840118]}, {\"label\": \"dropout\", \"range\": [0.019677676818332296, 0.4954256788964758], \"values\": [0.4954256788964758, 0.14332682435853805, 0.27915582038102393, 0.4153696713682228, 0.3667001383571827, 0.07650398263154923, 0.2655304622377676, 0.23479757087807734, 0.3058569889361619, 0.43081838263085065, 0.17656531403008602, 0.17471784260023945, 0.15929115427501545, 0.019677676818332296, 0.1709262457889005, 0.08589252351694829, 0.21265666278230785, 0.2317438547299526, 0.3280433070217674, 0.09960797077195843]}, {\"label\": \"units\", \"range\": [18.0, 1878.0], \"values\": [224.0, 1526.0, 376.0, 768.0, 1878.0, 215.0, 974.0, 657.0, 349.0, 1233.0, 58.0, 487.0, 48.0, 18.0, 599.0, 885.0, 1267.0, 1348.0, 1815.0, 1613.0]}], \"labelangle\": 30, \"labelside\": \"bottom\", \"line\": {\"color\": [0.8755643367767334, 0.9891334772109985, 0.19873863458633423, 0.8779668211936951, 0.2330784797668457, 0.8957996368408203, 0.19940848648548126, 1.0503551959991455, 0.20152287185192108, 0.20771226286888123, 0.19179609417915344, 0.19737756252288818, 0.19921354949474335, 0.2024354785680771, 0.19310417771339417, 0.19879421591758728, 0.18547703325748444, 0.22958849370479584, 0.20434384047985077, 0.19204182922840118], \"colorbar\": {\"title\": {\"text\": \"Objective Value\"}}, \"colorscale\": [[0.0, \"rgb(247,251,255)\"], [0.125, \"rgb(222,235,247)\"], [0.25, \"rgb(198,219,239)\"], [0.375, \"rgb(158,202,225)\"], [0.5, \"rgb(107,174,214)\"], [0.625, \"rgb(66,146,198)\"], [0.75, \"rgb(33,113,181)\"], [0.875, \"rgb(8,81,156)\"], [1.0, \"rgb(8,48,107)\"]], \"reversescale\": true, \"showscale\": true}, \"type\": \"parcoords\"}],\n",
              "                        {\"template\": {\"data\": {\"bar\": [{\"error_x\": {\"color\": \"#2a3f5f\"}, \"error_y\": {\"color\": \"#2a3f5f\"}, \"marker\": {\"line\": {\"color\": \"#E5ECF6\", \"width\": 0.5}}, \"type\": \"bar\"}], \"barpolar\": [{\"marker\": {\"line\": {\"color\": \"#E5ECF6\", \"width\": 0.5}}, \"type\": \"barpolar\"}], \"carpet\": [{\"aaxis\": {\"endlinecolor\": \"#2a3f5f\", \"gridcolor\": \"white\", \"linecolor\": \"white\", \"minorgridcolor\": \"white\", \"startlinecolor\": \"#2a3f5f\"}, \"baxis\": {\"endlinecolor\": \"#2a3f5f\", \"gridcolor\": \"white\", \"linecolor\": \"white\", \"minorgridcolor\": \"white\", \"startlinecolor\": \"#2a3f5f\"}, \"type\": \"carpet\"}], \"choropleth\": [{\"colorbar\": {\"outlinewidth\": 0, \"ticks\": \"\"}, \"type\": \"choropleth\"}], \"contour\": [{\"colorbar\": {\"outlinewidth\": 0, \"ticks\": \"\"}, \"colorscale\": [[0.0, \"#0d0887\"], [0.1111111111111111, \"#46039f\"], [0.2222222222222222, \"#7201a8\"], [0.3333333333333333, \"#9c179e\"], [0.4444444444444444, \"#bd3786\"], [0.5555555555555556, \"#d8576b\"], [0.6666666666666666, \"#ed7953\"], [0.7777777777777778, \"#fb9f3a\"], [0.8888888888888888, \"#fdca26\"], [1.0, \"#f0f921\"]], \"type\": \"contour\"}], \"contourcarpet\": [{\"colorbar\": {\"outlinewidth\": 0, \"ticks\": \"\"}, \"type\": \"contourcarpet\"}], \"heatmap\": [{\"colorbar\": {\"outlinewidth\": 0, \"ticks\": \"\"}, \"colorscale\": [[0.0, \"#0d0887\"], [0.1111111111111111, \"#46039f\"], [0.2222222222222222, \"#7201a8\"], [0.3333333333333333, \"#9c179e\"], [0.4444444444444444, \"#bd3786\"], [0.5555555555555556, \"#d8576b\"], [0.6666666666666666, \"#ed7953\"], [0.7777777777777778, \"#fb9f3a\"], [0.8888888888888888, \"#fdca26\"], [1.0, \"#f0f921\"]], \"type\": \"heatmap\"}], \"heatmapgl\": [{\"colorbar\": {\"outlinewidth\": 0, \"ticks\": \"\"}, \"colorscale\": [[0.0, \"#0d0887\"], [0.1111111111111111, \"#46039f\"], [0.2222222222222222, \"#7201a8\"], [0.3333333333333333, \"#9c179e\"], [0.4444444444444444, \"#bd3786\"], [0.5555555555555556, \"#d8576b\"], [0.6666666666666666, \"#ed7953\"], [0.7777777777777778, \"#fb9f3a\"], [0.8888888888888888, \"#fdca26\"], [1.0, \"#f0f921\"]], \"type\": \"heatmapgl\"}], \"histogram\": [{\"marker\": {\"colorbar\": {\"outlinewidth\": 0, \"ticks\": \"\"}}, \"type\": \"histogram\"}], \"histogram2d\": [{\"colorbar\": {\"outlinewidth\": 0, \"ticks\": \"\"}, \"colorscale\": [[0.0, \"#0d0887\"], [0.1111111111111111, \"#46039f\"], [0.2222222222222222, \"#7201a8\"], [0.3333333333333333, \"#9c179e\"], [0.4444444444444444, \"#bd3786\"], [0.5555555555555556, \"#d8576b\"], [0.6666666666666666, \"#ed7953\"], [0.7777777777777778, \"#fb9f3a\"], [0.8888888888888888, \"#fdca26\"], [1.0, \"#f0f921\"]], \"type\": \"histogram2d\"}], \"histogram2dcontour\": [{\"colorbar\": {\"outlinewidth\": 0, \"ticks\": \"\"}, \"colorscale\": [[0.0, \"#0d0887\"], [0.1111111111111111, \"#46039f\"], [0.2222222222222222, \"#7201a8\"], [0.3333333333333333, \"#9c179e\"], [0.4444444444444444, \"#bd3786\"], [0.5555555555555556, \"#d8576b\"], [0.6666666666666666, \"#ed7953\"], [0.7777777777777778, \"#fb9f3a\"], [0.8888888888888888, \"#fdca26\"], [1.0, \"#f0f921\"]], \"type\": \"histogram2dcontour\"}], \"mesh3d\": [{\"colorbar\": {\"outlinewidth\": 0, \"ticks\": \"\"}, \"type\": \"mesh3d\"}], \"parcoords\": [{\"line\": {\"colorbar\": {\"outlinewidth\": 0, \"ticks\": \"\"}}, \"type\": \"parcoords\"}], \"pie\": [{\"automargin\": true, \"type\": \"pie\"}], \"scatter\": [{\"marker\": {\"colorbar\": {\"outlinewidth\": 0, \"ticks\": \"\"}}, \"type\": \"scatter\"}], \"scatter3d\": [{\"line\": {\"colorbar\": {\"outlinewidth\": 0, \"ticks\": \"\"}}, \"marker\": {\"colorbar\": {\"outlinewidth\": 0, \"ticks\": \"\"}}, \"type\": \"scatter3d\"}], \"scattercarpet\": [{\"marker\": {\"colorbar\": {\"outlinewidth\": 0, \"ticks\": \"\"}}, \"type\": \"scattercarpet\"}], \"scattergeo\": [{\"marker\": {\"colorbar\": {\"outlinewidth\": 0, \"ticks\": \"\"}}, \"type\": \"scattergeo\"}], \"scattergl\": [{\"marker\": {\"colorbar\": {\"outlinewidth\": 0, \"ticks\": \"\"}}, \"type\": \"scattergl\"}], \"scattermapbox\": [{\"marker\": {\"colorbar\": {\"outlinewidth\": 0, \"ticks\": \"\"}}, \"type\": \"scattermapbox\"}], \"scatterpolar\": [{\"marker\": {\"colorbar\": {\"outlinewidth\": 0, \"ticks\": \"\"}}, \"type\": \"scatterpolar\"}], \"scatterpolargl\": [{\"marker\": {\"colorbar\": {\"outlinewidth\": 0, \"ticks\": \"\"}}, \"type\": \"scatterpolargl\"}], \"scatterternary\": [{\"marker\": {\"colorbar\": {\"outlinewidth\": 0, \"ticks\": \"\"}}, \"type\": \"scatterternary\"}], \"surface\": [{\"colorbar\": {\"outlinewidth\": 0, \"ticks\": \"\"}, \"colorscale\": [[0.0, \"#0d0887\"], [0.1111111111111111, \"#46039f\"], [0.2222222222222222, \"#7201a8\"], [0.3333333333333333, \"#9c179e\"], [0.4444444444444444, \"#bd3786\"], [0.5555555555555556, \"#d8576b\"], [0.6666666666666666, \"#ed7953\"], [0.7777777777777778, \"#fb9f3a\"], [0.8888888888888888, \"#fdca26\"], [1.0, \"#f0f921\"]], \"type\": \"surface\"}], \"table\": [{\"cells\": {\"fill\": {\"color\": \"#EBF0F8\"}, \"line\": {\"color\": \"white\"}}, \"header\": {\"fill\": {\"color\": \"#C8D4E3\"}, \"line\": {\"color\": \"white\"}}, \"type\": \"table\"}]}, \"layout\": {\"annotationdefaults\": {\"arrowcolor\": \"#2a3f5f\", \"arrowhead\": 0, \"arrowwidth\": 1}, \"coloraxis\": {\"colorbar\": {\"outlinewidth\": 0, \"ticks\": \"\"}}, \"colorscale\": {\"diverging\": [[0, \"#8e0152\"], [0.1, \"#c51b7d\"], [0.2, \"#de77ae\"], [0.3, \"#f1b6da\"], [0.4, \"#fde0ef\"], [0.5, \"#f7f7f7\"], [0.6, \"#e6f5d0\"], [0.7, \"#b8e186\"], [0.8, \"#7fbc41\"], [0.9, \"#4d9221\"], [1, \"#276419\"]], \"sequential\": [[0.0, \"#0d0887\"], [0.1111111111111111, \"#46039f\"], [0.2222222222222222, \"#7201a8\"], [0.3333333333333333, \"#9c179e\"], [0.4444444444444444, \"#bd3786\"], [0.5555555555555556, \"#d8576b\"], [0.6666666666666666, \"#ed7953\"], [0.7777777777777778, \"#fb9f3a\"], [0.8888888888888888, \"#fdca26\"], [1.0, \"#f0f921\"]], \"sequentialminus\": [[0.0, \"#0d0887\"], [0.1111111111111111, \"#46039f\"], [0.2222222222222222, \"#7201a8\"], [0.3333333333333333, \"#9c179e\"], [0.4444444444444444, \"#bd3786\"], [0.5555555555555556, \"#d8576b\"], [0.6666666666666666, \"#ed7953\"], [0.7777777777777778, \"#fb9f3a\"], [0.8888888888888888, \"#fdca26\"], [1.0, \"#f0f921\"]]}, \"colorway\": [\"#636efa\", \"#EF553B\", \"#00cc96\", \"#ab63fa\", \"#FFA15A\", \"#19d3f3\", \"#FF6692\", \"#B6E880\", \"#FF97FF\", \"#FECB52\"], \"font\": {\"color\": \"#2a3f5f\"}, \"geo\": {\"bgcolor\": \"white\", \"lakecolor\": \"white\", \"landcolor\": \"#E5ECF6\", \"showlakes\": true, \"showland\": true, \"subunitcolor\": \"white\"}, \"hoverlabel\": {\"align\": \"left\"}, \"hovermode\": \"closest\", \"mapbox\": {\"style\": \"light\"}, \"paper_bgcolor\": \"white\", \"plot_bgcolor\": \"#E5ECF6\", \"polar\": {\"angularaxis\": {\"gridcolor\": \"white\", \"linecolor\": \"white\", \"ticks\": \"\"}, \"bgcolor\": \"#E5ECF6\", \"radialaxis\": {\"gridcolor\": \"white\", \"linecolor\": \"white\", \"ticks\": \"\"}}, \"scene\": {\"xaxis\": {\"backgroundcolor\": \"#E5ECF6\", \"gridcolor\": \"white\", \"gridwidth\": 2, \"linecolor\": \"white\", \"showbackground\": true, \"ticks\": \"\", \"zerolinecolor\": \"white\"}, \"yaxis\": {\"backgroundcolor\": \"#E5ECF6\", \"gridcolor\": \"white\", \"gridwidth\": 2, \"linecolor\": \"white\", \"showbackground\": true, \"ticks\": \"\", \"zerolinecolor\": \"white\"}, \"zaxis\": {\"backgroundcolor\": \"#E5ECF6\", \"gridcolor\": \"white\", \"gridwidth\": 2, \"linecolor\": \"white\", \"showbackground\": true, \"ticks\": \"\", \"zerolinecolor\": \"white\"}}, \"shapedefaults\": {\"line\": {\"color\": \"#2a3f5f\"}}, \"ternary\": {\"aaxis\": {\"gridcolor\": \"white\", \"linecolor\": \"white\", \"ticks\": \"\"}, \"baxis\": {\"gridcolor\": \"white\", \"linecolor\": \"white\", \"ticks\": \"\"}, \"bgcolor\": \"#E5ECF6\", \"caxis\": {\"gridcolor\": \"white\", \"linecolor\": \"white\", \"ticks\": \"\"}}, \"title\": {\"x\": 0.05}, \"xaxis\": {\"automargin\": true, \"gridcolor\": \"white\", \"linecolor\": \"white\", \"ticks\": \"\", \"title\": {\"standoff\": 15}, \"zerolinecolor\": \"white\", \"zerolinewidth\": 2}, \"yaxis\": {\"automargin\": true, \"gridcolor\": \"white\", \"linecolor\": \"white\", \"ticks\": \"\", \"title\": {\"standoff\": 15}, \"zerolinecolor\": \"white\", \"zerolinewidth\": 2}}}, \"title\": {\"text\": \"Parallel Coordinate Plot\"}},\n",
              "                        {\"responsive\": true}\n",
              "                    ).then(function(){\n",
              "                            \n",
              "var gd = document.getElementById('f66c3f6f-f27e-4f40-9e0d-8320ad234e3c');\n",
              "var x = new MutationObserver(function (mutations, observer) {{\n",
              "        var display = window.getComputedStyle(gd).display;\n",
              "        if (!display || display === 'none') {{\n",
              "            console.log([gd, 'removed!']);\n",
              "            Plotly.purge(gd);\n",
              "            observer.disconnect();\n",
              "        }}\n",
              "}});\n",
              "\n",
              "// Listen for the removal of the full notebook cells\n",
              "var notebookContainer = gd.closest('#notebook-container');\n",
              "if (notebookContainer) {{\n",
              "    x.observe(notebookContainer, {childList: true});\n",
              "}}\n",
              "\n",
              "// Listen for the clearing of the current output cell\n",
              "var outputEl = gd.closest('.output');\n",
              "if (outputEl) {{\n",
              "    x.observe(outputEl, {childList: true});\n",
              "}}\n",
              "\n",
              "                        })\n",
              "                };\n",
              "                \n",
              "            </script>\n",
              "        </div>\n",
              "</body>\n",
              "</html>"
            ]
          },
          "metadata": {
            "tags": []
          }
        }
      ]
    },
    {
      "cell_type": "markdown",
      "metadata": {
        "id": "IPypPNW_jnsx"
      },
      "source": [
        "## Visualizing Parameter Relationships"
      ]
    },
    {
      "cell_type": "code",
      "metadata": {
        "colab": {
          "base_uri": "https://localhost:8080/",
          "height": 542
        },
        "id": "FvXpJbfGjpmZ",
        "outputId": "62abc2d2-3113-49c7-c72b-f52192daa696"
      },
      "source": [
        "from optuna.visualization import plot_contour\r\n",
        "\r\n",
        "plot_contour(study)"
      ],
      "execution_count": 12,
      "outputs": [
        {
          "output_type": "display_data",
          "data": {
            "text/html": [
              "<html>\n",
              "<head><meta charset=\"utf-8\" /></head>\n",
              "<body>\n",
              "    <div>\n",
              "            <script src=\"https://cdnjs.cloudflare.com/ajax/libs/mathjax/2.7.5/MathJax.js?config=TeX-AMS-MML_SVG\"></script><script type=\"text/javascript\">if (window.MathJax) {MathJax.Hub.Config({SVG: {font: \"STIX-Web\"}});}</script>\n",
              "                <script type=\"text/javascript\">window.PlotlyConfig = {MathJaxConfig: 'local'};</script>\n",
              "        <script src=\"https://cdn.plot.ly/plotly-latest.min.js\"></script>    \n",
              "            <div id=\"1e8cc02d-49e2-4eaf-9893-50253582f1b7\" class=\"plotly-graph-div\" style=\"height:525px; width:100%;\"></div>\n",
              "            <script type=\"text/javascript\">\n",
              "                \n",
              "                    window.PLOTLYENV=window.PLOTLYENV || {};\n",
              "                    \n",
              "                if (document.getElementById(\"1e8cc02d-49e2-4eaf-9893-50253582f1b7\")) {\n",
              "                    Plotly.newPlot(\n",
              "                        '1e8cc02d-49e2-4eaf-9893-50253582f1b7',\n",
              "                        [{\"type\": \"scatter\", \"xaxis\": \"x\", \"yaxis\": \"y\"}, {\"colorbar\": {\"title\": {\"text\": \"Objective Value\"}}, \"colorscale\": [[0, \"rgb(220,220,220)\"], [0.30000000000000004, \"rgb(106,137,247)\"], [0.4, \"rgb(90,120,245)\"], [0.5, \"rgb(70,100,245)\"], [0.65, \"rgb(40,60,190)\"], [1, \"rgb(5,10,172)\"]], \"connectgaps\": true, \"contours\": {\"coloring\": \"heatmap\"}, \"hoverinfo\": \"none\", \"line\": {\"smoothing\": 1.3}, \"showscale\": true, \"type\": \"contour\", \"x\": [\"linear\", \"relu\", \"sigmoid\"], \"xaxis\": \"x5\", \"y\": [-0.004109723285574879, 0.019677676818332296, 0.07650398263154923, 0.08589252351694829, 0.09960797077195843, 0.14332682435853805, 0.15929115427501545, 0.1709262457889005, 0.17471784260023945, 0.17656531403008602, 0.21265666278230785, 0.2317438547299526, 0.23479757087807734, 0.2655304622377676, 0.27915582038102393, 0.3058569889361619, 0.3280433070217674, 0.3667001383571827, 0.4153696713682228, 0.43081838263085065, 0.4954256788964758, 0.519213079000383], \"yaxis\": \"y5\", \"z\": [[null, null, null], [null, 0.2024354785680771, null], [0.8957996368408203, null, null], [null, 0.19879421591758728, null], [null, 0.19204182922840118, null], [null, null, 0.9891334772109985], [null, 0.19921354949474335, null], [null, 0.19310417771339417, null], [null, 0.19737756252288818, null], [null, 0.19179609417915344, null], [null, 0.18547703325748444, null], [null, 0.22958849370479584, null], [null, null, 1.0503551959991455], [null, 0.19940848648548126, null], [null, 0.19873863458633423, null], [null, 0.20152287185192108, null], [null, 0.20434384047985077, null], [null, 0.2330784797668457, null], [0.8779668211936951, null, null], [null, null, 0.20771226286888123], [0.8755643367767334, null, null], [null, null, null]]}, {\"marker\": {\"color\": \"black\", \"line\": {\"color\": \"Grey\", \"width\": 0.5}}, \"mode\": \"markers\", \"showlegend\": false, \"type\": \"scatter\", \"x\": [\"linear\", \"sigmoid\", \"relu\", \"linear\", \"relu\", \"linear\", \"relu\", \"sigmoid\", \"relu\", \"sigmoid\", \"relu\", \"relu\", \"relu\", \"relu\", \"relu\", \"relu\", \"relu\", \"relu\", \"relu\", \"relu\"], \"xaxis\": \"x5\", \"y\": [0.4954256788964758, 0.14332682435853805, 0.27915582038102393, 0.4153696713682228, 0.3667001383571827, 0.07650398263154923, 0.2655304622377676, 0.23479757087807734, 0.3058569889361619, 0.43081838263085065, 0.17656531403008602, 0.17471784260023945, 0.15929115427501545, 0.019677676818332296, 0.1709262457889005, 0.08589252351694829, 0.21265666278230785, 0.2317438547299526, 0.3280433070217674, 0.09960797077195843], \"yaxis\": \"y5\"}, {\"colorbar\": {\"title\": {\"text\": \"Objective Value\"}}, \"colorscale\": [[0, \"rgb(220,220,220)\"], [0.30000000000000004, \"rgb(106,137,247)\"], [0.4, \"rgb(90,120,245)\"], [0.5, \"rgb(70,100,245)\"], [0.65, \"rgb(40,60,190)\"], [1, \"rgb(5,10,172)\"]], \"connectgaps\": true, \"contours\": {\"coloring\": \"heatmap\"}, \"hoverinfo\": \"none\", \"line\": {\"smoothing\": 1.3}, \"showscale\": false, \"type\": \"contour\", \"x\": [\"linear\", \"relu\", \"sigmoid\"], \"xaxis\": \"x9\", \"y\": [0.0005334284853961763, 0.0005676994616347687, 0.0005915701823074618, 0.0006541711687500174, 0.000809904111691024, 0.0008396285764200849, 0.0009401582655666743, 0.0010101903037339182, 0.0011274696906762919, 0.0011328879826936625, 0.0011583866291521568, 0.0013370226395689074, 0.0013706061404429402, 0.0013710371730390838, 0.0015492680452204777, 0.0016507953433347712, 0.001900080146390628, 0.0019033259238143202, 0.001923732275060687, 0.0019450954497719883, 0.001972259509366055, 0.00209897051305687], \"yaxis\": \"y9\", \"z\": [[null, null, null], [0.8957996368408203, null, null], [null, 0.2330784797668457, null], [null, 0.20434384047985077, null], [null, null, 1.0503551959991455], [null, 0.20152287185192108, null], [null, null, 0.20771226286888123], [0.8755643367767334, null, null], [null, 0.18547703325748444, null], [null, 0.19204182922840118, null], [null, 0.22958849370479584, null], [null, null, 0.9891334772109985], [null, 0.19873863458633423, null], [0.8779668211936951, null, null], [null, 0.19940848648548126, null], [null, 0.19879421591758728, null], [null, 0.19179609417915344, null], [null, 0.19921354949474335, null], [null, 0.19737756252288818, null], [null, 0.2024354785680771, null], [null, 0.19310417771339417, null], [null, null, null]]}, {\"marker\": {\"color\": \"black\", \"line\": {\"color\": \"Grey\", \"width\": 0.5}}, \"mode\": \"markers\", \"showlegend\": false, \"type\": \"scatter\", \"x\": [\"linear\", \"sigmoid\", \"relu\", \"linear\", \"relu\", \"linear\", \"relu\", \"sigmoid\", \"relu\", \"sigmoid\", \"relu\", \"relu\", \"relu\", \"relu\", \"relu\", \"relu\", \"relu\", \"relu\", \"relu\", \"relu\"], \"xaxis\": \"x9\", \"y\": [0.0010101903037339182, 0.0013370226395689074, 0.0013706061404429402, 0.0013710371730390838, 0.0005915701823074618, 0.0005676994616347687, 0.0015492680452204777, 0.000809904111691024, 0.0008396285764200849, 0.0009401582655666743, 0.001900080146390628, 0.001923732275060687, 0.0019033259238143202, 0.0019450954497719883, 0.001972259509366055, 0.0016507953433347712, 0.0011274696906762919, 0.0011583866291521568, 0.0006541711687500174, 0.0011328879826936625], \"yaxis\": \"y9\"}, {\"colorbar\": {\"title\": {\"text\": \"Objective Value\"}}, \"colorscale\": [[0, \"rgb(220,220,220)\"], [0.30000000000000004, \"rgb(106,137,247)\"], [0.4, \"rgb(90,120,245)\"], [0.5, \"rgb(70,100,245)\"], [0.65, \"rgb(40,60,190)\"], [1, \"rgb(5,10,172)\"]], \"connectgaps\": true, \"contours\": {\"coloring\": \"heatmap\"}, \"hoverinfo\": \"none\", \"line\": {\"smoothing\": 1.3}, \"showscale\": false, \"type\": \"contour\", \"x\": [\"linear\", \"relu\", \"sigmoid\"], \"xaxis\": \"x13\", \"y\": [-75.0, 18.0, 48.0, 58.0, 215.0, 224.0, 349.0, 376.0, 487.0, 599.0, 657.0, 768.0, 885.0, 974.0, 1233.0, 1267.0, 1348.0, 1526.0, 1613.0, 1815.0, 1878.0, 1971.0], \"yaxis\": \"y13\", \"z\": [[null, null, null], [null, 0.2024354785680771, null], [null, 0.19921354949474335, null], [null, 0.19179609417915344, null], [0.8957996368408203, null, null], [0.8755643367767334, null, null], [null, 0.20152287185192108, null], [null, 0.19873863458633423, null], [null, 0.19737756252288818, null], [null, 0.19310417771339417, null], [null, null, 1.0503551959991455], [0.8779668211936951, null, null], [null, 0.19879421591758728, null], [null, 0.19940848648548126, null], [null, null, 0.20771226286888123], [null, 0.18547703325748444, null], [null, 0.22958849370479584, null], [null, null, 0.9891334772109985], [null, 0.19204182922840118, null], [null, 0.20434384047985077, null], [null, 0.2330784797668457, null], [null, null, null]]}, {\"marker\": {\"color\": \"black\", \"line\": {\"color\": \"Grey\", \"width\": 0.5}}, \"mode\": \"markers\", \"showlegend\": false, \"type\": \"scatter\", \"x\": [\"linear\", \"sigmoid\", \"relu\", \"linear\", \"relu\", \"linear\", \"relu\", \"sigmoid\", \"relu\", \"sigmoid\", \"relu\", \"relu\", \"relu\", \"relu\", \"relu\", \"relu\", \"relu\", \"relu\", \"relu\", \"relu\"], \"xaxis\": \"x13\", \"y\": [224.0, 1526.0, 376.0, 768.0, 1878.0, 215.0, 974.0, 657.0, 349.0, 1233.0, 58.0, 487.0, 48.0, 18.0, 599.0, 885.0, 1267.0, 1348.0, 1815.0, 1613.0], \"yaxis\": \"y13\"}, {\"colorbar\": {\"title\": {\"text\": \"Objective Value\"}}, \"colorscale\": [[0, \"rgb(220,220,220)\"], [0.30000000000000004, \"rgb(106,137,247)\"], [0.4, \"rgb(90,120,245)\"], [0.5, \"rgb(70,100,245)\"], [0.65, \"rgb(40,60,190)\"], [1, \"rgb(5,10,172)\"]], \"connectgaps\": true, \"contours\": {\"coloring\": \"heatmap\"}, \"hoverinfo\": \"none\", \"line\": {\"smoothing\": 1.3}, \"showscale\": false, \"type\": \"contour\", \"x\": [-0.004109723285574879, 0.019677676818332296, 0.07650398263154923, 0.08589252351694829, 0.09960797077195843, 0.14332682435853805, 0.15929115427501545, 0.1709262457889005, 0.17471784260023945, 0.17656531403008602, 0.21265666278230785, 0.2317438547299526, 0.23479757087807734, 0.2655304622377676, 0.27915582038102393, 0.3058569889361619, 0.3280433070217674, 0.3667001383571827, 0.4153696713682228, 0.43081838263085065, 0.4954256788964758, 0.519213079000383], \"xaxis\": \"x2\", \"y\": [\"linear\", \"relu\", \"sigmoid\"], \"yaxis\": \"y2\", \"z\": [[null, null, 0.8957996368408203, null, null, null, null, null, null, null, null, null, null, null, null, null, null, null, 0.8779668211936951, null, 0.8755643367767334, null], [null, 0.2024354785680771, null, 0.19879421591758728, 0.19204182922840118, null, 0.19921354949474335, 0.19310417771339417, 0.19737756252288818, 0.19179609417915344, 0.18547703325748444, 0.22958849370479584, null, 0.19940848648548126, 0.19873863458633423, 0.20152287185192108, 0.20434384047985077, 0.2330784797668457, null, null, null, null], [null, null, null, null, null, 0.9891334772109985, null, null, null, null, null, null, 1.0503551959991455, null, null, null, null, null, null, 0.20771226286888123, null, null]]}, {\"marker\": {\"color\": \"black\", \"line\": {\"color\": \"Grey\", \"width\": 0.5}}, \"mode\": \"markers\", \"showlegend\": false, \"type\": \"scatter\", \"x\": [0.4954256788964758, 0.14332682435853805, 0.27915582038102393, 0.4153696713682228, 0.3667001383571827, 0.07650398263154923, 0.2655304622377676, 0.23479757087807734, 0.3058569889361619, 0.43081838263085065, 0.17656531403008602, 0.17471784260023945, 0.15929115427501545, 0.019677676818332296, 0.1709262457889005, 0.08589252351694829, 0.21265666278230785, 0.2317438547299526, 0.3280433070217674, 0.09960797077195843], \"xaxis\": \"x2\", \"y\": [\"linear\", \"sigmoid\", \"relu\", \"linear\", \"relu\", \"linear\", \"relu\", \"sigmoid\", \"relu\", \"sigmoid\", \"relu\", \"relu\", \"relu\", \"relu\", \"relu\", \"relu\", \"relu\", \"relu\", \"relu\", \"relu\"], \"yaxis\": \"y2\"}, {\"type\": \"scatter\", \"xaxis\": \"x6\", \"yaxis\": \"y6\"}, {\"colorbar\": {\"title\": {\"text\": \"Objective Value\"}}, \"colorscale\": [[0, \"rgb(220,220,220)\"], [0.30000000000000004, \"rgb(106,137,247)\"], [0.4, \"rgb(90,120,245)\"], [0.5, \"rgb(70,100,245)\"], [0.65, \"rgb(40,60,190)\"], [1, \"rgb(5,10,172)\"]], \"connectgaps\": true, \"contours\": {\"coloring\": \"heatmap\"}, \"hoverinfo\": \"none\", \"line\": {\"smoothing\": 1.3}, \"showscale\": false, \"type\": \"contour\", \"x\": [-0.004109723285574879, 0.019677676818332296, 0.07650398263154923, 0.08589252351694829, 0.09960797077195843, 0.14332682435853805, 0.15929115427501545, 0.1709262457889005, 0.17471784260023945, 0.17656531403008602, 0.21265666278230785, 0.2317438547299526, 0.23479757087807734, 0.2655304622377676, 0.27915582038102393, 0.3058569889361619, 0.3280433070217674, 0.3667001383571827, 0.4153696713682228, 0.43081838263085065, 0.4954256788964758, 0.519213079000383], \"xaxis\": \"x10\", \"y\": [0.0005334284853961763, 0.0005676994616347687, 0.0005915701823074618, 0.0006541711687500174, 0.000809904111691024, 0.0008396285764200849, 0.0009401582655666743, 0.0010101903037339182, 0.0011274696906762919, 0.0011328879826936625, 0.0011583866291521568, 0.0013370226395689074, 0.0013706061404429402, 0.0013710371730390838, 0.0015492680452204777, 0.0016507953433347712, 0.001900080146390628, 0.0019033259238143202, 0.001923732275060687, 0.0019450954497719883, 0.001972259509366055, 0.00209897051305687], \"yaxis\": \"y10\", \"z\": [[null, null, null, null, null, null, null, null, null, null, null, null, null, null, null, null, null, null, null, null, null, null], [null, null, 0.8957996368408203, null, null, null, null, null, null, null, null, null, null, null, null, null, null, null, null, null, null, null], [null, null, null, null, null, null, null, null, null, null, null, null, null, null, null, null, null, 0.2330784797668457, null, null, null, null], [null, null, null, null, null, null, null, null, null, null, null, null, null, null, null, null, 0.20434384047985077, null, null, null, null, null], [null, null, null, null, null, null, null, null, null, null, null, null, 1.0503551959991455, null, null, null, null, null, null, null, null, null], [null, null, null, null, null, null, null, null, null, null, null, null, null, null, null, 0.20152287185192108, null, null, null, null, null, null], [null, null, null, null, null, null, null, null, null, null, null, null, null, null, null, null, null, null, null, 0.20771226286888123, null, null], [null, null, null, null, null, null, null, null, null, null, null, null, null, null, null, null, null, null, null, null, 0.8755643367767334, null], [null, null, null, null, null, null, null, null, null, null, 0.18547703325748444, null, null, null, null, null, null, null, null, null, null, null], [null, null, null, null, 0.19204182922840118, null, null, null, null, null, null, null, null, null, null, null, null, null, null, null, null, null], [null, null, null, null, null, null, null, null, null, null, null, 0.22958849370479584, null, null, null, null, null, null, null, null, null, null], [null, null, null, null, null, 0.9891334772109985, null, null, null, null, null, null, null, null, null, null, null, null, null, null, null, null], [null, null, null, null, null, null, null, null, null, null, null, null, null, null, 0.19873863458633423, null, null, null, null, null, null, null], [null, null, null, null, null, null, null, null, null, null, null, null, null, null, null, null, null, null, 0.8779668211936951, null, null, null], [null, null, null, null, null, null, null, null, null, null, null, null, null, 0.19940848648548126, null, null, null, null, null, null, null, null], [null, null, null, 0.19879421591758728, null, null, null, null, null, null, null, null, null, null, null, null, null, null, null, null, null, null], [null, null, null, null, null, null, null, null, null, 0.19179609417915344, null, null, null, null, null, null, null, null, null, null, null, null], [null, null, null, null, null, null, 0.19921354949474335, null, null, null, null, null, null, null, null, null, null, null, null, null, null, null], [null, null, null, null, null, null, null, null, 0.19737756252288818, null, null, null, null, null, null, null, null, null, null, null, null, null], [null, 0.2024354785680771, null, null, null, null, null, null, null, null, null, null, null, null, null, null, null, null, null, null, null, null], [null, null, null, null, null, null, null, 0.19310417771339417, null, null, null, null, null, null, null, null, null, null, null, null, null, null], [null, null, null, null, null, null, null, null, null, null, null, null, null, null, null, null, null, null, null, null, null, null]]}, {\"marker\": {\"color\": \"black\", \"line\": {\"color\": \"Grey\", \"width\": 0.5}}, \"mode\": \"markers\", \"showlegend\": false, \"type\": \"scatter\", \"x\": [0.4954256788964758, 0.14332682435853805, 0.27915582038102393, 0.4153696713682228, 0.3667001383571827, 0.07650398263154923, 0.2655304622377676, 0.23479757087807734, 0.3058569889361619, 0.43081838263085065, 0.17656531403008602, 0.17471784260023945, 0.15929115427501545, 0.019677676818332296, 0.1709262457889005, 0.08589252351694829, 0.21265666278230785, 0.2317438547299526, 0.3280433070217674, 0.09960797077195843], \"xaxis\": \"x10\", \"y\": [0.0010101903037339182, 0.0013370226395689074, 0.0013706061404429402, 0.0013710371730390838, 0.0005915701823074618, 0.0005676994616347687, 0.0015492680452204777, 0.000809904111691024, 0.0008396285764200849, 0.0009401582655666743, 0.001900080146390628, 0.001923732275060687, 0.0019033259238143202, 0.0019450954497719883, 0.001972259509366055, 0.0016507953433347712, 0.0011274696906762919, 0.0011583866291521568, 0.0006541711687500174, 0.0011328879826936625], \"yaxis\": \"y10\"}, {\"colorbar\": {\"title\": {\"text\": \"Objective Value\"}}, \"colorscale\": [[0, \"rgb(220,220,220)\"], [0.30000000000000004, \"rgb(106,137,247)\"], [0.4, \"rgb(90,120,245)\"], [0.5, \"rgb(70,100,245)\"], [0.65, \"rgb(40,60,190)\"], [1, \"rgb(5,10,172)\"]], \"connectgaps\": true, \"contours\": {\"coloring\": \"heatmap\"}, \"hoverinfo\": \"none\", \"line\": {\"smoothing\": 1.3}, \"showscale\": false, \"type\": \"contour\", \"x\": [-0.004109723285574879, 0.019677676818332296, 0.07650398263154923, 0.08589252351694829, 0.09960797077195843, 0.14332682435853805, 0.15929115427501545, 0.1709262457889005, 0.17471784260023945, 0.17656531403008602, 0.21265666278230785, 0.2317438547299526, 0.23479757087807734, 0.2655304622377676, 0.27915582038102393, 0.3058569889361619, 0.3280433070217674, 0.3667001383571827, 0.4153696713682228, 0.43081838263085065, 0.4954256788964758, 0.519213079000383], \"xaxis\": \"x14\", \"y\": [-75.0, 18.0, 48.0, 58.0, 215.0, 224.0, 349.0, 376.0, 487.0, 599.0, 657.0, 768.0, 885.0, 974.0, 1233.0, 1267.0, 1348.0, 1526.0, 1613.0, 1815.0, 1878.0, 1971.0], \"yaxis\": \"y14\", \"z\": [[null, null, null, null, null, null, null, null, null, null, null, null, null, null, null, null, null, null, null, null, null, null], [null, 0.2024354785680771, null, null, null, null, null, null, null, null, null, null, null, null, null, null, null, null, null, null, null, null], [null, null, null, null, null, null, 0.19921354949474335, null, null, null, null, null, null, null, null, null, null, null, null, null, null, null], [null, null, null, null, null, null, null, null, null, 0.19179609417915344, null, null, null, null, null, null, null, null, null, null, null, null], [null, null, 0.8957996368408203, null, null, null, null, null, null, null, null, null, null, null, null, null, null, null, null, null, null, null], [null, null, null, null, null, null, null, null, null, null, null, null, null, null, null, null, null, null, null, null, 0.8755643367767334, null], [null, null, null, null, null, null, null, null, null, null, null, null, null, null, null, 0.20152287185192108, null, null, null, null, null, null], [null, null, null, null, null, null, null, null, null, null, null, null, null, null, 0.19873863458633423, null, null, null, null, null, null, null], [null, null, null, null, null, null, null, null, 0.19737756252288818, null, null, null, null, null, null, null, null, null, null, null, null, null], [null, null, null, null, null, null, null, 0.19310417771339417, null, null, null, null, null, null, null, null, null, null, null, null, null, null], [null, null, null, null, null, null, null, null, null, null, null, null, 1.0503551959991455, null, null, null, null, null, null, null, null, null], [null, null, null, null, null, null, null, null, null, null, null, null, null, null, null, null, null, null, 0.8779668211936951, null, null, null], [null, null, null, 0.19879421591758728, null, null, null, null, null, null, null, null, null, null, null, null, null, null, null, null, null, null], [null, null, null, null, null, null, null, null, null, null, null, null, null, 0.19940848648548126, null, null, null, null, null, null, null, null], [null, null, null, null, null, null, null, null, null, null, null, null, null, null, null, null, null, null, null, 0.20771226286888123, null, null], [null, null, null, null, null, null, null, null, null, null, 0.18547703325748444, null, null, null, null, null, null, null, null, null, null, null], [null, null, null, null, null, null, null, null, null, null, null, 0.22958849370479584, null, null, null, null, null, null, null, null, null, null], [null, null, null, null, null, 0.9891334772109985, null, null, null, null, null, null, null, null, null, null, null, null, null, null, null, null], [null, null, null, null, 0.19204182922840118, null, null, null, null, null, null, null, null, null, null, null, null, null, null, null, null, null], [null, null, null, null, null, null, null, null, null, null, null, null, null, null, null, null, 0.20434384047985077, null, null, null, null, null], [null, null, null, null, null, null, null, null, null, null, null, null, null, null, null, null, null, 0.2330784797668457, null, null, null, null], [null, null, null, null, null, null, null, null, null, null, null, null, null, null, null, null, null, null, null, null, null, null]]}, {\"marker\": {\"color\": \"black\", \"line\": {\"color\": \"Grey\", \"width\": 0.5}}, \"mode\": \"markers\", \"showlegend\": false, \"type\": \"scatter\", \"x\": [0.4954256788964758, 0.14332682435853805, 0.27915582038102393, 0.4153696713682228, 0.3667001383571827, 0.07650398263154923, 0.2655304622377676, 0.23479757087807734, 0.3058569889361619, 0.43081838263085065, 0.17656531403008602, 0.17471784260023945, 0.15929115427501545, 0.019677676818332296, 0.1709262457889005, 0.08589252351694829, 0.21265666278230785, 0.2317438547299526, 0.3280433070217674, 0.09960797077195843], \"xaxis\": \"x14\", \"y\": [224.0, 1526.0, 376.0, 768.0, 1878.0, 215.0, 974.0, 657.0, 349.0, 1233.0, 58.0, 487.0, 48.0, 18.0, 599.0, 885.0, 1267.0, 1348.0, 1815.0, 1613.0], \"yaxis\": \"y14\"}, {\"colorbar\": {\"title\": {\"text\": \"Objective Value\"}}, \"colorscale\": [[0, \"rgb(220,220,220)\"], [0.30000000000000004, \"rgb(106,137,247)\"], [0.4, \"rgb(90,120,245)\"], [0.5, \"rgb(70,100,245)\"], [0.65, \"rgb(40,60,190)\"], [1, \"rgb(5,10,172)\"]], \"connectgaps\": true, \"contours\": {\"coloring\": \"heatmap\"}, \"hoverinfo\": \"none\", \"line\": {\"smoothing\": 1.3}, \"showscale\": false, \"type\": \"contour\", \"x\": [0.0005334284853961763, 0.0005676994616347687, 0.0005915701823074618, 0.0006541711687500174, 0.000809904111691024, 0.0008396285764200849, 0.0009401582655666743, 0.0010101903037339182, 0.0011274696906762919, 0.0011328879826936625, 0.0011583866291521568, 0.0013370226395689074, 0.0013706061404429402, 0.0013710371730390838, 0.0015492680452204777, 0.0016507953433347712, 0.001900080146390628, 0.0019033259238143202, 0.001923732275060687, 0.0019450954497719883, 0.001972259509366055, 0.00209897051305687], \"xaxis\": \"x3\", \"y\": [\"linear\", \"relu\", \"sigmoid\"], \"yaxis\": \"y3\", \"z\": [[null, 0.8957996368408203, null, null, null, null, null, 0.8755643367767334, null, null, null, null, null, 0.8779668211936951, null, null, null, null, null, null, null, null], [null, null, 0.2330784797668457, 0.20434384047985077, null, 0.20152287185192108, null, null, 0.18547703325748444, 0.19204182922840118, 0.22958849370479584, null, 0.19873863458633423, null, 0.19940848648548126, 0.19879421591758728, 0.19179609417915344, 0.19921354949474335, 0.19737756252288818, 0.2024354785680771, 0.19310417771339417, null], [null, null, null, null, 1.0503551959991455, null, 0.20771226286888123, null, null, null, null, 0.9891334772109985, null, null, null, null, null, null, null, null, null, null]]}, {\"marker\": {\"color\": \"black\", \"line\": {\"color\": \"Grey\", \"width\": 0.5}}, \"mode\": \"markers\", \"showlegend\": false, \"type\": \"scatter\", \"x\": [0.0010101903037339182, 0.0013370226395689074, 0.0013706061404429402, 0.0013710371730390838, 0.0005915701823074618, 0.0005676994616347687, 0.0015492680452204777, 0.000809904111691024, 0.0008396285764200849, 0.0009401582655666743, 0.001900080146390628, 0.001923732275060687, 0.0019033259238143202, 0.0019450954497719883, 0.001972259509366055, 0.0016507953433347712, 0.0011274696906762919, 0.0011583866291521568, 0.0006541711687500174, 0.0011328879826936625], \"xaxis\": \"x3\", \"y\": [\"linear\", \"sigmoid\", \"relu\", \"linear\", \"relu\", \"linear\", \"relu\", \"sigmoid\", \"relu\", \"sigmoid\", \"relu\", \"relu\", \"relu\", \"relu\", \"relu\", \"relu\", \"relu\", \"relu\", \"relu\", \"relu\"], \"yaxis\": \"y3\"}, {\"colorbar\": {\"title\": {\"text\": \"Objective Value\"}}, \"colorscale\": [[0, \"rgb(220,220,220)\"], [0.30000000000000004, \"rgb(106,137,247)\"], [0.4, \"rgb(90,120,245)\"], [0.5, \"rgb(70,100,245)\"], [0.65, \"rgb(40,60,190)\"], [1, \"rgb(5,10,172)\"]], \"connectgaps\": true, \"contours\": {\"coloring\": \"heatmap\"}, \"hoverinfo\": \"none\", \"line\": {\"smoothing\": 1.3}, \"showscale\": false, \"type\": \"contour\", \"x\": [0.0005334284853961763, 0.0005676994616347687, 0.0005915701823074618, 0.0006541711687500174, 0.000809904111691024, 0.0008396285764200849, 0.0009401582655666743, 0.0010101903037339182, 0.0011274696906762919, 0.0011328879826936625, 0.0011583866291521568, 0.0013370226395689074, 0.0013706061404429402, 0.0013710371730390838, 0.0015492680452204777, 0.0016507953433347712, 0.001900080146390628, 0.0019033259238143202, 0.001923732275060687, 0.0019450954497719883, 0.001972259509366055, 0.00209897051305687], \"xaxis\": \"x7\", \"y\": [-0.004109723285574879, 0.019677676818332296, 0.07650398263154923, 0.08589252351694829, 0.09960797077195843, 0.14332682435853805, 0.15929115427501545, 0.1709262457889005, 0.17471784260023945, 0.17656531403008602, 0.21265666278230785, 0.2317438547299526, 0.23479757087807734, 0.2655304622377676, 0.27915582038102393, 0.3058569889361619, 0.3280433070217674, 0.3667001383571827, 0.4153696713682228, 0.43081838263085065, 0.4954256788964758, 0.519213079000383], \"yaxis\": \"y7\", \"z\": [[null, null, null, null, null, null, null, null, null, null, null, null, null, null, null, null, null, null, null, null, null, null], [null, null, null, null, null, null, null, null, null, null, null, null, null, null, null, null, null, null, null, 0.2024354785680771, null, null], [null, 0.8957996368408203, null, null, null, null, null, null, null, null, null, null, null, null, null, null, null, null, null, null, null, null], [null, null, null, null, null, null, null, null, null, null, null, null, null, null, null, 0.19879421591758728, null, null, null, null, null, null], [null, null, null, null, null, null, null, null, null, 0.19204182922840118, null, null, null, null, null, null, null, null, null, null, null, null], [null, null, null, null, null, null, null, null, null, null, null, 0.9891334772109985, null, null, null, null, null, null, null, null, null, null], [null, null, null, null, null, null, null, null, null, null, null, null, null, null, null, null, null, 0.19921354949474335, null, null, null, null], [null, null, null, null, null, null, null, null, null, null, null, null, null, null, null, null, null, null, null, null, 0.19310417771339417, null], [null, null, null, null, null, null, null, null, null, null, null, null, null, null, null, null, null, null, 0.19737756252288818, null, null, null], [null, null, null, null, null, null, null, null, null, null, null, null, null, null, null, null, 0.19179609417915344, null, null, null, null, null], [null, null, null, null, null, null, null, null, 0.18547703325748444, null, null, null, null, null, null, null, null, null, null, null, null, null], [null, null, null, null, null, null, null, null, null, null, 0.22958849370479584, null, null, null, null, null, null, null, null, null, null, null], [null, null, null, null, 1.0503551959991455, null, null, null, null, null, null, null, null, null, null, null, null, null, null, null, null, null], [null, null, null, null, null, null, null, null, null, null, null, null, null, null, 0.19940848648548126, null, null, null, null, null, null, null], [null, null, null, null, null, null, null, null, null, null, null, null, 0.19873863458633423, null, null, null, null, null, null, null, null, null], [null, null, null, null, null, 0.20152287185192108, null, null, null, null, null, null, null, null, null, null, null, null, null, null, null, null], [null, null, null, 0.20434384047985077, null, null, null, null, null, null, null, null, null, null, null, null, null, null, null, null, null, null], [null, null, 0.2330784797668457, null, null, null, null, null, null, null, null, null, null, null, null, null, null, null, null, null, null, null], [null, null, null, null, null, null, null, null, null, null, null, null, null, 0.8779668211936951, null, null, null, null, null, null, null, null], [null, null, null, null, null, null, 0.20771226286888123, null, null, null, null, null, null, null, null, null, null, null, null, null, null, null], [null, null, null, null, null, null, null, 0.8755643367767334, null, null, null, null, null, null, null, null, null, null, null, null, null, null], [null, null, null, null, null, null, null, null, null, null, null, null, null, null, null, null, null, null, null, null, null, null]]}, {\"marker\": {\"color\": \"black\", \"line\": {\"color\": \"Grey\", \"width\": 0.5}}, \"mode\": \"markers\", \"showlegend\": false, \"type\": \"scatter\", \"x\": [0.0010101903037339182, 0.0013370226395689074, 0.0013706061404429402, 0.0013710371730390838, 0.0005915701823074618, 0.0005676994616347687, 0.0015492680452204777, 0.000809904111691024, 0.0008396285764200849, 0.0009401582655666743, 0.001900080146390628, 0.001923732275060687, 0.0019033259238143202, 0.0019450954497719883, 0.001972259509366055, 0.0016507953433347712, 0.0011274696906762919, 0.0011583866291521568, 0.0006541711687500174, 0.0011328879826936625], \"xaxis\": \"x7\", \"y\": [0.4954256788964758, 0.14332682435853805, 0.27915582038102393, 0.4153696713682228, 0.3667001383571827, 0.07650398263154923, 0.2655304622377676, 0.23479757087807734, 0.3058569889361619, 0.43081838263085065, 0.17656531403008602, 0.17471784260023945, 0.15929115427501545, 0.019677676818332296, 0.1709262457889005, 0.08589252351694829, 0.21265666278230785, 0.2317438547299526, 0.3280433070217674, 0.09960797077195843], \"yaxis\": \"y7\"}, {\"type\": \"scatter\", \"xaxis\": \"x11\", \"yaxis\": \"y11\"}, {\"colorbar\": {\"title\": {\"text\": \"Objective Value\"}}, \"colorscale\": [[0, \"rgb(220,220,220)\"], [0.30000000000000004, \"rgb(106,137,247)\"], [0.4, \"rgb(90,120,245)\"], [0.5, \"rgb(70,100,245)\"], [0.65, \"rgb(40,60,190)\"], [1, \"rgb(5,10,172)\"]], \"connectgaps\": true, \"contours\": {\"coloring\": \"heatmap\"}, \"hoverinfo\": \"none\", \"line\": {\"smoothing\": 1.3}, \"showscale\": false, \"type\": \"contour\", \"x\": [0.0005334284853961763, 0.0005676994616347687, 0.0005915701823074618, 0.0006541711687500174, 0.000809904111691024, 0.0008396285764200849, 0.0009401582655666743, 0.0010101903037339182, 0.0011274696906762919, 0.0011328879826936625, 0.0011583866291521568, 0.0013370226395689074, 0.0013706061404429402, 0.0013710371730390838, 0.0015492680452204777, 0.0016507953433347712, 0.001900080146390628, 0.0019033259238143202, 0.001923732275060687, 0.0019450954497719883, 0.001972259509366055, 0.00209897051305687], \"xaxis\": \"x15\", \"y\": [-75.0, 18.0, 48.0, 58.0, 215.0, 224.0, 349.0, 376.0, 487.0, 599.0, 657.0, 768.0, 885.0, 974.0, 1233.0, 1267.0, 1348.0, 1526.0, 1613.0, 1815.0, 1878.0, 1971.0], \"yaxis\": \"y15\", \"z\": [[null, null, null, null, null, null, null, null, null, null, null, null, null, null, null, null, null, null, null, null, null, null], [null, null, null, null, null, null, null, null, null, null, null, null, null, null, null, null, null, null, null, 0.2024354785680771, null, null], [null, null, null, null, null, null, null, null, null, null, null, null, null, null, null, null, null, 0.19921354949474335, null, null, null, null], [null, null, null, null, null, null, null, null, null, null, null, null, null, null, null, null, 0.19179609417915344, null, null, null, null, null], [null, 0.8957996368408203, null, null, null, null, null, null, null, null, null, null, null, null, null, null, null, null, null, null, null, null], [null, null, null, null, null, null, null, 0.8755643367767334, null, null, null, null, null, null, null, null, null, null, null, null, null, null], [null, null, null, null, null, 0.20152287185192108, null, null, null, null, null, null, null, null, null, null, null, null, null, null, null, null], [null, null, null, null, null, null, null, null, null, null, null, null, 0.19873863458633423, null, null, null, null, null, null, null, null, null], [null, null, null, null, null, null, null, null, null, null, null, null, null, null, null, null, null, null, 0.19737756252288818, null, null, null], [null, null, null, null, null, null, null, null, null, null, null, null, null, null, null, null, null, null, null, null, 0.19310417771339417, null], [null, null, null, null, 1.0503551959991455, null, null, null, null, null, null, null, null, null, null, null, null, null, null, null, null, null], [null, null, null, null, null, null, null, null, null, null, null, null, null, 0.8779668211936951, null, null, null, null, null, null, null, null], [null, null, null, null, null, null, null, null, null, null, null, null, null, null, null, 0.19879421591758728, null, null, null, null, null, null], [null, null, null, null, null, null, null, null, null, null, null, null, null, null, 0.19940848648548126, null, null, null, null, null, null, null], [null, null, null, null, null, null, 0.20771226286888123, null, null, null, null, null, null, null, null, null, null, null, null, null, null, null], [null, null, null, null, null, null, null, null, 0.18547703325748444, null, null, null, null, null, null, null, null, null, null, null, null, null], [null, null, null, null, null, null, null, null, null, null, 0.22958849370479584, null, null, null, null, null, null, null, null, null, null, null], [null, null, null, null, null, null, null, null, null, null, null, 0.9891334772109985, null, null, null, null, null, null, null, null, null, null], [null, null, null, null, null, null, null, null, null, 0.19204182922840118, null, null, null, null, null, null, null, null, null, null, null, null], [null, null, null, 0.20434384047985077, null, null, null, null, null, null, null, null, null, null, null, null, null, null, null, null, null, null], [null, null, 0.2330784797668457, null, null, null, null, null, null, null, null, null, null, null, null, null, null, null, null, null, null, null], [null, null, null, null, null, null, null, null, null, null, null, null, null, null, null, null, null, null, null, null, null, null]]}, {\"marker\": {\"color\": \"black\", \"line\": {\"color\": \"Grey\", \"width\": 0.5}}, \"mode\": \"markers\", \"showlegend\": false, \"type\": \"scatter\", \"x\": [0.0010101903037339182, 0.0013370226395689074, 0.0013706061404429402, 0.0013710371730390838, 0.0005915701823074618, 0.0005676994616347687, 0.0015492680452204777, 0.000809904111691024, 0.0008396285764200849, 0.0009401582655666743, 0.001900080146390628, 0.001923732275060687, 0.0019033259238143202, 0.0019450954497719883, 0.001972259509366055, 0.0016507953433347712, 0.0011274696906762919, 0.0011583866291521568, 0.0006541711687500174, 0.0011328879826936625], \"xaxis\": \"x15\", \"y\": [224.0, 1526.0, 376.0, 768.0, 1878.0, 215.0, 974.0, 657.0, 349.0, 1233.0, 58.0, 487.0, 48.0, 18.0, 599.0, 885.0, 1267.0, 1348.0, 1815.0, 1613.0], \"yaxis\": \"y15\"}, {\"colorbar\": {\"title\": {\"text\": \"Objective Value\"}}, \"colorscale\": [[0, \"rgb(220,220,220)\"], [0.30000000000000004, \"rgb(106,137,247)\"], [0.4, \"rgb(90,120,245)\"], [0.5, \"rgb(70,100,245)\"], [0.65, \"rgb(40,60,190)\"], [1, \"rgb(5,10,172)\"]], \"connectgaps\": true, \"contours\": {\"coloring\": \"heatmap\"}, \"hoverinfo\": \"none\", \"line\": {\"smoothing\": 1.3}, \"showscale\": false, \"type\": \"contour\", \"x\": [-75.0, 18.0, 48.0, 58.0, 215.0, 224.0, 349.0, 376.0, 487.0, 599.0, 657.0, 768.0, 885.0, 974.0, 1233.0, 1267.0, 1348.0, 1526.0, 1613.0, 1815.0, 1878.0, 1971.0], \"xaxis\": \"x4\", \"y\": [\"linear\", \"relu\", \"sigmoid\"], \"yaxis\": \"y4\", \"z\": [[null, null, null, null, 0.8957996368408203, 0.8755643367767334, null, null, null, null, null, 0.8779668211936951, null, null, null, null, null, null, null, null, null, null], [null, 0.2024354785680771, 0.19921354949474335, 0.19179609417915344, null, null, 0.20152287185192108, 0.19873863458633423, 0.19737756252288818, 0.19310417771339417, null, null, 0.19879421591758728, 0.19940848648548126, null, 0.18547703325748444, 0.22958849370479584, null, 0.19204182922840118, 0.20434384047985077, 0.2330784797668457, null], [null, null, null, null, null, null, null, null, null, null, 1.0503551959991455, null, null, null, 0.20771226286888123, null, null, 0.9891334772109985, null, null, null, null]]}, {\"marker\": {\"color\": \"black\", \"line\": {\"color\": \"Grey\", \"width\": 0.5}}, \"mode\": \"markers\", \"showlegend\": false, \"type\": \"scatter\", \"x\": [224.0, 1526.0, 376.0, 768.0, 1878.0, 215.0, 974.0, 657.0, 349.0, 1233.0, 58.0, 487.0, 48.0, 18.0, 599.0, 885.0, 1267.0, 1348.0, 1815.0, 1613.0], \"xaxis\": \"x4\", \"y\": [\"linear\", \"sigmoid\", \"relu\", \"linear\", \"relu\", \"linear\", \"relu\", \"sigmoid\", \"relu\", \"sigmoid\", \"relu\", \"relu\", \"relu\", \"relu\", \"relu\", \"relu\", \"relu\", \"relu\", \"relu\", \"relu\"], \"yaxis\": \"y4\"}, {\"colorbar\": {\"title\": {\"text\": \"Objective Value\"}}, \"colorscale\": [[0, \"rgb(220,220,220)\"], [0.30000000000000004, \"rgb(106,137,247)\"], [0.4, \"rgb(90,120,245)\"], [0.5, \"rgb(70,100,245)\"], [0.65, \"rgb(40,60,190)\"], [1, \"rgb(5,10,172)\"]], \"connectgaps\": true, \"contours\": {\"coloring\": \"heatmap\"}, \"hoverinfo\": \"none\", \"line\": {\"smoothing\": 1.3}, \"showscale\": false, \"type\": \"contour\", \"x\": [-75.0, 18.0, 48.0, 58.0, 215.0, 224.0, 349.0, 376.0, 487.0, 599.0, 657.0, 768.0, 885.0, 974.0, 1233.0, 1267.0, 1348.0, 1526.0, 1613.0, 1815.0, 1878.0, 1971.0], \"xaxis\": \"x8\", \"y\": [-0.004109723285574879, 0.019677676818332296, 0.07650398263154923, 0.08589252351694829, 0.09960797077195843, 0.14332682435853805, 0.15929115427501545, 0.1709262457889005, 0.17471784260023945, 0.17656531403008602, 0.21265666278230785, 0.2317438547299526, 0.23479757087807734, 0.2655304622377676, 0.27915582038102393, 0.3058569889361619, 0.3280433070217674, 0.3667001383571827, 0.4153696713682228, 0.43081838263085065, 0.4954256788964758, 0.519213079000383], \"yaxis\": \"y8\", \"z\": [[null, null, null, null, null, null, null, null, null, null, null, null, null, null, null, null, null, null, null, null, null, null], [null, 0.2024354785680771, null, null, null, null, null, null, null, null, null, null, null, null, null, null, null, null, null, null, null, null], [null, null, null, null, 0.8957996368408203, null, null, null, null, null, null, null, null, null, null, null, null, null, null, null, null, null], [null, null, null, null, null, null, null, null, null, null, null, null, 0.19879421591758728, null, null, null, null, null, null, null, null, null], [null, null, null, null, null, null, null, null, null, null, null, null, null, null, null, null, null, null, 0.19204182922840118, null, null, null], [null, null, null, null, null, null, null, null, null, null, null, null, null, null, null, null, null, 0.9891334772109985, null, null, null, null], [null, null, 0.19921354949474335, null, null, null, null, null, null, null, null, null, null, null, null, null, null, null, null, null, null, null], [null, null, null, null, null, null, null, null, null, 0.19310417771339417, null, null, null, null, null, null, null, null, null, null, null, null], [null, null, null, null, null, null, null, null, 0.19737756252288818, null, null, null, null, null, null, null, null, null, null, null, null, null], [null, null, null, 0.19179609417915344, null, null, null, null, null, null, null, null, null, null, null, null, null, null, null, null, null, null], [null, null, null, null, null, null, null, null, null, null, null, null, null, null, null, 0.18547703325748444, null, null, null, null, null, null], [null, null, null, null, null, null, null, null, null, null, null, null, null, null, null, null, 0.22958849370479584, null, null, null, null, null], [null, null, null, null, null, null, null, null, null, null, 1.0503551959991455, null, null, null, null, null, null, null, null, null, null, null], [null, null, null, null, null, null, null, null, null, null, null, null, null, 0.19940848648548126, null, null, null, null, null, null, null, null], [null, null, null, null, null, null, null, 0.19873863458633423, null, null, null, null, null, null, null, null, null, null, null, null, null, null], [null, null, null, null, null, null, 0.20152287185192108, null, null, null, null, null, null, null, null, null, null, null, null, null, null, null], [null, null, null, null, null, null, null, null, null, null, null, null, null, null, null, null, null, null, null, 0.20434384047985077, null, null], [null, null, null, null, null, null, null, null, null, null, null, null, null, null, null, null, null, null, null, null, 0.2330784797668457, null], [null, null, null, null, null, null, null, null, null, null, null, 0.8779668211936951, null, null, null, null, null, null, null, null, null, null], [null, null, null, null, null, null, null, null, null, null, null, null, null, null, 0.20771226286888123, null, null, null, null, null, null, null], [null, null, null, null, null, 0.8755643367767334, null, null, null, null, null, null, null, null, null, null, null, null, null, null, null, null], [null, null, null, null, null, null, null, null, null, null, null, null, null, null, null, null, null, null, null, null, null, null]]}, {\"marker\": {\"color\": \"black\", \"line\": {\"color\": \"Grey\", \"width\": 0.5}}, \"mode\": \"markers\", \"showlegend\": false, \"type\": \"scatter\", \"x\": [224.0, 1526.0, 376.0, 768.0, 1878.0, 215.0, 974.0, 657.0, 349.0, 1233.0, 58.0, 487.0, 48.0, 18.0, 599.0, 885.0, 1267.0, 1348.0, 1815.0, 1613.0], \"xaxis\": \"x8\", \"y\": [0.4954256788964758, 0.14332682435853805, 0.27915582038102393, 0.4153696713682228, 0.3667001383571827, 0.07650398263154923, 0.2655304622377676, 0.23479757087807734, 0.3058569889361619, 0.43081838263085065, 0.17656531403008602, 0.17471784260023945, 0.15929115427501545, 0.019677676818332296, 0.1709262457889005, 0.08589252351694829, 0.21265666278230785, 0.2317438547299526, 0.3280433070217674, 0.09960797077195843], \"yaxis\": \"y8\"}, {\"colorbar\": {\"title\": {\"text\": \"Objective Value\"}}, \"colorscale\": [[0, \"rgb(220,220,220)\"], [0.30000000000000004, \"rgb(106,137,247)\"], [0.4, \"rgb(90,120,245)\"], [0.5, \"rgb(70,100,245)\"], [0.65, \"rgb(40,60,190)\"], [1, \"rgb(5,10,172)\"]], \"connectgaps\": true, \"contours\": {\"coloring\": \"heatmap\"}, \"hoverinfo\": \"none\", \"line\": {\"smoothing\": 1.3}, \"showscale\": false, \"type\": \"contour\", \"x\": [-75.0, 18.0, 48.0, 58.0, 215.0, 224.0, 349.0, 376.0, 487.0, 599.0, 657.0, 768.0, 885.0, 974.0, 1233.0, 1267.0, 1348.0, 1526.0, 1613.0, 1815.0, 1878.0, 1971.0], \"xaxis\": \"x12\", \"y\": [0.0005334284853961763, 0.0005676994616347687, 0.0005915701823074618, 0.0006541711687500174, 0.000809904111691024, 0.0008396285764200849, 0.0009401582655666743, 0.0010101903037339182, 0.0011274696906762919, 0.0011328879826936625, 0.0011583866291521568, 0.0013370226395689074, 0.0013706061404429402, 0.0013710371730390838, 0.0015492680452204777, 0.0016507953433347712, 0.001900080146390628, 0.0019033259238143202, 0.001923732275060687, 0.0019450954497719883, 0.001972259509366055, 0.00209897051305687], \"yaxis\": \"y12\", \"z\": [[null, null, null, null, null, null, null, null, null, null, null, null, null, null, null, null, null, null, null, null, null, null], [null, null, null, null, 0.8957996368408203, null, null, null, null, null, null, null, null, null, null, null, null, null, null, null, null, null], [null, null, null, null, null, null, null, null, null, null, null, null, null, null, null, null, null, null, null, null, 0.2330784797668457, null], [null, null, null, null, null, null, null, null, null, null, null, null, null, null, null, null, null, null, null, 0.20434384047985077, null, null], [null, null, null, null, null, null, null, null, null, null, 1.0503551959991455, null, null, null, null, null, null, null, null, null, null, null], [null, null, null, null, null, null, 0.20152287185192108, null, null, null, null, null, null, null, null, null, null, null, null, null, null, null], [null, null, null, null, null, null, null, null, null, null, null, null, null, null, 0.20771226286888123, null, null, null, null, null, null, null], [null, null, null, null, null, 0.8755643367767334, null, null, null, null, null, null, null, null, null, null, null, null, null, null, null, null], [null, null, null, null, null, null, null, null, null, null, null, null, null, null, null, 0.18547703325748444, null, null, null, null, null, null], [null, null, null, null, null, null, null, null, null, null, null, null, null, null, null, null, null, null, 0.19204182922840118, null, null, null], [null, null, null, null, null, null, null, null, null, null, null, null, null, null, null, null, 0.22958849370479584, null, null, null, null, null], [null, null, null, null, null, null, null, null, null, null, null, null, null, null, null, null, null, 0.9891334772109985, null, null, null, null], [null, null, null, null, null, null, null, 0.19873863458633423, null, null, null, null, null, null, null, null, null, null, null, null, null, null], [null, null, null, null, null, null, null, null, null, null, null, 0.8779668211936951, null, null, null, null, null, null, null, null, null, null], [null, null, null, null, null, null, null, null, null, null, null, null, null, 0.19940848648548126, null, null, null, null, null, null, null, null], [null, null, null, null, null, null, null, null, null, null, null, null, 0.19879421591758728, null, null, null, null, null, null, null, null, null], [null, null, null, 0.19179609417915344, null, null, null, null, null, null, null, null, null, null, null, null, null, null, null, null, null, null], [null, null, 0.19921354949474335, null, null, null, null, null, null, null, null, null, null, null, null, null, null, null, null, null, null, null], [null, null, null, null, null, null, null, null, 0.19737756252288818, null, null, null, null, null, null, null, null, null, null, null, null, null], [null, 0.2024354785680771, null, null, null, null, null, null, null, null, null, null, null, null, null, null, null, null, null, null, null, null], [null, null, null, null, null, null, null, null, null, 0.19310417771339417, null, null, null, null, null, null, null, null, null, null, null, null], [null, null, null, null, null, null, null, null, null, null, null, null, null, null, null, null, null, null, null, null, null, null]]}, {\"marker\": {\"color\": \"black\", \"line\": {\"color\": \"Grey\", \"width\": 0.5}}, \"mode\": \"markers\", \"showlegend\": false, \"type\": \"scatter\", \"x\": [224.0, 1526.0, 376.0, 768.0, 1878.0, 215.0, 974.0, 657.0, 349.0, 1233.0, 58.0, 487.0, 48.0, 18.0, 599.0, 885.0, 1267.0, 1348.0, 1815.0, 1613.0], \"xaxis\": \"x12\", \"y\": [0.0010101903037339182, 0.0013370226395689074, 0.0013706061404429402, 0.0013710371730390838, 0.0005915701823074618, 0.0005676994616347687, 0.0015492680452204777, 0.000809904111691024, 0.0008396285764200849, 0.0009401582655666743, 0.001900080146390628, 0.001923732275060687, 0.0019033259238143202, 0.0019450954497719883, 0.001972259509366055, 0.0016507953433347712, 0.0011274696906762919, 0.0011583866291521568, 0.0006541711687500174, 0.0011328879826936625], \"yaxis\": \"y12\"}, {\"type\": \"scatter\", \"xaxis\": \"x16\", \"yaxis\": \"y16\"}],\n",
              "                        {\"template\": {\"data\": {\"bar\": [{\"error_x\": {\"color\": \"#2a3f5f\"}, \"error_y\": {\"color\": \"#2a3f5f\"}, \"marker\": {\"line\": {\"color\": \"#E5ECF6\", \"width\": 0.5}}, \"type\": \"bar\"}], \"barpolar\": [{\"marker\": {\"line\": {\"color\": \"#E5ECF6\", \"width\": 0.5}}, \"type\": \"barpolar\"}], \"carpet\": [{\"aaxis\": {\"endlinecolor\": \"#2a3f5f\", \"gridcolor\": \"white\", \"linecolor\": \"white\", \"minorgridcolor\": \"white\", \"startlinecolor\": \"#2a3f5f\"}, \"baxis\": {\"endlinecolor\": \"#2a3f5f\", \"gridcolor\": \"white\", \"linecolor\": \"white\", \"minorgridcolor\": \"white\", \"startlinecolor\": \"#2a3f5f\"}, \"type\": \"carpet\"}], \"choropleth\": [{\"colorbar\": {\"outlinewidth\": 0, \"ticks\": \"\"}, \"type\": \"choropleth\"}], \"contour\": [{\"colorbar\": {\"outlinewidth\": 0, \"ticks\": \"\"}, \"colorscale\": [[0.0, \"#0d0887\"], [0.1111111111111111, \"#46039f\"], [0.2222222222222222, \"#7201a8\"], [0.3333333333333333, \"#9c179e\"], [0.4444444444444444, \"#bd3786\"], [0.5555555555555556, \"#d8576b\"], [0.6666666666666666, \"#ed7953\"], [0.7777777777777778, \"#fb9f3a\"], [0.8888888888888888, \"#fdca26\"], [1.0, \"#f0f921\"]], \"type\": \"contour\"}], \"contourcarpet\": [{\"colorbar\": {\"outlinewidth\": 0, \"ticks\": \"\"}, \"type\": \"contourcarpet\"}], \"heatmap\": [{\"colorbar\": {\"outlinewidth\": 0, \"ticks\": \"\"}, \"colorscale\": [[0.0, \"#0d0887\"], [0.1111111111111111, \"#46039f\"], [0.2222222222222222, \"#7201a8\"], [0.3333333333333333, \"#9c179e\"], [0.4444444444444444, \"#bd3786\"], [0.5555555555555556, \"#d8576b\"], [0.6666666666666666, \"#ed7953\"], [0.7777777777777778, \"#fb9f3a\"], [0.8888888888888888, \"#fdca26\"], [1.0, \"#f0f921\"]], \"type\": \"heatmap\"}], \"heatmapgl\": [{\"colorbar\": {\"outlinewidth\": 0, \"ticks\": \"\"}, \"colorscale\": [[0.0, \"#0d0887\"], [0.1111111111111111, \"#46039f\"], [0.2222222222222222, \"#7201a8\"], [0.3333333333333333, \"#9c179e\"], [0.4444444444444444, \"#bd3786\"], [0.5555555555555556, \"#d8576b\"], [0.6666666666666666, \"#ed7953\"], [0.7777777777777778, \"#fb9f3a\"], [0.8888888888888888, \"#fdca26\"], [1.0, \"#f0f921\"]], \"type\": \"heatmapgl\"}], \"histogram\": [{\"marker\": {\"colorbar\": {\"outlinewidth\": 0, \"ticks\": \"\"}}, \"type\": \"histogram\"}], \"histogram2d\": [{\"colorbar\": {\"outlinewidth\": 0, \"ticks\": \"\"}, \"colorscale\": [[0.0, \"#0d0887\"], [0.1111111111111111, \"#46039f\"], [0.2222222222222222, \"#7201a8\"], [0.3333333333333333, \"#9c179e\"], [0.4444444444444444, \"#bd3786\"], [0.5555555555555556, \"#d8576b\"], [0.6666666666666666, \"#ed7953\"], [0.7777777777777778, \"#fb9f3a\"], [0.8888888888888888, \"#fdca26\"], [1.0, \"#f0f921\"]], \"type\": \"histogram2d\"}], \"histogram2dcontour\": [{\"colorbar\": {\"outlinewidth\": 0, \"ticks\": \"\"}, \"colorscale\": [[0.0, \"#0d0887\"], [0.1111111111111111, \"#46039f\"], [0.2222222222222222, \"#7201a8\"], [0.3333333333333333, \"#9c179e\"], [0.4444444444444444, \"#bd3786\"], [0.5555555555555556, \"#d8576b\"], [0.6666666666666666, \"#ed7953\"], [0.7777777777777778, \"#fb9f3a\"], [0.8888888888888888, \"#fdca26\"], [1.0, \"#f0f921\"]], \"type\": \"histogram2dcontour\"}], \"mesh3d\": [{\"colorbar\": {\"outlinewidth\": 0, \"ticks\": \"\"}, \"type\": \"mesh3d\"}], \"parcoords\": [{\"line\": {\"colorbar\": {\"outlinewidth\": 0, \"ticks\": \"\"}}, \"type\": \"parcoords\"}], \"pie\": [{\"automargin\": true, \"type\": \"pie\"}], \"scatter\": [{\"marker\": {\"colorbar\": {\"outlinewidth\": 0, \"ticks\": \"\"}}, \"type\": \"scatter\"}], \"scatter3d\": [{\"line\": {\"colorbar\": {\"outlinewidth\": 0, \"ticks\": \"\"}}, \"marker\": {\"colorbar\": {\"outlinewidth\": 0, \"ticks\": \"\"}}, \"type\": \"scatter3d\"}], \"scattercarpet\": [{\"marker\": {\"colorbar\": {\"outlinewidth\": 0, \"ticks\": \"\"}}, \"type\": \"scattercarpet\"}], \"scattergeo\": [{\"marker\": {\"colorbar\": {\"outlinewidth\": 0, \"ticks\": \"\"}}, \"type\": \"scattergeo\"}], \"scattergl\": [{\"marker\": {\"colorbar\": {\"outlinewidth\": 0, \"ticks\": \"\"}}, \"type\": \"scattergl\"}], \"scattermapbox\": [{\"marker\": {\"colorbar\": {\"outlinewidth\": 0, \"ticks\": \"\"}}, \"type\": \"scattermapbox\"}], \"scatterpolar\": [{\"marker\": {\"colorbar\": {\"outlinewidth\": 0, \"ticks\": \"\"}}, \"type\": \"scatterpolar\"}], \"scatterpolargl\": [{\"marker\": {\"colorbar\": {\"outlinewidth\": 0, \"ticks\": \"\"}}, \"type\": \"scatterpolargl\"}], \"scatterternary\": [{\"marker\": {\"colorbar\": {\"outlinewidth\": 0, \"ticks\": \"\"}}, \"type\": \"scatterternary\"}], \"surface\": [{\"colorbar\": {\"outlinewidth\": 0, \"ticks\": \"\"}, \"colorscale\": [[0.0, \"#0d0887\"], [0.1111111111111111, \"#46039f\"], [0.2222222222222222, \"#7201a8\"], [0.3333333333333333, \"#9c179e\"], [0.4444444444444444, \"#bd3786\"], [0.5555555555555556, \"#d8576b\"], [0.6666666666666666, \"#ed7953\"], [0.7777777777777778, \"#fb9f3a\"], [0.8888888888888888, \"#fdca26\"], [1.0, \"#f0f921\"]], \"type\": \"surface\"}], \"table\": [{\"cells\": {\"fill\": {\"color\": \"#EBF0F8\"}, \"line\": {\"color\": \"white\"}}, \"header\": {\"fill\": {\"color\": \"#C8D4E3\"}, \"line\": {\"color\": \"white\"}}, \"type\": \"table\"}]}, \"layout\": {\"annotationdefaults\": {\"arrowcolor\": \"#2a3f5f\", \"arrowhead\": 0, \"arrowwidth\": 1}, \"coloraxis\": {\"colorbar\": {\"outlinewidth\": 0, \"ticks\": \"\"}}, \"colorscale\": {\"diverging\": [[0, \"#8e0152\"], [0.1, \"#c51b7d\"], [0.2, \"#de77ae\"], [0.3, \"#f1b6da\"], [0.4, \"#fde0ef\"], [0.5, \"#f7f7f7\"], [0.6, \"#e6f5d0\"], [0.7, \"#b8e186\"], [0.8, \"#7fbc41\"], [0.9, \"#4d9221\"], [1, \"#276419\"]], \"sequential\": [[0.0, \"#0d0887\"], [0.1111111111111111, \"#46039f\"], [0.2222222222222222, \"#7201a8\"], [0.3333333333333333, \"#9c179e\"], [0.4444444444444444, \"#bd3786\"], [0.5555555555555556, \"#d8576b\"], [0.6666666666666666, \"#ed7953\"], [0.7777777777777778, \"#fb9f3a\"], [0.8888888888888888, \"#fdca26\"], [1.0, \"#f0f921\"]], \"sequentialminus\": [[0.0, \"#0d0887\"], [0.1111111111111111, \"#46039f\"], [0.2222222222222222, \"#7201a8\"], [0.3333333333333333, \"#9c179e\"], [0.4444444444444444, \"#bd3786\"], [0.5555555555555556, \"#d8576b\"], [0.6666666666666666, \"#ed7953\"], [0.7777777777777778, \"#fb9f3a\"], [0.8888888888888888, \"#fdca26\"], [1.0, \"#f0f921\"]]}, \"colorway\": [\"#636efa\", \"#EF553B\", \"#00cc96\", \"#ab63fa\", \"#FFA15A\", \"#19d3f3\", \"#FF6692\", \"#B6E880\", \"#FF97FF\", \"#FECB52\"], \"font\": {\"color\": \"#2a3f5f\"}, \"geo\": {\"bgcolor\": \"white\", \"lakecolor\": \"white\", \"landcolor\": \"#E5ECF6\", \"showlakes\": true, \"showland\": true, \"subunitcolor\": \"white\"}, \"hoverlabel\": {\"align\": \"left\"}, \"hovermode\": \"closest\", \"mapbox\": {\"style\": \"light\"}, \"paper_bgcolor\": \"white\", \"plot_bgcolor\": \"#E5ECF6\", \"polar\": {\"angularaxis\": {\"gridcolor\": \"white\", \"linecolor\": \"white\", \"ticks\": \"\"}, \"bgcolor\": \"#E5ECF6\", \"radialaxis\": {\"gridcolor\": \"white\", \"linecolor\": \"white\", \"ticks\": \"\"}}, \"scene\": {\"xaxis\": {\"backgroundcolor\": \"#E5ECF6\", \"gridcolor\": \"white\", \"gridwidth\": 2, \"linecolor\": \"white\", \"showbackground\": true, \"ticks\": \"\", \"zerolinecolor\": \"white\"}, \"yaxis\": {\"backgroundcolor\": \"#E5ECF6\", \"gridcolor\": \"white\", \"gridwidth\": 2, \"linecolor\": \"white\", \"showbackground\": true, \"ticks\": \"\", \"zerolinecolor\": \"white\"}, \"zaxis\": {\"backgroundcolor\": \"#E5ECF6\", \"gridcolor\": \"white\", \"gridwidth\": 2, \"linecolor\": \"white\", \"showbackground\": true, \"ticks\": \"\", \"zerolinecolor\": \"white\"}}, \"shapedefaults\": {\"line\": {\"color\": \"#2a3f5f\"}}, \"ternary\": {\"aaxis\": {\"gridcolor\": \"white\", \"linecolor\": \"white\", \"ticks\": \"\"}, \"baxis\": {\"gridcolor\": \"white\", \"linecolor\": \"white\", \"ticks\": \"\"}, \"bgcolor\": \"#E5ECF6\", \"caxis\": {\"gridcolor\": \"white\", \"linecolor\": \"white\", \"ticks\": \"\"}}, \"title\": {\"x\": 0.05}, \"xaxis\": {\"automargin\": true, \"gridcolor\": \"white\", \"linecolor\": \"white\", \"ticks\": \"\", \"title\": {\"standoff\": 15}, \"zerolinecolor\": \"white\", \"zerolinewidth\": 2}, \"yaxis\": {\"automargin\": true, \"gridcolor\": \"white\", \"linecolor\": \"white\", \"ticks\": \"\", \"title\": {\"standoff\": 15}, \"zerolinecolor\": \"white\", \"zerolinewidth\": 2}}}, \"title\": {\"text\": \"Contour Plot\"}, \"xaxis\": {\"anchor\": \"y\", \"domain\": [0.0, 0.2125], \"matches\": \"x13\", \"range\": [\"linear\", \"sigmoid\"], \"showticklabels\": false}, \"xaxis10\": {\"anchor\": \"y10\", \"domain\": [0.2625, 0.475], \"matches\": \"x14\", \"range\": [-0.004109723285574879, 0.519213079000383], \"showticklabels\": false}, \"xaxis11\": {\"anchor\": \"y11\", \"domain\": [0.525, 0.7375], \"matches\": \"x15\", \"range\": [-3.2729237964450597, -2.6779936624688814], \"showticklabels\": false, \"type\": \"log\"}, \"xaxis12\": {\"anchor\": \"y12\", \"domain\": [0.7875, 1.0], \"matches\": \"x16\", \"range\": [-75.0, 1971.0], \"showticklabels\": false}, \"xaxis13\": {\"anchor\": \"y13\", \"domain\": [0.0, 0.2125], \"range\": [\"linear\", \"sigmoid\"], \"title\": {\"text\": \"activation\"}}, \"xaxis14\": {\"anchor\": \"y14\", \"domain\": [0.2625, 0.475], \"range\": [-0.004109723285574879, 0.519213079000383], \"title\": {\"text\": \"dropout\"}}, \"xaxis15\": {\"anchor\": \"y15\", \"domain\": [0.525, 0.7375], \"range\": [-3.2729237964450597, -2.6779936624688814], \"title\": {\"text\": \"lr\"}, \"type\": \"log\"}, \"xaxis16\": {\"anchor\": \"y16\", \"domain\": [0.7875, 1.0], \"range\": [-75.0, 1971.0], \"title\": {\"text\": \"units\"}}, \"xaxis2\": {\"anchor\": \"y2\", \"domain\": [0.2625, 0.475], \"matches\": \"x14\", \"range\": [-0.004109723285574879, 0.519213079000383], \"showticklabels\": false}, \"xaxis3\": {\"anchor\": \"y3\", \"domain\": [0.525, 0.7375], \"matches\": \"x15\", \"range\": [-3.2729237964450597, -2.6779936624688814], \"showticklabels\": false, \"type\": \"log\"}, \"xaxis4\": {\"anchor\": \"y4\", \"domain\": [0.7875, 1.0], \"matches\": \"x16\", \"range\": [-75.0, 1971.0], \"showticklabels\": false}, \"xaxis5\": {\"anchor\": \"y5\", \"domain\": [0.0, 0.2125], \"matches\": \"x13\", \"range\": [\"linear\", \"sigmoid\"], \"showticklabels\": false}, \"xaxis6\": {\"anchor\": \"y6\", \"domain\": [0.2625, 0.475], \"matches\": \"x14\", \"range\": [-0.004109723285574879, 0.519213079000383], \"showticklabels\": false}, \"xaxis7\": {\"anchor\": \"y7\", \"domain\": [0.525, 0.7375], \"matches\": \"x15\", \"range\": [-3.2729237964450597, -2.6779936624688814], \"showticklabels\": false, \"type\": \"log\"}, \"xaxis8\": {\"anchor\": \"y8\", \"domain\": [0.7875, 1.0], \"matches\": \"x16\", \"range\": [-75.0, 1971.0], \"showticklabels\": false}, \"xaxis9\": {\"anchor\": \"y9\", \"domain\": [0.0, 0.2125], \"matches\": \"x13\", \"range\": [\"linear\", \"sigmoid\"], \"showticklabels\": false}, \"yaxis\": {\"anchor\": \"x\", \"domain\": [0.80625, 1.0], \"range\": [\"linear\", \"sigmoid\"], \"title\": {\"text\": \"activation\"}}, \"yaxis10\": {\"anchor\": \"x10\", \"domain\": [0.26875, 0.4625], \"matches\": \"y9\", \"range\": [-3.2729237964450597, -2.6779936624688814], \"showticklabels\": false, \"type\": \"log\"}, \"yaxis11\": {\"anchor\": \"x11\", \"domain\": [0.26875, 0.4625], \"matches\": \"y9\", \"range\": [-3.2729237964450597, -2.6779936624688814], \"showticklabels\": false, \"type\": \"log\"}, \"yaxis12\": {\"anchor\": \"x12\", \"domain\": [0.26875, 0.4625], \"matches\": \"y9\", \"range\": [-3.2729237964450597, -2.6779936624688814], \"showticklabels\": false, \"type\": \"log\"}, \"yaxis13\": {\"anchor\": \"x13\", \"domain\": [0.0, 0.19375], \"range\": [-75.0, 1971.0], \"title\": {\"text\": \"units\"}}, \"yaxis14\": {\"anchor\": \"x14\", \"domain\": [0.0, 0.19375], \"matches\": \"y13\", \"range\": [-75.0, 1971.0], \"showticklabels\": false}, \"yaxis15\": {\"anchor\": \"x15\", \"domain\": [0.0, 0.19375], \"matches\": \"y13\", \"range\": [-75.0, 1971.0], \"showticklabels\": false}, \"yaxis16\": {\"anchor\": \"x16\", \"domain\": [0.0, 0.19375], \"matches\": \"y13\", \"range\": [-75.0, 1971.0], \"showticklabels\": false}, \"yaxis2\": {\"anchor\": \"x2\", \"domain\": [0.80625, 1.0], \"matches\": \"y\", \"range\": [\"linear\", \"sigmoid\"], \"showticklabels\": false}, \"yaxis3\": {\"anchor\": \"x3\", \"domain\": [0.80625, 1.0], \"matches\": \"y\", \"range\": [\"linear\", \"sigmoid\"], \"showticklabels\": false}, \"yaxis4\": {\"anchor\": \"x4\", \"domain\": [0.80625, 1.0], \"matches\": \"y\", \"range\": [\"linear\", \"sigmoid\"], \"showticklabels\": false}, \"yaxis5\": {\"anchor\": \"x5\", \"domain\": [0.5375, 0.73125], \"range\": [-0.004109723285574879, 0.519213079000383], \"title\": {\"text\": \"dropout\"}}, \"yaxis6\": {\"anchor\": \"x6\", \"domain\": [0.5375, 0.73125], \"matches\": \"y5\", \"range\": [-0.004109723285574879, 0.519213079000383], \"showticklabels\": false}, \"yaxis7\": {\"anchor\": \"x7\", \"domain\": [0.5375, 0.73125], \"matches\": \"y5\", \"range\": [-0.004109723285574879, 0.519213079000383], \"showticklabels\": false}, \"yaxis8\": {\"anchor\": \"x8\", \"domain\": [0.5375, 0.73125], \"matches\": \"y5\", \"range\": [-0.004109723285574879, 0.519213079000383], \"showticklabels\": false}, \"yaxis9\": {\"anchor\": \"x9\", \"domain\": [0.26875, 0.4625], \"range\": [-3.2729237964450597, -2.6779936624688814], \"title\": {\"text\": \"lr\"}, \"type\": \"log\"}},\n",
              "                        {\"responsive\": true}\n",
              "                    ).then(function(){\n",
              "                            \n",
              "var gd = document.getElementById('1e8cc02d-49e2-4eaf-9893-50253582f1b7');\n",
              "var x = new MutationObserver(function (mutations, observer) {{\n",
              "        var display = window.getComputedStyle(gd).display;\n",
              "        if (!display || display === 'none') {{\n",
              "            console.log([gd, 'removed!']);\n",
              "            Plotly.purge(gd);\n",
              "            observer.disconnect();\n",
              "        }}\n",
              "}});\n",
              "\n",
              "// Listen for the removal of the full notebook cells\n",
              "var notebookContainer = gd.closest('#notebook-container');\n",
              "if (notebookContainer) {{\n",
              "    x.observe(notebookContainer, {childList: true});\n",
              "}}\n",
              "\n",
              "// Listen for the clearing of the current output cell\n",
              "var outputEl = gd.closest('.output');\n",
              "if (outputEl) {{\n",
              "    x.observe(outputEl, {childList: true});\n",
              "}}\n",
              "\n",
              "                        })\n",
              "                };\n",
              "                \n",
              "            </script>\n",
              "        </div>\n",
              "</body>\n",
              "</html>"
            ]
          },
          "metadata": {
            "tags": []
          }
        }
      ]
    },
    {
      "cell_type": "markdown",
      "metadata": {
        "id": "gmQd5GOrjsCx"
      },
      "source": [
        "## Selecting Parameters to Visualize"
      ]
    },
    {
      "cell_type": "code",
      "metadata": {
        "colab": {
          "base_uri": "https://localhost:8080/",
          "height": 542
        },
        "id": "QnylST9gjuuh",
        "outputId": "814e54c6-7aee-4077-acc0-66d8328a2846"
      },
      "source": [
        "plot_contour(study, params=['units', 'dropout'])"
      ],
      "execution_count": 13,
      "outputs": [
        {
          "output_type": "display_data",
          "data": {
            "text/html": [
              "<html>\n",
              "<head><meta charset=\"utf-8\" /></head>\n",
              "<body>\n",
              "    <div>\n",
              "            <script src=\"https://cdnjs.cloudflare.com/ajax/libs/mathjax/2.7.5/MathJax.js?config=TeX-AMS-MML_SVG\"></script><script type=\"text/javascript\">if (window.MathJax) {MathJax.Hub.Config({SVG: {font: \"STIX-Web\"}});}</script>\n",
              "                <script type=\"text/javascript\">window.PlotlyConfig = {MathJaxConfig: 'local'};</script>\n",
              "        <script src=\"https://cdn.plot.ly/plotly-latest.min.js\"></script>    \n",
              "            <div id=\"c484200d-480c-4a4b-a1c0-34acc62f2b76\" class=\"plotly-graph-div\" style=\"height:525px; width:100%;\"></div>\n",
              "            <script type=\"text/javascript\">\n",
              "                \n",
              "                    window.PLOTLYENV=window.PLOTLYENV || {};\n",
              "                    \n",
              "                if (document.getElementById(\"c484200d-480c-4a4b-a1c0-34acc62f2b76\")) {\n",
              "                    Plotly.newPlot(\n",
              "                        'c484200d-480c-4a4b-a1c0-34acc62f2b76',\n",
              "                        [{\"colorbar\": {\"title\": {\"text\": \"Objective Value\"}}, \"colorscale\": [[0, \"rgb(220,220,220)\"], [0.30000000000000004, \"rgb(106,137,247)\"], [0.4, \"rgb(90,120,245)\"], [0.5, \"rgb(70,100,245)\"], [0.65, \"rgb(40,60,190)\"], [1, \"rgb(5,10,172)\"]], \"connectgaps\": true, \"contours\": {\"coloring\": \"heatmap\"}, \"hoverinfo\": \"none\", \"line\": {\"smoothing\": 1.3}, \"type\": \"contour\", \"x\": [-0.004109723285574879, 0.019677676818332296, 0.07650398263154923, 0.08589252351694829, 0.09960797077195843, 0.14332682435853805, 0.15929115427501545, 0.1709262457889005, 0.17471784260023945, 0.17656531403008602, 0.21265666278230785, 0.2317438547299526, 0.23479757087807734, 0.2655304622377676, 0.27915582038102393, 0.3058569889361619, 0.3280433070217674, 0.3667001383571827, 0.4153696713682228, 0.43081838263085065, 0.4954256788964758, 0.519213079000383], \"y\": [-75.0, 18.0, 48.0, 58.0, 215.0, 224.0, 349.0, 376.0, 487.0, 599.0, 657.0, 768.0, 885.0, 974.0, 1233.0, 1267.0, 1348.0, 1526.0, 1613.0, 1815.0, 1878.0, 1971.0], \"z\": [[null, null, null, null, null, null, null, null, null, null, null, null, null, null, null, null, null, null, null, null, null, null], [null, 0.2024354785680771, null, null, null, null, null, null, null, null, null, null, null, null, null, null, null, null, null, null, null, null], [null, null, null, null, null, null, 0.19921354949474335, null, null, null, null, null, null, null, null, null, null, null, null, null, null, null], [null, null, null, null, null, null, null, null, null, 0.19179609417915344, null, null, null, null, null, null, null, null, null, null, null, null], [null, null, 0.8957996368408203, null, null, null, null, null, null, null, null, null, null, null, null, null, null, null, null, null, null, null], [null, null, null, null, null, null, null, null, null, null, null, null, null, null, null, null, null, null, null, null, 0.8755643367767334, null], [null, null, null, null, null, null, null, null, null, null, null, null, null, null, null, 0.20152287185192108, null, null, null, null, null, null], [null, null, null, null, null, null, null, null, null, null, null, null, null, null, 0.19873863458633423, null, null, null, null, null, null, null], [null, null, null, null, null, null, null, null, 0.19737756252288818, null, null, null, null, null, null, null, null, null, null, null, null, null], [null, null, null, null, null, null, null, 0.19310417771339417, null, null, null, null, null, null, null, null, null, null, null, null, null, null], [null, null, null, null, null, null, null, null, null, null, null, null, 1.0503551959991455, null, null, null, null, null, null, null, null, null], [null, null, null, null, null, null, null, null, null, null, null, null, null, null, null, null, null, null, 0.8779668211936951, null, null, null], [null, null, null, 0.19879421591758728, null, null, null, null, null, null, null, null, null, null, null, null, null, null, null, null, null, null], [null, null, null, null, null, null, null, null, null, null, null, null, null, 0.19940848648548126, null, null, null, null, null, null, null, null], [null, null, null, null, null, null, null, null, null, null, null, null, null, null, null, null, null, null, null, 0.20771226286888123, null, null], [null, null, null, null, null, null, null, null, null, null, 0.18547703325748444, null, null, null, null, null, null, null, null, null, null, null], [null, null, null, null, null, null, null, null, null, null, null, 0.22958849370479584, null, null, null, null, null, null, null, null, null, null], [null, null, null, null, null, 0.9891334772109985, null, null, null, null, null, null, null, null, null, null, null, null, null, null, null, null], [null, null, null, null, 0.19204182922840118, null, null, null, null, null, null, null, null, null, null, null, null, null, null, null, null, null], [null, null, null, null, null, null, null, null, null, null, null, null, null, null, null, null, 0.20434384047985077, null, null, null, null, null], [null, null, null, null, null, null, null, null, null, null, null, null, null, null, null, null, null, 0.2330784797668457, null, null, null, null], [null, null, null, null, null, null, null, null, null, null, null, null, null, null, null, null, null, null, null, null, null, null]]}, {\"marker\": {\"color\": \"black\", \"line\": {\"color\": \"Grey\", \"width\": 0.5}}, \"mode\": \"markers\", \"showlegend\": false, \"type\": \"scatter\", \"x\": [0.4954256788964758, 0.14332682435853805, 0.27915582038102393, 0.4153696713682228, 0.3667001383571827, 0.07650398263154923, 0.2655304622377676, 0.23479757087807734, 0.3058569889361619, 0.43081838263085065, 0.17656531403008602, 0.17471784260023945, 0.15929115427501545, 0.019677676818332296, 0.1709262457889005, 0.08589252351694829, 0.21265666278230785, 0.2317438547299526, 0.3280433070217674, 0.09960797077195843], \"y\": [224.0, 1526.0, 376.0, 768.0, 1878.0, 215.0, 974.0, 657.0, 349.0, 1233.0, 58.0, 487.0, 48.0, 18.0, 599.0, 885.0, 1267.0, 1348.0, 1815.0, 1613.0]}],\n",
              "                        {\"template\": {\"data\": {\"bar\": [{\"error_x\": {\"color\": \"#2a3f5f\"}, \"error_y\": {\"color\": \"#2a3f5f\"}, \"marker\": {\"line\": {\"color\": \"#E5ECF6\", \"width\": 0.5}}, \"type\": \"bar\"}], \"barpolar\": [{\"marker\": {\"line\": {\"color\": \"#E5ECF6\", \"width\": 0.5}}, \"type\": \"barpolar\"}], \"carpet\": [{\"aaxis\": {\"endlinecolor\": \"#2a3f5f\", \"gridcolor\": \"white\", \"linecolor\": \"white\", \"minorgridcolor\": \"white\", \"startlinecolor\": \"#2a3f5f\"}, \"baxis\": {\"endlinecolor\": \"#2a3f5f\", \"gridcolor\": \"white\", \"linecolor\": \"white\", \"minorgridcolor\": \"white\", \"startlinecolor\": \"#2a3f5f\"}, \"type\": \"carpet\"}], \"choropleth\": [{\"colorbar\": {\"outlinewidth\": 0, \"ticks\": \"\"}, \"type\": \"choropleth\"}], \"contour\": [{\"colorbar\": {\"outlinewidth\": 0, \"ticks\": \"\"}, \"colorscale\": [[0.0, \"#0d0887\"], [0.1111111111111111, \"#46039f\"], [0.2222222222222222, \"#7201a8\"], [0.3333333333333333, \"#9c179e\"], [0.4444444444444444, \"#bd3786\"], [0.5555555555555556, \"#d8576b\"], [0.6666666666666666, \"#ed7953\"], [0.7777777777777778, \"#fb9f3a\"], [0.8888888888888888, \"#fdca26\"], [1.0, \"#f0f921\"]], \"type\": \"contour\"}], \"contourcarpet\": [{\"colorbar\": {\"outlinewidth\": 0, \"ticks\": \"\"}, \"type\": \"contourcarpet\"}], \"heatmap\": [{\"colorbar\": {\"outlinewidth\": 0, \"ticks\": \"\"}, \"colorscale\": [[0.0, \"#0d0887\"], [0.1111111111111111, \"#46039f\"], [0.2222222222222222, \"#7201a8\"], [0.3333333333333333, \"#9c179e\"], [0.4444444444444444, \"#bd3786\"], [0.5555555555555556, \"#d8576b\"], [0.6666666666666666, \"#ed7953\"], [0.7777777777777778, \"#fb9f3a\"], [0.8888888888888888, \"#fdca26\"], [1.0, \"#f0f921\"]], \"type\": \"heatmap\"}], \"heatmapgl\": [{\"colorbar\": {\"outlinewidth\": 0, \"ticks\": \"\"}, \"colorscale\": [[0.0, \"#0d0887\"], [0.1111111111111111, \"#46039f\"], [0.2222222222222222, \"#7201a8\"], [0.3333333333333333, \"#9c179e\"], [0.4444444444444444, \"#bd3786\"], [0.5555555555555556, \"#d8576b\"], [0.6666666666666666, \"#ed7953\"], [0.7777777777777778, \"#fb9f3a\"], [0.8888888888888888, \"#fdca26\"], [1.0, \"#f0f921\"]], \"type\": \"heatmapgl\"}], \"histogram\": [{\"marker\": {\"colorbar\": {\"outlinewidth\": 0, \"ticks\": \"\"}}, \"type\": \"histogram\"}], \"histogram2d\": [{\"colorbar\": {\"outlinewidth\": 0, \"ticks\": \"\"}, \"colorscale\": [[0.0, \"#0d0887\"], [0.1111111111111111, \"#46039f\"], [0.2222222222222222, \"#7201a8\"], [0.3333333333333333, \"#9c179e\"], [0.4444444444444444, \"#bd3786\"], [0.5555555555555556, \"#d8576b\"], [0.6666666666666666, \"#ed7953\"], [0.7777777777777778, \"#fb9f3a\"], [0.8888888888888888, \"#fdca26\"], [1.0, \"#f0f921\"]], \"type\": \"histogram2d\"}], \"histogram2dcontour\": [{\"colorbar\": {\"outlinewidth\": 0, \"ticks\": \"\"}, \"colorscale\": [[0.0, \"#0d0887\"], [0.1111111111111111, \"#46039f\"], [0.2222222222222222, \"#7201a8\"], [0.3333333333333333, \"#9c179e\"], [0.4444444444444444, \"#bd3786\"], [0.5555555555555556, \"#d8576b\"], [0.6666666666666666, \"#ed7953\"], [0.7777777777777778, \"#fb9f3a\"], [0.8888888888888888, \"#fdca26\"], [1.0, \"#f0f921\"]], \"type\": \"histogram2dcontour\"}], \"mesh3d\": [{\"colorbar\": {\"outlinewidth\": 0, \"ticks\": \"\"}, \"type\": \"mesh3d\"}], \"parcoords\": [{\"line\": {\"colorbar\": {\"outlinewidth\": 0, \"ticks\": \"\"}}, \"type\": \"parcoords\"}], \"pie\": [{\"automargin\": true, \"type\": \"pie\"}], \"scatter\": [{\"marker\": {\"colorbar\": {\"outlinewidth\": 0, \"ticks\": \"\"}}, \"type\": \"scatter\"}], \"scatter3d\": [{\"line\": {\"colorbar\": {\"outlinewidth\": 0, \"ticks\": \"\"}}, \"marker\": {\"colorbar\": {\"outlinewidth\": 0, \"ticks\": \"\"}}, \"type\": \"scatter3d\"}], \"scattercarpet\": [{\"marker\": {\"colorbar\": {\"outlinewidth\": 0, \"ticks\": \"\"}}, \"type\": \"scattercarpet\"}], \"scattergeo\": [{\"marker\": {\"colorbar\": {\"outlinewidth\": 0, \"ticks\": \"\"}}, \"type\": \"scattergeo\"}], \"scattergl\": [{\"marker\": {\"colorbar\": {\"outlinewidth\": 0, \"ticks\": \"\"}}, \"type\": \"scattergl\"}], \"scattermapbox\": [{\"marker\": {\"colorbar\": {\"outlinewidth\": 0, \"ticks\": \"\"}}, \"type\": \"scattermapbox\"}], \"scatterpolar\": [{\"marker\": {\"colorbar\": {\"outlinewidth\": 0, \"ticks\": \"\"}}, \"type\": \"scatterpolar\"}], \"scatterpolargl\": [{\"marker\": {\"colorbar\": {\"outlinewidth\": 0, \"ticks\": \"\"}}, \"type\": \"scatterpolargl\"}], \"scatterternary\": [{\"marker\": {\"colorbar\": {\"outlinewidth\": 0, \"ticks\": \"\"}}, \"type\": \"scatterternary\"}], \"surface\": [{\"colorbar\": {\"outlinewidth\": 0, \"ticks\": \"\"}, \"colorscale\": [[0.0, \"#0d0887\"], [0.1111111111111111, \"#46039f\"], [0.2222222222222222, \"#7201a8\"], [0.3333333333333333, \"#9c179e\"], [0.4444444444444444, \"#bd3786\"], [0.5555555555555556, \"#d8576b\"], [0.6666666666666666, \"#ed7953\"], [0.7777777777777778, \"#fb9f3a\"], [0.8888888888888888, \"#fdca26\"], [1.0, \"#f0f921\"]], \"type\": \"surface\"}], \"table\": [{\"cells\": {\"fill\": {\"color\": \"#EBF0F8\"}, \"line\": {\"color\": \"white\"}}, \"header\": {\"fill\": {\"color\": \"#C8D4E3\"}, \"line\": {\"color\": \"white\"}}, \"type\": \"table\"}]}, \"layout\": {\"annotationdefaults\": {\"arrowcolor\": \"#2a3f5f\", \"arrowhead\": 0, \"arrowwidth\": 1}, \"coloraxis\": {\"colorbar\": {\"outlinewidth\": 0, \"ticks\": \"\"}}, \"colorscale\": {\"diverging\": [[0, \"#8e0152\"], [0.1, \"#c51b7d\"], [0.2, \"#de77ae\"], [0.3, \"#f1b6da\"], [0.4, \"#fde0ef\"], [0.5, \"#f7f7f7\"], [0.6, \"#e6f5d0\"], [0.7, \"#b8e186\"], [0.8, \"#7fbc41\"], [0.9, \"#4d9221\"], [1, \"#276419\"]], \"sequential\": [[0.0, \"#0d0887\"], [0.1111111111111111, \"#46039f\"], [0.2222222222222222, \"#7201a8\"], [0.3333333333333333, \"#9c179e\"], [0.4444444444444444, \"#bd3786\"], [0.5555555555555556, \"#d8576b\"], [0.6666666666666666, \"#ed7953\"], [0.7777777777777778, \"#fb9f3a\"], [0.8888888888888888, \"#fdca26\"], [1.0, \"#f0f921\"]], \"sequentialminus\": [[0.0, \"#0d0887\"], [0.1111111111111111, \"#46039f\"], [0.2222222222222222, \"#7201a8\"], [0.3333333333333333, \"#9c179e\"], [0.4444444444444444, \"#bd3786\"], [0.5555555555555556, \"#d8576b\"], [0.6666666666666666, \"#ed7953\"], [0.7777777777777778, \"#fb9f3a\"], [0.8888888888888888, \"#fdca26\"], [1.0, \"#f0f921\"]]}, \"colorway\": [\"#636efa\", \"#EF553B\", \"#00cc96\", \"#ab63fa\", \"#FFA15A\", \"#19d3f3\", \"#FF6692\", \"#B6E880\", \"#FF97FF\", \"#FECB52\"], \"font\": {\"color\": \"#2a3f5f\"}, \"geo\": {\"bgcolor\": \"white\", \"lakecolor\": \"white\", \"landcolor\": \"#E5ECF6\", \"showlakes\": true, \"showland\": true, \"subunitcolor\": \"white\"}, \"hoverlabel\": {\"align\": \"left\"}, \"hovermode\": \"closest\", \"mapbox\": {\"style\": \"light\"}, \"paper_bgcolor\": \"white\", \"plot_bgcolor\": \"#E5ECF6\", \"polar\": {\"angularaxis\": {\"gridcolor\": \"white\", \"linecolor\": \"white\", \"ticks\": \"\"}, \"bgcolor\": \"#E5ECF6\", \"radialaxis\": {\"gridcolor\": \"white\", \"linecolor\": \"white\", \"ticks\": \"\"}}, \"scene\": {\"xaxis\": {\"backgroundcolor\": \"#E5ECF6\", \"gridcolor\": \"white\", \"gridwidth\": 2, \"linecolor\": \"white\", \"showbackground\": true, \"ticks\": \"\", \"zerolinecolor\": \"white\"}, \"yaxis\": {\"backgroundcolor\": \"#E5ECF6\", \"gridcolor\": \"white\", \"gridwidth\": 2, \"linecolor\": \"white\", \"showbackground\": true, \"ticks\": \"\", \"zerolinecolor\": \"white\"}, \"zaxis\": {\"backgroundcolor\": \"#E5ECF6\", \"gridcolor\": \"white\", \"gridwidth\": 2, \"linecolor\": \"white\", \"showbackground\": true, \"ticks\": \"\", \"zerolinecolor\": \"white\"}}, \"shapedefaults\": {\"line\": {\"color\": \"#2a3f5f\"}}, \"ternary\": {\"aaxis\": {\"gridcolor\": \"white\", \"linecolor\": \"white\", \"ticks\": \"\"}, \"baxis\": {\"gridcolor\": \"white\", \"linecolor\": \"white\", \"ticks\": \"\"}, \"bgcolor\": \"#E5ECF6\", \"caxis\": {\"gridcolor\": \"white\", \"linecolor\": \"white\", \"ticks\": \"\"}}, \"title\": {\"x\": 0.05}, \"xaxis\": {\"automargin\": true, \"gridcolor\": \"white\", \"linecolor\": \"white\", \"ticks\": \"\", \"title\": {\"standoff\": 15}, \"zerolinecolor\": \"white\", \"zerolinewidth\": 2}, \"yaxis\": {\"automargin\": true, \"gridcolor\": \"white\", \"linecolor\": \"white\", \"ticks\": \"\", \"title\": {\"standoff\": 15}, \"zerolinecolor\": \"white\", \"zerolinewidth\": 2}}}, \"title\": {\"text\": \"Contour Plot\"}, \"xaxis\": {\"range\": [-0.004109723285574879, 0.519213079000383], \"title\": {\"text\": \"dropout\"}}, \"yaxis\": {\"range\": [-75.0, 1971.0], \"title\": {\"text\": \"units\"}}},\n",
              "                        {\"responsive\": true}\n",
              "                    ).then(function(){\n",
              "                            \n",
              "var gd = document.getElementById('c484200d-480c-4a4b-a1c0-34acc62f2b76');\n",
              "var x = new MutationObserver(function (mutations, observer) {{\n",
              "        var display = window.getComputedStyle(gd).display;\n",
              "        if (!display || display === 'none') {{\n",
              "            console.log([gd, 'removed!']);\n",
              "            Plotly.purge(gd);\n",
              "            observer.disconnect();\n",
              "        }}\n",
              "}});\n",
              "\n",
              "// Listen for the removal of the full notebook cells\n",
              "var notebookContainer = gd.closest('#notebook-container');\n",
              "if (notebookContainer) {{\n",
              "    x.observe(notebookContainer, {childList: true});\n",
              "}}\n",
              "\n",
              "// Listen for the clearing of the current output cell\n",
              "var outputEl = gd.closest('.output');\n",
              "if (outputEl) {{\n",
              "    x.observe(outputEl, {childList: true});\n",
              "}}\n",
              "\n",
              "                        })\n",
              "                };\n",
              "                \n",
              "            </script>\n",
              "        </div>\n",
              "</body>\n",
              "</html>"
            ]
          },
          "metadata": {
            "tags": []
          }
        }
      ]
    },
    {
      "cell_type": "markdown",
      "metadata": {
        "id": "T_EUAB1hjwzz"
      },
      "source": [
        "## Visualizing Individual Parameters"
      ]
    },
    {
      "cell_type": "code",
      "metadata": {
        "colab": {
          "base_uri": "https://localhost:8080/",
          "height": 542
        },
        "id": "fYqDptj9jzLB",
        "outputId": "562c28a7-5d34-4e82-b4fc-2a89a33aba0d"
      },
      "source": [
        "from optuna.visualization import plot_slice\r\n",
        "\r\n",
        "plot_slice(study)"
      ],
      "execution_count": 14,
      "outputs": [
        {
          "output_type": "display_data",
          "data": {
            "text/html": [
              "<html>\n",
              "<head><meta charset=\"utf-8\" /></head>\n",
              "<body>\n",
              "    <div>\n",
              "            <script src=\"https://cdnjs.cloudflare.com/ajax/libs/mathjax/2.7.5/MathJax.js?config=TeX-AMS-MML_SVG\"></script><script type=\"text/javascript\">if (window.MathJax) {MathJax.Hub.Config({SVG: {font: \"STIX-Web\"}});}</script>\n",
              "                <script type=\"text/javascript\">window.PlotlyConfig = {MathJaxConfig: 'local'};</script>\n",
              "        <script src=\"https://cdn.plot.ly/plotly-latest.min.js\"></script>    \n",
              "            <div id=\"2d323731-c584-40dc-b757-5a3de69589a5\" class=\"plotly-graph-div\" style=\"height:525px; width:1200px;\"></div>\n",
              "            <script type=\"text/javascript\">\n",
              "                \n",
              "                    window.PLOTLYENV=window.PLOTLYENV || {};\n",
              "                    \n",
              "                if (document.getElementById(\"2d323731-c584-40dc-b757-5a3de69589a5\")) {\n",
              "                    Plotly.newPlot(\n",
              "                        '2d323731-c584-40dc-b757-5a3de69589a5',\n",
              "                        [{\"marker\": {\"color\": [0, 1, 2, 3, 4, 5, 6, 7, 8, 9, 10, 11, 12, 13, 14, 15, 16, 17, 18, 19], \"colorbar\": {\"title\": {\"text\": \"#Trials\"}, \"x\": 1.0, \"xpad\": 40}, \"colorscale\": [[0.0, \"rgb(247,251,255)\"], [0.125, \"rgb(222,235,247)\"], [0.25, \"rgb(198,219,239)\"], [0.375, \"rgb(158,202,225)\"], [0.5, \"rgb(107,174,214)\"], [0.625, \"rgb(66,146,198)\"], [0.75, \"rgb(33,113,181)\"], [0.875, \"rgb(8,81,156)\"], [1.0, \"rgb(8,48,107)\"]], \"line\": {\"color\": \"Grey\", \"width\": 0.5}, \"showscale\": true}, \"mode\": \"markers\", \"showlegend\": false, \"type\": \"scatter\", \"x\": [\"linear\", \"sigmoid\", \"relu\", \"linear\", \"relu\", \"linear\", \"relu\", \"sigmoid\", \"relu\", \"sigmoid\", \"relu\", \"relu\", \"relu\", \"relu\", \"relu\", \"relu\", \"relu\", \"relu\", \"relu\", \"relu\"], \"xaxis\": \"x\", \"y\": [0.8755643367767334, 0.9891334772109985, 0.19873863458633423, 0.8779668211936951, 0.2330784797668457, 0.8957996368408203, 0.19940848648548126, 1.0503551959991455, 0.20152287185192108, 0.20771226286888123, 0.19179609417915344, 0.19737756252288818, 0.19921354949474335, 0.2024354785680771, 0.19310417771339417, 0.19879421591758728, 0.18547703325748444, 0.22958849370479584, 0.20434384047985077, 0.19204182922840118], \"yaxis\": \"y\"}, {\"marker\": {\"color\": [0, 1, 2, 3, 4, 5, 6, 7, 8, 9, 10, 11, 12, 13, 14, 15, 16, 17, 18, 19], \"colorbar\": {\"title\": {\"text\": \"#Trials\"}, \"x\": 1.0, \"xpad\": 40}, \"colorscale\": [[0.0, \"rgb(247,251,255)\"], [0.125, \"rgb(222,235,247)\"], [0.25, \"rgb(198,219,239)\"], [0.375, \"rgb(158,202,225)\"], [0.5, \"rgb(107,174,214)\"], [0.625, \"rgb(66,146,198)\"], [0.75, \"rgb(33,113,181)\"], [0.875, \"rgb(8,81,156)\"], [1.0, \"rgb(8,48,107)\"]], \"line\": {\"color\": \"Grey\", \"width\": 0.5}, \"showscale\": false}, \"mode\": \"markers\", \"showlegend\": false, \"type\": \"scatter\", \"x\": [0.4954256788964758, 0.14332682435853805, 0.27915582038102393, 0.4153696713682228, 0.3667001383571827, 0.07650398263154923, 0.2655304622377676, 0.23479757087807734, 0.3058569889361619, 0.43081838263085065, 0.17656531403008602, 0.17471784260023945, 0.15929115427501545, 0.019677676818332296, 0.1709262457889005, 0.08589252351694829, 0.21265666278230785, 0.2317438547299526, 0.3280433070217674, 0.09960797077195843], \"xaxis\": \"x2\", \"y\": [0.8755643367767334, 0.9891334772109985, 0.19873863458633423, 0.8779668211936951, 0.2330784797668457, 0.8957996368408203, 0.19940848648548126, 1.0503551959991455, 0.20152287185192108, 0.20771226286888123, 0.19179609417915344, 0.19737756252288818, 0.19921354949474335, 0.2024354785680771, 0.19310417771339417, 0.19879421591758728, 0.18547703325748444, 0.22958849370479584, 0.20434384047985077, 0.19204182922840118], \"yaxis\": \"y2\"}, {\"marker\": {\"color\": [0, 1, 2, 3, 4, 5, 6, 7, 8, 9, 10, 11, 12, 13, 14, 15, 16, 17, 18, 19], \"colorbar\": {\"title\": {\"text\": \"#Trials\"}, \"x\": 1.0, \"xpad\": 40}, \"colorscale\": [[0.0, \"rgb(247,251,255)\"], [0.125, \"rgb(222,235,247)\"], [0.25, \"rgb(198,219,239)\"], [0.375, \"rgb(158,202,225)\"], [0.5, \"rgb(107,174,214)\"], [0.625, \"rgb(66,146,198)\"], [0.75, \"rgb(33,113,181)\"], [0.875, \"rgb(8,81,156)\"], [1.0, \"rgb(8,48,107)\"]], \"line\": {\"color\": \"Grey\", \"width\": 0.5}, \"showscale\": false}, \"mode\": \"markers\", \"showlegend\": false, \"type\": \"scatter\", \"x\": [0.0010101903037339182, 0.0013370226395689074, 0.0013706061404429402, 0.0013710371730390838, 0.0005915701823074618, 0.0005676994616347687, 0.0015492680452204777, 0.000809904111691024, 0.0008396285764200849, 0.0009401582655666743, 0.001900080146390628, 0.001923732275060687, 0.0019033259238143202, 0.0019450954497719883, 0.001972259509366055, 0.0016507953433347712, 0.0011274696906762919, 0.0011583866291521568, 0.0006541711687500174, 0.0011328879826936625], \"xaxis\": \"x3\", \"y\": [0.8755643367767334, 0.9891334772109985, 0.19873863458633423, 0.8779668211936951, 0.2330784797668457, 0.8957996368408203, 0.19940848648548126, 1.0503551959991455, 0.20152287185192108, 0.20771226286888123, 0.19179609417915344, 0.19737756252288818, 0.19921354949474335, 0.2024354785680771, 0.19310417771339417, 0.19879421591758728, 0.18547703325748444, 0.22958849370479584, 0.20434384047985077, 0.19204182922840118], \"yaxis\": \"y3\"}, {\"marker\": {\"color\": [0, 1, 2, 3, 4, 5, 6, 7, 8, 9, 10, 11, 12, 13, 14, 15, 16, 17, 18, 19], \"colorbar\": {\"title\": {\"text\": \"#Trials\"}, \"x\": 1.0, \"xpad\": 40}, \"colorscale\": [[0.0, \"rgb(247,251,255)\"], [0.125, \"rgb(222,235,247)\"], [0.25, \"rgb(198,219,239)\"], [0.375, \"rgb(158,202,225)\"], [0.5, \"rgb(107,174,214)\"], [0.625, \"rgb(66,146,198)\"], [0.75, \"rgb(33,113,181)\"], [0.875, \"rgb(8,81,156)\"], [1.0, \"rgb(8,48,107)\"]], \"line\": {\"color\": \"Grey\", \"width\": 0.5}, \"showscale\": false}, \"mode\": \"markers\", \"showlegend\": false, \"type\": \"scatter\", \"x\": [224.0, 1526.0, 376.0, 768.0, 1878.0, 215.0, 974.0, 657.0, 349.0, 1233.0, 58.0, 487.0, 48.0, 18.0, 599.0, 885.0, 1267.0, 1348.0, 1815.0, 1613.0], \"xaxis\": \"x4\", \"y\": [0.8755643367767334, 0.9891334772109985, 0.19873863458633423, 0.8779668211936951, 0.2330784797668457, 0.8957996368408203, 0.19940848648548126, 1.0503551959991455, 0.20152287185192108, 0.20771226286888123, 0.19179609417915344, 0.19737756252288818, 0.19921354949474335, 0.2024354785680771, 0.19310417771339417, 0.19879421591758728, 0.18547703325748444, 0.22958849370479584, 0.20434384047985077, 0.19204182922840118], \"yaxis\": \"y4\"}],\n",
              "                        {\"template\": {\"data\": {\"bar\": [{\"error_x\": {\"color\": \"#2a3f5f\"}, \"error_y\": {\"color\": \"#2a3f5f\"}, \"marker\": {\"line\": {\"color\": \"#E5ECF6\", \"width\": 0.5}}, \"type\": \"bar\"}], \"barpolar\": [{\"marker\": {\"line\": {\"color\": \"#E5ECF6\", \"width\": 0.5}}, \"type\": \"barpolar\"}], \"carpet\": [{\"aaxis\": {\"endlinecolor\": \"#2a3f5f\", \"gridcolor\": \"white\", \"linecolor\": \"white\", \"minorgridcolor\": \"white\", \"startlinecolor\": \"#2a3f5f\"}, \"baxis\": {\"endlinecolor\": \"#2a3f5f\", \"gridcolor\": \"white\", \"linecolor\": \"white\", \"minorgridcolor\": \"white\", \"startlinecolor\": \"#2a3f5f\"}, \"type\": \"carpet\"}], \"choropleth\": [{\"colorbar\": {\"outlinewidth\": 0, \"ticks\": \"\"}, \"type\": \"choropleth\"}], \"contour\": [{\"colorbar\": {\"outlinewidth\": 0, \"ticks\": \"\"}, \"colorscale\": [[0.0, \"#0d0887\"], [0.1111111111111111, \"#46039f\"], [0.2222222222222222, \"#7201a8\"], [0.3333333333333333, \"#9c179e\"], [0.4444444444444444, \"#bd3786\"], [0.5555555555555556, \"#d8576b\"], [0.6666666666666666, \"#ed7953\"], [0.7777777777777778, \"#fb9f3a\"], [0.8888888888888888, \"#fdca26\"], [1.0, \"#f0f921\"]], \"type\": \"contour\"}], \"contourcarpet\": [{\"colorbar\": {\"outlinewidth\": 0, \"ticks\": \"\"}, \"type\": \"contourcarpet\"}], \"heatmap\": [{\"colorbar\": {\"outlinewidth\": 0, \"ticks\": \"\"}, \"colorscale\": [[0.0, \"#0d0887\"], [0.1111111111111111, \"#46039f\"], [0.2222222222222222, \"#7201a8\"], [0.3333333333333333, \"#9c179e\"], [0.4444444444444444, \"#bd3786\"], [0.5555555555555556, \"#d8576b\"], [0.6666666666666666, \"#ed7953\"], [0.7777777777777778, \"#fb9f3a\"], [0.8888888888888888, \"#fdca26\"], [1.0, \"#f0f921\"]], \"type\": \"heatmap\"}], \"heatmapgl\": [{\"colorbar\": {\"outlinewidth\": 0, \"ticks\": \"\"}, \"colorscale\": [[0.0, \"#0d0887\"], [0.1111111111111111, \"#46039f\"], [0.2222222222222222, \"#7201a8\"], [0.3333333333333333, \"#9c179e\"], [0.4444444444444444, \"#bd3786\"], [0.5555555555555556, \"#d8576b\"], [0.6666666666666666, \"#ed7953\"], [0.7777777777777778, \"#fb9f3a\"], [0.8888888888888888, \"#fdca26\"], [1.0, \"#f0f921\"]], \"type\": \"heatmapgl\"}], \"histogram\": [{\"marker\": {\"colorbar\": {\"outlinewidth\": 0, \"ticks\": \"\"}}, \"type\": \"histogram\"}], \"histogram2d\": [{\"colorbar\": {\"outlinewidth\": 0, \"ticks\": \"\"}, \"colorscale\": [[0.0, \"#0d0887\"], [0.1111111111111111, \"#46039f\"], [0.2222222222222222, \"#7201a8\"], [0.3333333333333333, \"#9c179e\"], [0.4444444444444444, \"#bd3786\"], [0.5555555555555556, \"#d8576b\"], [0.6666666666666666, \"#ed7953\"], [0.7777777777777778, \"#fb9f3a\"], [0.8888888888888888, \"#fdca26\"], [1.0, \"#f0f921\"]], \"type\": \"histogram2d\"}], \"histogram2dcontour\": [{\"colorbar\": {\"outlinewidth\": 0, \"ticks\": \"\"}, \"colorscale\": [[0.0, \"#0d0887\"], [0.1111111111111111, \"#46039f\"], [0.2222222222222222, \"#7201a8\"], [0.3333333333333333, \"#9c179e\"], [0.4444444444444444, \"#bd3786\"], [0.5555555555555556, \"#d8576b\"], [0.6666666666666666, \"#ed7953\"], [0.7777777777777778, \"#fb9f3a\"], [0.8888888888888888, \"#fdca26\"], [1.0, \"#f0f921\"]], \"type\": \"histogram2dcontour\"}], \"mesh3d\": [{\"colorbar\": {\"outlinewidth\": 0, \"ticks\": \"\"}, \"type\": \"mesh3d\"}], \"parcoords\": [{\"line\": {\"colorbar\": {\"outlinewidth\": 0, \"ticks\": \"\"}}, \"type\": \"parcoords\"}], \"pie\": [{\"automargin\": true, \"type\": \"pie\"}], \"scatter\": [{\"marker\": {\"colorbar\": {\"outlinewidth\": 0, \"ticks\": \"\"}}, \"type\": \"scatter\"}], \"scatter3d\": [{\"line\": {\"colorbar\": {\"outlinewidth\": 0, \"ticks\": \"\"}}, \"marker\": {\"colorbar\": {\"outlinewidth\": 0, \"ticks\": \"\"}}, \"type\": \"scatter3d\"}], \"scattercarpet\": [{\"marker\": {\"colorbar\": {\"outlinewidth\": 0, \"ticks\": \"\"}}, \"type\": \"scattercarpet\"}], \"scattergeo\": [{\"marker\": {\"colorbar\": {\"outlinewidth\": 0, \"ticks\": \"\"}}, \"type\": \"scattergeo\"}], \"scattergl\": [{\"marker\": {\"colorbar\": {\"outlinewidth\": 0, \"ticks\": \"\"}}, \"type\": \"scattergl\"}], \"scattermapbox\": [{\"marker\": {\"colorbar\": {\"outlinewidth\": 0, \"ticks\": \"\"}}, \"type\": \"scattermapbox\"}], \"scatterpolar\": [{\"marker\": {\"colorbar\": {\"outlinewidth\": 0, \"ticks\": \"\"}}, \"type\": \"scatterpolar\"}], \"scatterpolargl\": [{\"marker\": {\"colorbar\": {\"outlinewidth\": 0, \"ticks\": \"\"}}, \"type\": \"scatterpolargl\"}], \"scatterternary\": [{\"marker\": {\"colorbar\": {\"outlinewidth\": 0, \"ticks\": \"\"}}, \"type\": \"scatterternary\"}], \"surface\": [{\"colorbar\": {\"outlinewidth\": 0, \"ticks\": \"\"}, \"colorscale\": [[0.0, \"#0d0887\"], [0.1111111111111111, \"#46039f\"], [0.2222222222222222, \"#7201a8\"], [0.3333333333333333, \"#9c179e\"], [0.4444444444444444, \"#bd3786\"], [0.5555555555555556, \"#d8576b\"], [0.6666666666666666, \"#ed7953\"], [0.7777777777777778, \"#fb9f3a\"], [0.8888888888888888, \"#fdca26\"], [1.0, \"#f0f921\"]], \"type\": \"surface\"}], \"table\": [{\"cells\": {\"fill\": {\"color\": \"#EBF0F8\"}, \"line\": {\"color\": \"white\"}}, \"header\": {\"fill\": {\"color\": \"#C8D4E3\"}, \"line\": {\"color\": \"white\"}}, \"type\": \"table\"}]}, \"layout\": {\"annotationdefaults\": {\"arrowcolor\": \"#2a3f5f\", \"arrowhead\": 0, \"arrowwidth\": 1}, \"coloraxis\": {\"colorbar\": {\"outlinewidth\": 0, \"ticks\": \"\"}}, \"colorscale\": {\"diverging\": [[0, \"#8e0152\"], [0.1, \"#c51b7d\"], [0.2, \"#de77ae\"], [0.3, \"#f1b6da\"], [0.4, \"#fde0ef\"], [0.5, \"#f7f7f7\"], [0.6, \"#e6f5d0\"], [0.7, \"#b8e186\"], [0.8, \"#7fbc41\"], [0.9, \"#4d9221\"], [1, \"#276419\"]], \"sequential\": [[0.0, \"#0d0887\"], [0.1111111111111111, \"#46039f\"], [0.2222222222222222, \"#7201a8\"], [0.3333333333333333, \"#9c179e\"], [0.4444444444444444, \"#bd3786\"], [0.5555555555555556, \"#d8576b\"], [0.6666666666666666, \"#ed7953\"], [0.7777777777777778, \"#fb9f3a\"], [0.8888888888888888, \"#fdca26\"], [1.0, \"#f0f921\"]], \"sequentialminus\": [[0.0, \"#0d0887\"], [0.1111111111111111, \"#46039f\"], [0.2222222222222222, \"#7201a8\"], [0.3333333333333333, \"#9c179e\"], [0.4444444444444444, \"#bd3786\"], [0.5555555555555556, \"#d8576b\"], [0.6666666666666666, \"#ed7953\"], [0.7777777777777778, \"#fb9f3a\"], [0.8888888888888888, \"#fdca26\"], [1.0, \"#f0f921\"]]}, \"colorway\": [\"#636efa\", \"#EF553B\", \"#00cc96\", \"#ab63fa\", \"#FFA15A\", \"#19d3f3\", \"#FF6692\", \"#B6E880\", \"#FF97FF\", \"#FECB52\"], \"font\": {\"color\": \"#2a3f5f\"}, \"geo\": {\"bgcolor\": \"white\", \"lakecolor\": \"white\", \"landcolor\": \"#E5ECF6\", \"showlakes\": true, \"showland\": true, \"subunitcolor\": \"white\"}, \"hoverlabel\": {\"align\": \"left\"}, \"hovermode\": \"closest\", \"mapbox\": {\"style\": \"light\"}, \"paper_bgcolor\": \"white\", \"plot_bgcolor\": \"#E5ECF6\", \"polar\": {\"angularaxis\": {\"gridcolor\": \"white\", \"linecolor\": \"white\", \"ticks\": \"\"}, \"bgcolor\": \"#E5ECF6\", \"radialaxis\": {\"gridcolor\": \"white\", \"linecolor\": \"white\", \"ticks\": \"\"}}, \"scene\": {\"xaxis\": {\"backgroundcolor\": \"#E5ECF6\", \"gridcolor\": \"white\", \"gridwidth\": 2, \"linecolor\": \"white\", \"showbackground\": true, \"ticks\": \"\", \"zerolinecolor\": \"white\"}, \"yaxis\": {\"backgroundcolor\": \"#E5ECF6\", \"gridcolor\": \"white\", \"gridwidth\": 2, \"linecolor\": \"white\", \"showbackground\": true, \"ticks\": \"\", \"zerolinecolor\": \"white\"}, \"zaxis\": {\"backgroundcolor\": \"#E5ECF6\", \"gridcolor\": \"white\", \"gridwidth\": 2, \"linecolor\": \"white\", \"showbackground\": true, \"ticks\": \"\", \"zerolinecolor\": \"white\"}}, \"shapedefaults\": {\"line\": {\"color\": \"#2a3f5f\"}}, \"ternary\": {\"aaxis\": {\"gridcolor\": \"white\", \"linecolor\": \"white\", \"ticks\": \"\"}, \"baxis\": {\"gridcolor\": \"white\", \"linecolor\": \"white\", \"ticks\": \"\"}, \"bgcolor\": \"#E5ECF6\", \"caxis\": {\"gridcolor\": \"white\", \"linecolor\": \"white\", \"ticks\": \"\"}}, \"title\": {\"x\": 0.05}, \"xaxis\": {\"automargin\": true, \"gridcolor\": \"white\", \"linecolor\": \"white\", \"ticks\": \"\", \"title\": {\"standoff\": 15}, \"zerolinecolor\": \"white\", \"zerolinewidth\": 2}, \"yaxis\": {\"automargin\": true, \"gridcolor\": \"white\", \"linecolor\": \"white\", \"ticks\": \"\", \"title\": {\"standoff\": 15}, \"zerolinecolor\": \"white\", \"zerolinewidth\": 2}}}, \"title\": {\"text\": \"Slice Plot\"}, \"width\": 1200, \"xaxis\": {\"anchor\": \"y\", \"domain\": [0.0, 0.2125], \"title\": {\"text\": \"activation\"}}, \"xaxis2\": {\"anchor\": \"y2\", \"domain\": [0.2625, 0.475], \"title\": {\"text\": \"dropout\"}}, \"xaxis3\": {\"anchor\": \"y3\", \"domain\": [0.525, 0.7375], \"title\": {\"text\": \"lr\"}, \"type\": \"log\"}, \"xaxis4\": {\"anchor\": \"y4\", \"domain\": [0.7875, 1.0], \"title\": {\"text\": \"units\"}}, \"yaxis\": {\"anchor\": \"x\", \"domain\": [0.0, 1.0], \"title\": {\"text\": \"Objective Value\"}}, \"yaxis2\": {\"anchor\": \"x2\", \"domain\": [0.0, 1.0], \"matches\": \"y\", \"showticklabels\": false}, \"yaxis3\": {\"anchor\": \"x3\", \"domain\": [0.0, 1.0], \"matches\": \"y\", \"showticklabels\": false}, \"yaxis4\": {\"anchor\": \"x4\", \"domain\": [0.0, 1.0], \"matches\": \"y\", \"showticklabels\": false}},\n",
              "                        {\"responsive\": true}\n",
              "                    ).then(function(){\n",
              "                            \n",
              "var gd = document.getElementById('2d323731-c584-40dc-b757-5a3de69589a5');\n",
              "var x = new MutationObserver(function (mutations, observer) {{\n",
              "        var display = window.getComputedStyle(gd).display;\n",
              "        if (!display || display === 'none') {{\n",
              "            console.log([gd, 'removed!']);\n",
              "            Plotly.purge(gd);\n",
              "            observer.disconnect();\n",
              "        }}\n",
              "}});\n",
              "\n",
              "// Listen for the removal of the full notebook cells\n",
              "var notebookContainer = gd.closest('#notebook-container');\n",
              "if (notebookContainer) {{\n",
              "    x.observe(notebookContainer, {childList: true});\n",
              "}}\n",
              "\n",
              "// Listen for the clearing of the current output cell\n",
              "var outputEl = gd.closest('.output');\n",
              "if (outputEl) {{\n",
              "    x.observe(outputEl, {childList: true});\n",
              "}}\n",
              "\n",
              "                        })\n",
              "                };\n",
              "                \n",
              "            </script>\n",
              "        </div>\n",
              "</body>\n",
              "</html>"
            ]
          },
          "metadata": {
            "tags": []
          }
        }
      ]
    },
    {
      "cell_type": "markdown",
      "metadata": {
        "id": "EfFztg3Zj146"
      },
      "source": [
        "## Selecting Parameters to Visualize"
      ]
    },
    {
      "cell_type": "code",
      "metadata": {
        "colab": {
          "base_uri": "https://localhost:8080/",
          "height": 542
        },
        "id": "9dNzFJXKj2Uh",
        "outputId": "6c412085-be0a-4b5a-b113-adad4f24f3c1"
      },
      "source": [
        "plot_slice(study, params=['units', 'dropout'])"
      ],
      "execution_count": 15,
      "outputs": [
        {
          "output_type": "display_data",
          "data": {
            "text/html": [
              "<html>\n",
              "<head><meta charset=\"utf-8\" /></head>\n",
              "<body>\n",
              "    <div>\n",
              "            <script src=\"https://cdnjs.cloudflare.com/ajax/libs/mathjax/2.7.5/MathJax.js?config=TeX-AMS-MML_SVG\"></script><script type=\"text/javascript\">if (window.MathJax) {MathJax.Hub.Config({SVG: {font: \"STIX-Web\"}});}</script>\n",
              "                <script type=\"text/javascript\">window.PlotlyConfig = {MathJaxConfig: 'local'};</script>\n",
              "        <script src=\"https://cdn.plot.ly/plotly-latest.min.js\"></script>    \n",
              "            <div id=\"e933cd82-33bc-4866-8636-43d9b84cbe08\" class=\"plotly-graph-div\" style=\"height:525px; width:100%;\"></div>\n",
              "            <script type=\"text/javascript\">\n",
              "                \n",
              "                    window.PLOTLYENV=window.PLOTLYENV || {};\n",
              "                    \n",
              "                if (document.getElementById(\"e933cd82-33bc-4866-8636-43d9b84cbe08\")) {\n",
              "                    Plotly.newPlot(\n",
              "                        'e933cd82-33bc-4866-8636-43d9b84cbe08',\n",
              "                        [{\"marker\": {\"color\": [0, 1, 2, 3, 4, 5, 6, 7, 8, 9, 10, 11, 12, 13, 14, 15, 16, 17, 18, 19], \"colorbar\": {\"title\": {\"text\": \"#Trials\"}, \"x\": 1.0, \"xpad\": 40}, \"colorscale\": [[0.0, \"rgb(247,251,255)\"], [0.125, \"rgb(222,235,247)\"], [0.25, \"rgb(198,219,239)\"], [0.375, \"rgb(158,202,225)\"], [0.5, \"rgb(107,174,214)\"], [0.625, \"rgb(66,146,198)\"], [0.75, \"rgb(33,113,181)\"], [0.875, \"rgb(8,81,156)\"], [1.0, \"rgb(8,48,107)\"]], \"line\": {\"color\": \"Grey\", \"width\": 0.5}, \"showscale\": true}, \"mode\": \"markers\", \"showlegend\": false, \"type\": \"scatter\", \"x\": [0.4954256788964758, 0.14332682435853805, 0.27915582038102393, 0.4153696713682228, 0.3667001383571827, 0.07650398263154923, 0.2655304622377676, 0.23479757087807734, 0.3058569889361619, 0.43081838263085065, 0.17656531403008602, 0.17471784260023945, 0.15929115427501545, 0.019677676818332296, 0.1709262457889005, 0.08589252351694829, 0.21265666278230785, 0.2317438547299526, 0.3280433070217674, 0.09960797077195843], \"xaxis\": \"x\", \"y\": [0.8755643367767334, 0.9891334772109985, 0.19873863458633423, 0.8779668211936951, 0.2330784797668457, 0.8957996368408203, 0.19940848648548126, 1.0503551959991455, 0.20152287185192108, 0.20771226286888123, 0.19179609417915344, 0.19737756252288818, 0.19921354949474335, 0.2024354785680771, 0.19310417771339417, 0.19879421591758728, 0.18547703325748444, 0.22958849370479584, 0.20434384047985077, 0.19204182922840118], \"yaxis\": \"y\"}, {\"marker\": {\"color\": [0, 1, 2, 3, 4, 5, 6, 7, 8, 9, 10, 11, 12, 13, 14, 15, 16, 17, 18, 19], \"colorbar\": {\"title\": {\"text\": \"#Trials\"}, \"x\": 1.0, \"xpad\": 40}, \"colorscale\": [[0.0, \"rgb(247,251,255)\"], [0.125, \"rgb(222,235,247)\"], [0.25, \"rgb(198,219,239)\"], [0.375, \"rgb(158,202,225)\"], [0.5, \"rgb(107,174,214)\"], [0.625, \"rgb(66,146,198)\"], [0.75, \"rgb(33,113,181)\"], [0.875, \"rgb(8,81,156)\"], [1.0, \"rgb(8,48,107)\"]], \"line\": {\"color\": \"Grey\", \"width\": 0.5}, \"showscale\": false}, \"mode\": \"markers\", \"showlegend\": false, \"type\": \"scatter\", \"x\": [224.0, 1526.0, 376.0, 768.0, 1878.0, 215.0, 974.0, 657.0, 349.0, 1233.0, 58.0, 487.0, 48.0, 18.0, 599.0, 885.0, 1267.0, 1348.0, 1815.0, 1613.0], \"xaxis\": \"x2\", \"y\": [0.8755643367767334, 0.9891334772109985, 0.19873863458633423, 0.8779668211936951, 0.2330784797668457, 0.8957996368408203, 0.19940848648548126, 1.0503551959991455, 0.20152287185192108, 0.20771226286888123, 0.19179609417915344, 0.19737756252288818, 0.19921354949474335, 0.2024354785680771, 0.19310417771339417, 0.19879421591758728, 0.18547703325748444, 0.22958849370479584, 0.20434384047985077, 0.19204182922840118], \"yaxis\": \"y2\"}],\n",
              "                        {\"template\": {\"data\": {\"bar\": [{\"error_x\": {\"color\": \"#2a3f5f\"}, \"error_y\": {\"color\": \"#2a3f5f\"}, \"marker\": {\"line\": {\"color\": \"#E5ECF6\", \"width\": 0.5}}, \"type\": \"bar\"}], \"barpolar\": [{\"marker\": {\"line\": {\"color\": \"#E5ECF6\", \"width\": 0.5}}, \"type\": \"barpolar\"}], \"carpet\": [{\"aaxis\": {\"endlinecolor\": \"#2a3f5f\", \"gridcolor\": \"white\", \"linecolor\": \"white\", \"minorgridcolor\": \"white\", \"startlinecolor\": \"#2a3f5f\"}, \"baxis\": {\"endlinecolor\": \"#2a3f5f\", \"gridcolor\": \"white\", \"linecolor\": \"white\", \"minorgridcolor\": \"white\", \"startlinecolor\": \"#2a3f5f\"}, \"type\": \"carpet\"}], \"choropleth\": [{\"colorbar\": {\"outlinewidth\": 0, \"ticks\": \"\"}, \"type\": \"choropleth\"}], \"contour\": [{\"colorbar\": {\"outlinewidth\": 0, \"ticks\": \"\"}, \"colorscale\": [[0.0, \"#0d0887\"], [0.1111111111111111, \"#46039f\"], [0.2222222222222222, \"#7201a8\"], [0.3333333333333333, \"#9c179e\"], [0.4444444444444444, \"#bd3786\"], [0.5555555555555556, \"#d8576b\"], [0.6666666666666666, \"#ed7953\"], [0.7777777777777778, \"#fb9f3a\"], [0.8888888888888888, \"#fdca26\"], [1.0, \"#f0f921\"]], \"type\": \"contour\"}], \"contourcarpet\": [{\"colorbar\": {\"outlinewidth\": 0, \"ticks\": \"\"}, \"type\": \"contourcarpet\"}], \"heatmap\": [{\"colorbar\": {\"outlinewidth\": 0, \"ticks\": \"\"}, \"colorscale\": [[0.0, \"#0d0887\"], [0.1111111111111111, \"#46039f\"], [0.2222222222222222, \"#7201a8\"], [0.3333333333333333, \"#9c179e\"], [0.4444444444444444, \"#bd3786\"], [0.5555555555555556, \"#d8576b\"], [0.6666666666666666, \"#ed7953\"], [0.7777777777777778, \"#fb9f3a\"], [0.8888888888888888, \"#fdca26\"], [1.0, \"#f0f921\"]], \"type\": \"heatmap\"}], \"heatmapgl\": [{\"colorbar\": {\"outlinewidth\": 0, \"ticks\": \"\"}, \"colorscale\": [[0.0, \"#0d0887\"], [0.1111111111111111, \"#46039f\"], [0.2222222222222222, \"#7201a8\"], [0.3333333333333333, \"#9c179e\"], [0.4444444444444444, \"#bd3786\"], [0.5555555555555556, \"#d8576b\"], [0.6666666666666666, \"#ed7953\"], [0.7777777777777778, \"#fb9f3a\"], [0.8888888888888888, \"#fdca26\"], [1.0, \"#f0f921\"]], \"type\": \"heatmapgl\"}], \"histogram\": [{\"marker\": {\"colorbar\": {\"outlinewidth\": 0, \"ticks\": \"\"}}, \"type\": \"histogram\"}], \"histogram2d\": [{\"colorbar\": {\"outlinewidth\": 0, \"ticks\": \"\"}, \"colorscale\": [[0.0, \"#0d0887\"], [0.1111111111111111, \"#46039f\"], [0.2222222222222222, \"#7201a8\"], [0.3333333333333333, \"#9c179e\"], [0.4444444444444444, \"#bd3786\"], [0.5555555555555556, \"#d8576b\"], [0.6666666666666666, \"#ed7953\"], [0.7777777777777778, \"#fb9f3a\"], [0.8888888888888888, \"#fdca26\"], [1.0, \"#f0f921\"]], \"type\": \"histogram2d\"}], \"histogram2dcontour\": [{\"colorbar\": {\"outlinewidth\": 0, \"ticks\": \"\"}, \"colorscale\": [[0.0, \"#0d0887\"], [0.1111111111111111, \"#46039f\"], [0.2222222222222222, \"#7201a8\"], [0.3333333333333333, \"#9c179e\"], [0.4444444444444444, \"#bd3786\"], [0.5555555555555556, \"#d8576b\"], [0.6666666666666666, \"#ed7953\"], [0.7777777777777778, \"#fb9f3a\"], [0.8888888888888888, \"#fdca26\"], [1.0, \"#f0f921\"]], \"type\": \"histogram2dcontour\"}], \"mesh3d\": [{\"colorbar\": {\"outlinewidth\": 0, \"ticks\": \"\"}, \"type\": \"mesh3d\"}], \"parcoords\": [{\"line\": {\"colorbar\": {\"outlinewidth\": 0, \"ticks\": \"\"}}, \"type\": \"parcoords\"}], \"pie\": [{\"automargin\": true, \"type\": \"pie\"}], \"scatter\": [{\"marker\": {\"colorbar\": {\"outlinewidth\": 0, \"ticks\": \"\"}}, \"type\": \"scatter\"}], \"scatter3d\": [{\"line\": {\"colorbar\": {\"outlinewidth\": 0, \"ticks\": \"\"}}, \"marker\": {\"colorbar\": {\"outlinewidth\": 0, \"ticks\": \"\"}}, \"type\": \"scatter3d\"}], \"scattercarpet\": [{\"marker\": {\"colorbar\": {\"outlinewidth\": 0, \"ticks\": \"\"}}, \"type\": \"scattercarpet\"}], \"scattergeo\": [{\"marker\": {\"colorbar\": {\"outlinewidth\": 0, \"ticks\": \"\"}}, \"type\": \"scattergeo\"}], \"scattergl\": [{\"marker\": {\"colorbar\": {\"outlinewidth\": 0, \"ticks\": \"\"}}, \"type\": \"scattergl\"}], \"scattermapbox\": [{\"marker\": {\"colorbar\": {\"outlinewidth\": 0, \"ticks\": \"\"}}, \"type\": \"scattermapbox\"}], \"scatterpolar\": [{\"marker\": {\"colorbar\": {\"outlinewidth\": 0, \"ticks\": \"\"}}, \"type\": \"scatterpolar\"}], \"scatterpolargl\": [{\"marker\": {\"colorbar\": {\"outlinewidth\": 0, \"ticks\": \"\"}}, \"type\": \"scatterpolargl\"}], \"scatterternary\": [{\"marker\": {\"colorbar\": {\"outlinewidth\": 0, \"ticks\": \"\"}}, \"type\": \"scatterternary\"}], \"surface\": [{\"colorbar\": {\"outlinewidth\": 0, \"ticks\": \"\"}, \"colorscale\": [[0.0, \"#0d0887\"], [0.1111111111111111, \"#46039f\"], [0.2222222222222222, \"#7201a8\"], [0.3333333333333333, \"#9c179e\"], [0.4444444444444444, \"#bd3786\"], [0.5555555555555556, \"#d8576b\"], [0.6666666666666666, \"#ed7953\"], [0.7777777777777778, \"#fb9f3a\"], [0.8888888888888888, \"#fdca26\"], [1.0, \"#f0f921\"]], \"type\": \"surface\"}], \"table\": [{\"cells\": {\"fill\": {\"color\": \"#EBF0F8\"}, \"line\": {\"color\": \"white\"}}, \"header\": {\"fill\": {\"color\": \"#C8D4E3\"}, \"line\": {\"color\": \"white\"}}, \"type\": \"table\"}]}, \"layout\": {\"annotationdefaults\": {\"arrowcolor\": \"#2a3f5f\", \"arrowhead\": 0, \"arrowwidth\": 1}, \"coloraxis\": {\"colorbar\": {\"outlinewidth\": 0, \"ticks\": \"\"}}, \"colorscale\": {\"diverging\": [[0, \"#8e0152\"], [0.1, \"#c51b7d\"], [0.2, \"#de77ae\"], [0.3, \"#f1b6da\"], [0.4, \"#fde0ef\"], [0.5, \"#f7f7f7\"], [0.6, \"#e6f5d0\"], [0.7, \"#b8e186\"], [0.8, \"#7fbc41\"], [0.9, \"#4d9221\"], [1, \"#276419\"]], \"sequential\": [[0.0, \"#0d0887\"], [0.1111111111111111, \"#46039f\"], [0.2222222222222222, \"#7201a8\"], [0.3333333333333333, \"#9c179e\"], [0.4444444444444444, \"#bd3786\"], [0.5555555555555556, \"#d8576b\"], [0.6666666666666666, \"#ed7953\"], [0.7777777777777778, \"#fb9f3a\"], [0.8888888888888888, \"#fdca26\"], [1.0, \"#f0f921\"]], \"sequentialminus\": [[0.0, \"#0d0887\"], [0.1111111111111111, \"#46039f\"], [0.2222222222222222, \"#7201a8\"], [0.3333333333333333, \"#9c179e\"], [0.4444444444444444, \"#bd3786\"], [0.5555555555555556, \"#d8576b\"], [0.6666666666666666, \"#ed7953\"], [0.7777777777777778, \"#fb9f3a\"], [0.8888888888888888, \"#fdca26\"], [1.0, \"#f0f921\"]]}, \"colorway\": [\"#636efa\", \"#EF553B\", \"#00cc96\", \"#ab63fa\", \"#FFA15A\", \"#19d3f3\", \"#FF6692\", \"#B6E880\", \"#FF97FF\", \"#FECB52\"], \"font\": {\"color\": \"#2a3f5f\"}, \"geo\": {\"bgcolor\": \"white\", \"lakecolor\": \"white\", \"landcolor\": \"#E5ECF6\", \"showlakes\": true, \"showland\": true, \"subunitcolor\": \"white\"}, \"hoverlabel\": {\"align\": \"left\"}, \"hovermode\": \"closest\", \"mapbox\": {\"style\": \"light\"}, \"paper_bgcolor\": \"white\", \"plot_bgcolor\": \"#E5ECF6\", \"polar\": {\"angularaxis\": {\"gridcolor\": \"white\", \"linecolor\": \"white\", \"ticks\": \"\"}, \"bgcolor\": \"#E5ECF6\", \"radialaxis\": {\"gridcolor\": \"white\", \"linecolor\": \"white\", \"ticks\": \"\"}}, \"scene\": {\"xaxis\": {\"backgroundcolor\": \"#E5ECF6\", \"gridcolor\": \"white\", \"gridwidth\": 2, \"linecolor\": \"white\", \"showbackground\": true, \"ticks\": \"\", \"zerolinecolor\": \"white\"}, \"yaxis\": {\"backgroundcolor\": \"#E5ECF6\", \"gridcolor\": \"white\", \"gridwidth\": 2, \"linecolor\": \"white\", \"showbackground\": true, \"ticks\": \"\", \"zerolinecolor\": \"white\"}, \"zaxis\": {\"backgroundcolor\": \"#E5ECF6\", \"gridcolor\": \"white\", \"gridwidth\": 2, \"linecolor\": \"white\", \"showbackground\": true, \"ticks\": \"\", \"zerolinecolor\": \"white\"}}, \"shapedefaults\": {\"line\": {\"color\": \"#2a3f5f\"}}, \"ternary\": {\"aaxis\": {\"gridcolor\": \"white\", \"linecolor\": \"white\", \"ticks\": \"\"}, \"baxis\": {\"gridcolor\": \"white\", \"linecolor\": \"white\", \"ticks\": \"\"}, \"bgcolor\": \"#E5ECF6\", \"caxis\": {\"gridcolor\": \"white\", \"linecolor\": \"white\", \"ticks\": \"\"}}, \"title\": {\"x\": 0.05}, \"xaxis\": {\"automargin\": true, \"gridcolor\": \"white\", \"linecolor\": \"white\", \"ticks\": \"\", \"title\": {\"standoff\": 15}, \"zerolinecolor\": \"white\", \"zerolinewidth\": 2}, \"yaxis\": {\"automargin\": true, \"gridcolor\": \"white\", \"linecolor\": \"white\", \"ticks\": \"\", \"title\": {\"standoff\": 15}, \"zerolinecolor\": \"white\", \"zerolinewidth\": 2}}}, \"title\": {\"text\": \"Slice Plot\"}, \"xaxis\": {\"anchor\": \"y\", \"domain\": [0.0, 0.45], \"title\": {\"text\": \"dropout\"}}, \"xaxis2\": {\"anchor\": \"y2\", \"domain\": [0.55, 1.0], \"title\": {\"text\": \"units\"}}, \"yaxis\": {\"anchor\": \"x\", \"domain\": [0.0, 1.0], \"title\": {\"text\": \"Objective Value\"}}, \"yaxis2\": {\"anchor\": \"x2\", \"domain\": [0.0, 1.0], \"matches\": \"y\", \"showticklabels\": false}},\n",
              "                        {\"responsive\": true}\n",
              "                    ).then(function(){\n",
              "                            \n",
              "var gd = document.getElementById('e933cd82-33bc-4866-8636-43d9b84cbe08');\n",
              "var x = new MutationObserver(function (mutations, observer) {{\n",
              "        var display = window.getComputedStyle(gd).display;\n",
              "        if (!display || display === 'none') {{\n",
              "            console.log([gd, 'removed!']);\n",
              "            Plotly.purge(gd);\n",
              "            observer.disconnect();\n",
              "        }}\n",
              "}});\n",
              "\n",
              "// Listen for the removal of the full notebook cells\n",
              "var notebookContainer = gd.closest('#notebook-container');\n",
              "if (notebookContainer) {{\n",
              "    x.observe(notebookContainer, {childList: true});\n",
              "}}\n",
              "\n",
              "// Listen for the clearing of the current output cell\n",
              "var outputEl = gd.closest('.output');\n",
              "if (outputEl) {{\n",
              "    x.observe(outputEl, {childList: true});\n",
              "}}\n",
              "\n",
              "                        })\n",
              "                };\n",
              "                \n",
              "            </script>\n",
              "        </div>\n",
              "</body>\n",
              "</html>"
            ]
          },
          "metadata": {
            "tags": []
          }
        }
      ]
    },
    {
      "cell_type": "markdown",
      "metadata": {
        "id": "uRI_76oMj3uB"
      },
      "source": [
        "## Visualizing Parameter Importances"
      ]
    },
    {
      "cell_type": "code",
      "metadata": {
        "colab": {
          "base_uri": "https://localhost:8080/",
          "height": 542
        },
        "id": "B4Js9VJej5G6",
        "outputId": "b0e37212-1e13-4215-cf6f-f935829cf097"
      },
      "source": [
        "from optuna.visualization import plot_param_importances\r\n",
        "\r\n",
        "plot_param_importances(study)"
      ],
      "execution_count": 16,
      "outputs": [
        {
          "output_type": "display_data",
          "data": {
            "text/html": [
              "<html>\n",
              "<head><meta charset=\"utf-8\" /></head>\n",
              "<body>\n",
              "    <div>\n",
              "            <script src=\"https://cdnjs.cloudflare.com/ajax/libs/mathjax/2.7.5/MathJax.js?config=TeX-AMS-MML_SVG\"></script><script type=\"text/javascript\">if (window.MathJax) {MathJax.Hub.Config({SVG: {font: \"STIX-Web\"}});}</script>\n",
              "                <script type=\"text/javascript\">window.PlotlyConfig = {MathJaxConfig: 'local'};</script>\n",
              "        <script src=\"https://cdn.plot.ly/plotly-latest.min.js\"></script>    \n",
              "            <div id=\"c7623f57-8c00-4237-b7ef-3c2c7b010b87\" class=\"plotly-graph-div\" style=\"height:525px; width:100%;\"></div>\n",
              "            <script type=\"text/javascript\">\n",
              "                \n",
              "                    window.PLOTLYENV=window.PLOTLYENV || {};\n",
              "                    \n",
              "                if (document.getElementById(\"c7623f57-8c00-4237-b7ef-3c2c7b010b87\")) {\n",
              "                    Plotly.newPlot(\n",
              "                        'c7623f57-8c00-4237-b7ef-3c2c7b010b87',\n",
              "                        [{\"cliponaxis\": false, \"hovertemplate\": [\"lr (LogUniformDistribution): 0.025210333135134076<extra></extra>\", \"units (DiscreteUniformDistribution): 0.02582330710395698<extra></extra>\", \"dropout (UniformDistribution): 0.052110403048882474<extra></extra>\", \"activation (CategoricalDistribution): 0.8968559567120264<extra></extra>\"], \"marker\": {\"color\": [\"rgb(8,48,107)\", \"rgb(8,48,107)\", \"rgb(8,48,107)\", \"rgb(66,146,198)\"]}, \"orientation\": \"h\", \"text\": [\"0.025210333135134076\", \"0.02582330710395698\", \"0.052110403048882474\", \"0.8968559567120264\"], \"textposition\": \"outside\", \"texttemplate\": \"%{text:.2f}\", \"type\": \"bar\", \"x\": [0.025210333135134076, 0.02582330710395698, 0.052110403048882474, 0.8968559567120264], \"y\": [\"lr\", \"units\", \"dropout\", \"activation\"]}],\n",
              "                        {\"showlegend\": false, \"template\": {\"data\": {\"bar\": [{\"error_x\": {\"color\": \"#2a3f5f\"}, \"error_y\": {\"color\": \"#2a3f5f\"}, \"marker\": {\"line\": {\"color\": \"#E5ECF6\", \"width\": 0.5}}, \"type\": \"bar\"}], \"barpolar\": [{\"marker\": {\"line\": {\"color\": \"#E5ECF6\", \"width\": 0.5}}, \"type\": \"barpolar\"}], \"carpet\": [{\"aaxis\": {\"endlinecolor\": \"#2a3f5f\", \"gridcolor\": \"white\", \"linecolor\": \"white\", \"minorgridcolor\": \"white\", \"startlinecolor\": \"#2a3f5f\"}, \"baxis\": {\"endlinecolor\": \"#2a3f5f\", \"gridcolor\": \"white\", \"linecolor\": \"white\", \"minorgridcolor\": \"white\", \"startlinecolor\": \"#2a3f5f\"}, \"type\": \"carpet\"}], \"choropleth\": [{\"colorbar\": {\"outlinewidth\": 0, \"ticks\": \"\"}, \"type\": \"choropleth\"}], \"contour\": [{\"colorbar\": {\"outlinewidth\": 0, \"ticks\": \"\"}, \"colorscale\": [[0.0, \"#0d0887\"], [0.1111111111111111, \"#46039f\"], [0.2222222222222222, \"#7201a8\"], [0.3333333333333333, \"#9c179e\"], [0.4444444444444444, \"#bd3786\"], [0.5555555555555556, \"#d8576b\"], [0.6666666666666666, \"#ed7953\"], [0.7777777777777778, \"#fb9f3a\"], [0.8888888888888888, \"#fdca26\"], [1.0, \"#f0f921\"]], \"type\": \"contour\"}], \"contourcarpet\": [{\"colorbar\": {\"outlinewidth\": 0, \"ticks\": \"\"}, \"type\": \"contourcarpet\"}], \"heatmap\": [{\"colorbar\": {\"outlinewidth\": 0, \"ticks\": \"\"}, \"colorscale\": [[0.0, \"#0d0887\"], [0.1111111111111111, \"#46039f\"], [0.2222222222222222, \"#7201a8\"], [0.3333333333333333, \"#9c179e\"], [0.4444444444444444, \"#bd3786\"], [0.5555555555555556, \"#d8576b\"], [0.6666666666666666, \"#ed7953\"], [0.7777777777777778, \"#fb9f3a\"], [0.8888888888888888, \"#fdca26\"], [1.0, \"#f0f921\"]], \"type\": \"heatmap\"}], \"heatmapgl\": [{\"colorbar\": {\"outlinewidth\": 0, \"ticks\": \"\"}, \"colorscale\": [[0.0, \"#0d0887\"], [0.1111111111111111, \"#46039f\"], [0.2222222222222222, \"#7201a8\"], [0.3333333333333333, \"#9c179e\"], [0.4444444444444444, \"#bd3786\"], [0.5555555555555556, \"#d8576b\"], [0.6666666666666666, \"#ed7953\"], [0.7777777777777778, \"#fb9f3a\"], [0.8888888888888888, \"#fdca26\"], [1.0, \"#f0f921\"]], \"type\": \"heatmapgl\"}], \"histogram\": [{\"marker\": {\"colorbar\": {\"outlinewidth\": 0, \"ticks\": \"\"}}, \"type\": \"histogram\"}], \"histogram2d\": [{\"colorbar\": {\"outlinewidth\": 0, \"ticks\": \"\"}, \"colorscale\": [[0.0, \"#0d0887\"], [0.1111111111111111, \"#46039f\"], [0.2222222222222222, \"#7201a8\"], [0.3333333333333333, \"#9c179e\"], [0.4444444444444444, \"#bd3786\"], [0.5555555555555556, \"#d8576b\"], [0.6666666666666666, \"#ed7953\"], [0.7777777777777778, \"#fb9f3a\"], [0.8888888888888888, \"#fdca26\"], [1.0, \"#f0f921\"]], \"type\": \"histogram2d\"}], \"histogram2dcontour\": [{\"colorbar\": {\"outlinewidth\": 0, \"ticks\": \"\"}, \"colorscale\": [[0.0, \"#0d0887\"], [0.1111111111111111, \"#46039f\"], [0.2222222222222222, \"#7201a8\"], [0.3333333333333333, \"#9c179e\"], [0.4444444444444444, \"#bd3786\"], [0.5555555555555556, \"#d8576b\"], [0.6666666666666666, \"#ed7953\"], [0.7777777777777778, \"#fb9f3a\"], [0.8888888888888888, \"#fdca26\"], [1.0, \"#f0f921\"]], \"type\": \"histogram2dcontour\"}], \"mesh3d\": [{\"colorbar\": {\"outlinewidth\": 0, \"ticks\": \"\"}, \"type\": \"mesh3d\"}], \"parcoords\": [{\"line\": {\"colorbar\": {\"outlinewidth\": 0, \"ticks\": \"\"}}, \"type\": \"parcoords\"}], \"pie\": [{\"automargin\": true, \"type\": \"pie\"}], \"scatter\": [{\"marker\": {\"colorbar\": {\"outlinewidth\": 0, \"ticks\": \"\"}}, \"type\": \"scatter\"}], \"scatter3d\": [{\"line\": {\"colorbar\": {\"outlinewidth\": 0, \"ticks\": \"\"}}, \"marker\": {\"colorbar\": {\"outlinewidth\": 0, \"ticks\": \"\"}}, \"type\": \"scatter3d\"}], \"scattercarpet\": [{\"marker\": {\"colorbar\": {\"outlinewidth\": 0, \"ticks\": \"\"}}, \"type\": \"scattercarpet\"}], \"scattergeo\": [{\"marker\": {\"colorbar\": {\"outlinewidth\": 0, \"ticks\": \"\"}}, \"type\": \"scattergeo\"}], \"scattergl\": [{\"marker\": {\"colorbar\": {\"outlinewidth\": 0, \"ticks\": \"\"}}, \"type\": \"scattergl\"}], \"scattermapbox\": [{\"marker\": {\"colorbar\": {\"outlinewidth\": 0, \"ticks\": \"\"}}, \"type\": \"scattermapbox\"}], \"scatterpolar\": [{\"marker\": {\"colorbar\": {\"outlinewidth\": 0, \"ticks\": \"\"}}, \"type\": \"scatterpolar\"}], \"scatterpolargl\": [{\"marker\": {\"colorbar\": {\"outlinewidth\": 0, \"ticks\": \"\"}}, \"type\": \"scatterpolargl\"}], \"scatterternary\": [{\"marker\": {\"colorbar\": {\"outlinewidth\": 0, \"ticks\": \"\"}}, \"type\": \"scatterternary\"}], \"surface\": [{\"colorbar\": {\"outlinewidth\": 0, \"ticks\": \"\"}, \"colorscale\": [[0.0, \"#0d0887\"], [0.1111111111111111, \"#46039f\"], [0.2222222222222222, \"#7201a8\"], [0.3333333333333333, \"#9c179e\"], [0.4444444444444444, \"#bd3786\"], [0.5555555555555556, \"#d8576b\"], [0.6666666666666666, \"#ed7953\"], [0.7777777777777778, \"#fb9f3a\"], [0.8888888888888888, \"#fdca26\"], [1.0, \"#f0f921\"]], \"type\": \"surface\"}], \"table\": [{\"cells\": {\"fill\": {\"color\": \"#EBF0F8\"}, \"line\": {\"color\": \"white\"}}, \"header\": {\"fill\": {\"color\": \"#C8D4E3\"}, \"line\": {\"color\": \"white\"}}, \"type\": \"table\"}]}, \"layout\": {\"annotationdefaults\": {\"arrowcolor\": \"#2a3f5f\", \"arrowhead\": 0, \"arrowwidth\": 1}, \"coloraxis\": {\"colorbar\": {\"outlinewidth\": 0, \"ticks\": \"\"}}, \"colorscale\": {\"diverging\": [[0, \"#8e0152\"], [0.1, \"#c51b7d\"], [0.2, \"#de77ae\"], [0.3, \"#f1b6da\"], [0.4, \"#fde0ef\"], [0.5, \"#f7f7f7\"], [0.6, \"#e6f5d0\"], [0.7, \"#b8e186\"], [0.8, \"#7fbc41\"], [0.9, \"#4d9221\"], [1, \"#276419\"]], \"sequential\": [[0.0, \"#0d0887\"], [0.1111111111111111, \"#46039f\"], [0.2222222222222222, \"#7201a8\"], [0.3333333333333333, \"#9c179e\"], [0.4444444444444444, \"#bd3786\"], [0.5555555555555556, \"#d8576b\"], [0.6666666666666666, \"#ed7953\"], [0.7777777777777778, \"#fb9f3a\"], [0.8888888888888888, \"#fdca26\"], [1.0, \"#f0f921\"]], \"sequentialminus\": [[0.0, \"#0d0887\"], [0.1111111111111111, \"#46039f\"], [0.2222222222222222, \"#7201a8\"], [0.3333333333333333, \"#9c179e\"], [0.4444444444444444, \"#bd3786\"], [0.5555555555555556, \"#d8576b\"], [0.6666666666666666, \"#ed7953\"], [0.7777777777777778, \"#fb9f3a\"], [0.8888888888888888, \"#fdca26\"], [1.0, \"#f0f921\"]]}, \"colorway\": [\"#636efa\", \"#EF553B\", \"#00cc96\", \"#ab63fa\", \"#FFA15A\", \"#19d3f3\", \"#FF6692\", \"#B6E880\", \"#FF97FF\", \"#FECB52\"], \"font\": {\"color\": \"#2a3f5f\"}, \"geo\": {\"bgcolor\": \"white\", \"lakecolor\": \"white\", \"landcolor\": \"#E5ECF6\", \"showlakes\": true, \"showland\": true, \"subunitcolor\": \"white\"}, \"hoverlabel\": {\"align\": \"left\"}, \"hovermode\": \"closest\", \"mapbox\": {\"style\": \"light\"}, \"paper_bgcolor\": \"white\", \"plot_bgcolor\": \"#E5ECF6\", \"polar\": {\"angularaxis\": {\"gridcolor\": \"white\", \"linecolor\": \"white\", \"ticks\": \"\"}, \"bgcolor\": \"#E5ECF6\", \"radialaxis\": {\"gridcolor\": \"white\", \"linecolor\": \"white\", \"ticks\": \"\"}}, \"scene\": {\"xaxis\": {\"backgroundcolor\": \"#E5ECF6\", \"gridcolor\": \"white\", \"gridwidth\": 2, \"linecolor\": \"white\", \"showbackground\": true, \"ticks\": \"\", \"zerolinecolor\": \"white\"}, \"yaxis\": {\"backgroundcolor\": \"#E5ECF6\", \"gridcolor\": \"white\", \"gridwidth\": 2, \"linecolor\": \"white\", \"showbackground\": true, \"ticks\": \"\", \"zerolinecolor\": \"white\"}, \"zaxis\": {\"backgroundcolor\": \"#E5ECF6\", \"gridcolor\": \"white\", \"gridwidth\": 2, \"linecolor\": \"white\", \"showbackground\": true, \"ticks\": \"\", \"zerolinecolor\": \"white\"}}, \"shapedefaults\": {\"line\": {\"color\": \"#2a3f5f\"}}, \"ternary\": {\"aaxis\": {\"gridcolor\": \"white\", \"linecolor\": \"white\", \"ticks\": \"\"}, \"baxis\": {\"gridcolor\": \"white\", \"linecolor\": \"white\", \"ticks\": \"\"}, \"bgcolor\": \"#E5ECF6\", \"caxis\": {\"gridcolor\": \"white\", \"linecolor\": \"white\", \"ticks\": \"\"}}, \"title\": {\"x\": 0.05}, \"xaxis\": {\"automargin\": true, \"gridcolor\": \"white\", \"linecolor\": \"white\", \"ticks\": \"\", \"title\": {\"standoff\": 15}, \"zerolinecolor\": \"white\", \"zerolinewidth\": 2}, \"yaxis\": {\"automargin\": true, \"gridcolor\": \"white\", \"linecolor\": \"white\", \"ticks\": \"\", \"title\": {\"standoff\": 15}, \"zerolinecolor\": \"white\", \"zerolinewidth\": 2}}}, \"title\": {\"text\": \"Hyperparameter Importances\"}, \"xaxis\": {\"title\": {\"text\": \"Importance\"}}, \"yaxis\": {\"title\": {\"text\": \"Hyperparameter\"}}},\n",
              "                        {\"responsive\": true}\n",
              "                    ).then(function(){\n",
              "                            \n",
              "var gd = document.getElementById('c7623f57-8c00-4237-b7ef-3c2c7b010b87');\n",
              "var x = new MutationObserver(function (mutations, observer) {{\n",
              "        var display = window.getComputedStyle(gd).display;\n",
              "        if (!display || display === 'none') {{\n",
              "            console.log([gd, 'removed!']);\n",
              "            Plotly.purge(gd);\n",
              "            observer.disconnect();\n",
              "        }}\n",
              "}});\n",
              "\n",
              "// Listen for the removal of the full notebook cells\n",
              "var notebookContainer = gd.closest('#notebook-container');\n",
              "if (notebookContainer) {{\n",
              "    x.observe(notebookContainer, {childList: true});\n",
              "}}\n",
              "\n",
              "// Listen for the clearing of the current output cell\n",
              "var outputEl = gd.closest('.output');\n",
              "if (outputEl) {{\n",
              "    x.observe(outputEl, {childList: true});\n",
              "}}\n",
              "\n",
              "                        })\n",
              "                };\n",
              "                \n",
              "            </script>\n",
              "        </div>\n",
              "</body>\n",
              "</html>"
            ]
          },
          "metadata": {
            "tags": []
          }
        }
      ]
    },
    {
      "cell_type": "code",
      "metadata": {
        "colab": {
          "base_uri": "https://localhost:8080/"
        },
        "id": "1PHnjg62j6Wx",
        "outputId": "fd151a82-fb37-4d9f-f902-452f4e0b6271"
      },
      "source": [
        "trial = study.best_trial\r\n",
        "units = int(trial.params.get('units'))\r\n",
        "dropout = (trial.params.get('dropout'))\r\n",
        "print(units)\r\n",
        "print(dropout)"
      ],
      "execution_count": 17,
      "outputs": [
        {
          "output_type": "stream",
          "text": [
            "1267\n",
            "0.21265666278230785\n"
          ],
          "name": "stdout"
        }
      ]
    },
    {
      "cell_type": "code",
      "metadata": {
        "colab": {
          "base_uri": "https://localhost:8080/"
        },
        "id": "hEzw4moej7aJ",
        "outputId": "5d7dc624-6345-4efb-fdcf-2f1081eb2fc5"
      },
      "source": [
        "model0 = Sequential(name='network')\r\n",
        "    #.....\r\n",
        "model0.add(layers.Dense(units, activation='relu', input_shape=(1,)))\r\n",
        "model0.add(Dropout(dropout))\r\n",
        "model0.add(layers.Dense(units, activation='relu'))\r\n",
        "model0.add(Dropout(dropout))\r\n",
        "model0.add(layers.Dense(1, activation='linear'))\r\n",
        "# early stopping\r\n",
        "es = EarlyStopping(monitor='val_loss', mode='min', verbose=1, patience=50 )\r\n",
        "    \r\n",
        "#model0.summary()\r\n",
        "opt=optimizers.RMSprop(lr=0.001)\r\n",
        "model0.compile(optimizer=opt,\r\n",
        "                       loss='mean_squared_error',\r\n",
        "                       metrics=['mse'])\r\n",
        "history = model0.fit(XX_train_n, yy_train_n,\r\n",
        "                                     epochs=500,\r\n",
        "                                     batch_size=128,\r\n",
        "                                     validation_data=(XX_test_n, yy_test_n),\r\n",
        "                                     verbose = 0, callbacks=[es])\r\n",
        "results = model0.evaluate(XX_test_n, yy_test_n)"
      ],
      "execution_count": 18,
      "outputs": [
        {
          "output_type": "stream",
          "text": [
            "Epoch 00275: early stopping\n",
            "7/7 [==============================] - 0s 2ms/step - loss: 0.2060 - mse: 0.2060\n"
          ],
          "name": "stdout"
        }
      ]
    },
    {
      "cell_type": "markdown",
      "metadata": {
        "id": "g2owZ3Onj9KS"
      },
      "source": [
        "Plot loss"
      ]
    },
    {
      "cell_type": "code",
      "metadata": {
        "colab": {
          "base_uri": "https://localhost:8080/",
          "height": 279
        },
        "id": "MvbuWczZj-ka",
        "outputId": "049bf80f-2374-40a6-d898-26e535ebf1ac"
      },
      "source": [
        "def plot_loss(history):\r\n",
        "  plt.plot(history.history['loss'], label='loss')\r\n",
        "  plt.plot(history.history['val_loss'], label='val_loss')\r\n",
        "  plt.ylim([0, 1.5])\r\n",
        "  plt.xlabel('Epoch')\r\n",
        "  plt.ylabel('Error ')\r\n",
        "  plt.legend()\r\n",
        "  plt.grid(True)\r\n",
        "\r\n",
        "plot_loss(history)"
      ],
      "execution_count": 19,
      "outputs": [
        {
          "output_type": "display_data",
          "data": {
            "image/png": "[encoded data removed]",
            "text/plain": [
              "<Figure size 432x288 with 1 Axes>"
            ]
          },
          "metadata": {
            "tags": [],
            "needs_background": "light"
          }
        }
      ]
    },
    {
      "cell_type": "markdown",
      "metadata": {
        "id": "1vLwepx7kBKl"
      },
      "source": [
        "Evaluate neural network"
      ]
    },
    {
      "cell_type": "code",
      "metadata": {
        "colab": {
          "base_uri": "https://localhost:8080/"
        },
        "id": "DD9S-HlEkDJS",
        "outputId": "d8c53855-a34d-41e7-aff4-05f99570822f"
      },
      "source": [
        "results = model0.evaluate(XX_test_n, yy_test_n)\r\n",
        "\r\n",
        "print('loss test data: ', results[0])\r\n",
        "print('mse test data: ', results[1])\r\n",
        "\r\n",
        "results = model0.evaluate(XX_train_n, yy_train_n)\r\n",
        "\r\n",
        "print('loss train data: ', results[0])\r\n",
        "print('mse train data: ', results[1])"
      ],
      "execution_count": 20,
      "outputs": [
        {
          "output_type": "stream",
          "text": [
            "7/7 [==============================] - 0s 2ms/step - loss: 0.2060 - mse: 0.2060\n",
            "loss test data:  0.20595870912075043\n",
            "mse test data:  0.20595870912075043\n",
            "7/7 [==============================] - 0s 2ms/step - loss: 0.1543 - mse: 0.1543\n",
            "loss train data:  0.1543184220790863\n",
            "mse train data:  0.1543184220790863\n"
          ],
          "name": "stdout"
        }
      ]
    },
    {
      "cell_type": "markdown",
      "metadata": {
        "id": "e4f6cCUWkEu5"
      },
      "source": [
        "Plot results"
      ]
    },
    {
      "cell_type": "code",
      "metadata": {
        "colab": {
          "base_uri": "https://localhost:8080/",
          "height": 446
        },
        "id": "qVXsIX-mkGJ1",
        "outputId": "491db2d4-4b1a-4c74-cbe6-10e6128e7bb9"
      },
      "source": [
        "fig = plt.figure(figsize=(7,7))\r\n",
        "\r\n",
        "plt.plot(XX_train_n,yy_train_n, 'o', color='blue', label='Training points')\r\n",
        "plt.plot(XX_test_n,yy_test_n, 'o', color='green', label='Testing points')\r\n",
        "\r\n",
        "points = np.linspace(min(XX_test_n), max(XX_test_n),num=100)\r\n",
        "plt.plot(points, (funct(points*std+mean)-mean1)/std1,  color='red', label='Function')\r\n",
        "\r\n",
        "plt.plot(points, model0.predict(points),  color='orange', label='Neural net')\r\n",
        "\r\n",
        "\r\n",
        "plt.legend()\r\n",
        "\r\n",
        "\r\n",
        "plt.show"
      ],
      "execution_count": 21,
      "outputs": [
        {
          "output_type": "execute_result",
          "data": {
            "text/plain": [
              "<function matplotlib.pyplot.show>"
            ]
          },
          "metadata": {
            "tags": []
          },
          "execution_count": 21
        },
        {
          "output_type": "display_data",
          "data": {
            "image/png": "[encoded data removed]",
            "text/plain": [
              "<Figure size 504x504 with 1 Axes>"
            ]
          },
          "metadata": {
            "tags": [],
            "needs_background": "light"
          }
        }
      ]
    }
  ]
}